{
 "cells": [
  {
   "cell_type": "markdown",
   "metadata": {},
   "source": [
    "# Coleta de dados no MongoBD com Python"
   ]
  },
  {
   "cell_type": "markdown",
   "metadata": {},
   "source": [
    "### Importando bibliotecas\n",
    "\n",
    "#### comando para instalar pymmongo caso não esteja instalado\n",
    "#### conda install -c wakari pymongo"
   ]
  },
  {
   "cell_type": "code",
   "execution_count": 1,
   "metadata": {},
   "outputs": [],
   "source": [
    "import pymongo"
   ]
  },
  {
   "cell_type": "code",
   "execution_count": 2,
   "metadata": {},
   "outputs": [],
   "source": [
    "#Conexão com o banco de dados\n",
    "conn = pymongo.MongoClient('localhost',27017)"
   ]
  },
  {
   "cell_type": "code",
   "execution_count": 3,
   "metadata": {},
   "outputs": [
    {
     "data": {
      "text/plain": [
       "['admin', 'config', 'learnMongo', 'local']"
      ]
     },
     "execution_count": 3,
     "metadata": {},
     "output_type": "execute_result"
    }
   ],
   "source": [
    "#lista os banco de dados\n",
    "conn.list_database_names()"
   ]
  },
  {
   "cell_type": "code",
   "execution_count": 4,
   "metadata": {},
   "outputs": [],
   "source": [
    "#seleciona o banco de dados e joga na variável\n",
    "db = conn.learnMongo"
   ]
  },
  {
   "cell_type": "code",
   "execution_count": 5,
   "metadata": {},
   "outputs": [
    {
     "data": {
      "text/plain": [
       "['iris', 'pessoas']"
      ]
     },
     "execution_count": 5,
     "metadata": {},
     "output_type": "execute_result"
    }
   ],
   "source": [
    "# busca as coleções existentes no banco escolhido\n",
    "db.list_collection_names()"
   ]
  },
  {
   "cell_type": "code",
   "execution_count": 6,
   "metadata": {},
   "outputs": [],
   "source": [
    "#seta em uma variável uma determinada coleção  \n",
    "collection = db.iris"
   ]
  },
  {
   "cell_type": "code",
   "execution_count": 7,
   "metadata": {},
   "outputs": [
    {
     "data": {
      "text/plain": [
       "{'_id': ObjectId('5fe25ae6e82b00006e005829'),\n",
       " 'Id': 1,\n",
       " 'SepalLengthCm': 5.1,\n",
       " 'SepalWidthCm': 3.5,\n",
       " 'PetalLengthCm': 1.4,\n",
       " 'PetalWidthCm': 0.2,\n",
       " 'Species': 'Iris-setosa'}"
      ]
     },
     "execution_count": 7,
     "metadata": {},
     "output_type": "execute_result"
    }
   ],
   "source": [
    "#seleciona o primeiro elemento da coleção\n",
    "collection.find_one()"
   ]
  },
  {
   "cell_type": "code",
   "execution_count": 8,
   "metadata": {},
   "outputs": [
    {
     "name": "stdout",
     "output_type": "stream",
     "text": [
      "{'_id': ObjectId('5fe25ae6e82b00006e005829'), 'Id': 1, 'SepalLengthCm': 5.1, 'SepalWidthCm': 3.5, 'PetalLengthCm': 1.4, 'PetalWidthCm': 0.2, 'Species': 'Iris-setosa'}\n"
     ]
    }
   ],
   "source": [
    "#seleciona o primeiro elemento da coleção que atenda a condição\n",
    "print(collection.find_one({'Species' : 'Iris-setosa'}))"
   ]
  },
  {
   "cell_type": "code",
   "execution_count": 9,
   "metadata": {},
   "outputs": [],
   "source": [
    "#importação de pacote para imprimir de forma mais amigável\n",
    "import pprint"
   ]
  },
  {
   "cell_type": "code",
   "execution_count": 10,
   "metadata": {},
   "outputs": [
    {
     "name": "stdout",
     "output_type": "stream",
     "text": [
      "{'Id': 1,\n",
      " 'PetalLengthCm': 1.4,\n",
      " 'PetalWidthCm': 0.2,\n",
      " 'SepalLengthCm': 5.1,\n",
      " 'SepalWidthCm': 3.5,\n",
      " 'Species': 'Iris-setosa',\n",
      " '_id': ObjectId('5fe25ae6e82b00006e005829')}\n"
     ]
    }
   ],
   "source": [
    "pprint.pprint(collection.find_one({'Species' : 'Iris-setosa'}))"
   ]
  },
  {
   "cell_type": "code",
   "execution_count": 12,
   "metadata": {},
   "outputs": [
    {
     "name": "stdout",
     "output_type": "stream",
     "text": [
      "{'Id': 51,\n",
      " 'PetalLengthCm': 4.7,\n",
      " 'PetalWidthCm': 1.4,\n",
      " 'SepalLengthCm': 7.0,\n",
      " 'SepalWidthCm': 3.2,\n",
      " 'Species': 'Iris-versicolor',\n",
      " '_id': ObjectId('5fe25ae6e82b00006e00585b')}\n",
      "{'Id': 52,\n",
      " 'PetalLengthCm': 4.5,\n",
      " 'PetalWidthCm': 1.5,\n",
      " 'SepalLengthCm': 6.4,\n",
      " 'SepalWidthCm': 3.2,\n",
      " 'Species': 'Iris-versicolor',\n",
      " '_id': ObjectId('5fe25ae6e82b00006e00585c')}\n",
      "{'Id': 53,\n",
      " 'PetalLengthCm': 4.9,\n",
      " 'PetalWidthCm': 1.5,\n",
      " 'SepalLengthCm': 6.9,\n",
      " 'SepalWidthCm': 3.1,\n",
      " 'Species': 'Iris-versicolor',\n",
      " '_id': ObjectId('5fe25ae6e82b00006e00585d')}\n",
      "{'Id': 54,\n",
      " 'PetalLengthCm': 4.0,\n",
      " 'PetalWidthCm': 1.3,\n",
      " 'SepalLengthCm': 5.5,\n",
      " 'SepalWidthCm': 2.3,\n",
      " 'Species': 'Iris-versicolor',\n",
      " '_id': ObjectId('5fe25ae6e82b00006e00585e')}\n",
      "{'Id': 55,\n",
      " 'PetalLengthCm': 4.6,\n",
      " 'PetalWidthCm': 1.5,\n",
      " 'SepalLengthCm': 6.5,\n",
      " 'SepalWidthCm': 2.8,\n",
      " 'Species': 'Iris-versicolor',\n",
      " '_id': ObjectId('5fe25ae6e82b00006e00585f')}\n",
      "{'Id': 56,\n",
      " 'PetalLengthCm': 4.5,\n",
      " 'PetalWidthCm': 1.3,\n",
      " 'SepalLengthCm': 5.7,\n",
      " 'SepalWidthCm': 2.8,\n",
      " 'Species': 'Iris-versicolor',\n",
      " '_id': ObjectId('5fe25ae6e82b00006e005860')}\n",
      "{'Id': 57,\n",
      " 'PetalLengthCm': 4.7,\n",
      " 'PetalWidthCm': 1.6,\n",
      " 'SepalLengthCm': 6.3,\n",
      " 'SepalWidthCm': 3.3,\n",
      " 'Species': 'Iris-versicolor',\n",
      " '_id': ObjectId('5fe25ae6e82b00006e005861')}\n",
      "{'Id': 58,\n",
      " 'PetalLengthCm': 3.3,\n",
      " 'PetalWidthCm': 1.0,\n",
      " 'SepalLengthCm': 4.9,\n",
      " 'SepalWidthCm': 2.4,\n",
      " 'Species': 'Iris-versicolor',\n",
      " '_id': ObjectId('5fe25ae6e82b00006e005862')}\n",
      "{'Id': 59,\n",
      " 'PetalLengthCm': 4.6,\n",
      " 'PetalWidthCm': 1.3,\n",
      " 'SepalLengthCm': 6.6,\n",
      " 'SepalWidthCm': 2.9,\n",
      " 'Species': 'Iris-versicolor',\n",
      " '_id': ObjectId('5fe25ae6e82b00006e005863')}\n",
      "{'Id': 60,\n",
      " 'PetalLengthCm': 3.9,\n",
      " 'PetalWidthCm': 1.4,\n",
      " 'SepalLengthCm': 5.2,\n",
      " 'SepalWidthCm': 2.7,\n",
      " 'Species': 'Iris-versicolor',\n",
      " '_id': ObjectId('5fe25ae6e82b00006e005864')}\n",
      "{'Id': 61,\n",
      " 'PetalLengthCm': 3.5,\n",
      " 'PetalWidthCm': 1.0,\n",
      " 'SepalLengthCm': 5.0,\n",
      " 'SepalWidthCm': 2.0,\n",
      " 'Species': 'Iris-versicolor',\n",
      " '_id': ObjectId('5fe25ae6e82b00006e005865')}\n",
      "{'Id': 62,\n",
      " 'PetalLengthCm': 4.2,\n",
      " 'PetalWidthCm': 1.5,\n",
      " 'SepalLengthCm': 5.9,\n",
      " 'SepalWidthCm': 3.0,\n",
      " 'Species': 'Iris-versicolor',\n",
      " '_id': ObjectId('5fe25ae6e82b00006e005866')}\n",
      "{'Id': 63,\n",
      " 'PetalLengthCm': 4.0,\n",
      " 'PetalWidthCm': 1.0,\n",
      " 'SepalLengthCm': 6.0,\n",
      " 'SepalWidthCm': 2.2,\n",
      " 'Species': 'Iris-versicolor',\n",
      " '_id': ObjectId('5fe25ae6e82b00006e005867')}\n",
      "{'Id': 64,\n",
      " 'PetalLengthCm': 4.7,\n",
      " 'PetalWidthCm': 1.4,\n",
      " 'SepalLengthCm': 6.1,\n",
      " 'SepalWidthCm': 2.9,\n",
      " 'Species': 'Iris-versicolor',\n",
      " '_id': ObjectId('5fe25ae6e82b00006e005868')}\n",
      "{'Id': 65,\n",
      " 'PetalLengthCm': 3.6,\n",
      " 'PetalWidthCm': 1.3,\n",
      " 'SepalLengthCm': 5.6,\n",
      " 'SepalWidthCm': 2.9,\n",
      " 'Species': 'Iris-versicolor',\n",
      " '_id': ObjectId('5fe25ae6e82b00006e005869')}\n",
      "{'Id': 66,\n",
      " 'PetalLengthCm': 4.4,\n",
      " 'PetalWidthCm': 1.4,\n",
      " 'SepalLengthCm': 6.7,\n",
      " 'SepalWidthCm': 3.1,\n",
      " 'Species': 'Iris-versicolor',\n",
      " '_id': ObjectId('5fe25ae6e82b00006e00586a')}\n",
      "{'Id': 67,\n",
      " 'PetalLengthCm': 4.5,\n",
      " 'PetalWidthCm': 1.5,\n",
      " 'SepalLengthCm': 5.6,\n",
      " 'SepalWidthCm': 3.0,\n",
      " 'Species': 'Iris-versicolor',\n",
      " '_id': ObjectId('5fe25ae6e82b00006e00586b')}\n",
      "{'Id': 68,\n",
      " 'PetalLengthCm': 4.1,\n",
      " 'PetalWidthCm': 1.0,\n",
      " 'SepalLengthCm': 5.8,\n",
      " 'SepalWidthCm': 2.7,\n",
      " 'Species': 'Iris-versicolor',\n",
      " '_id': ObjectId('5fe25ae6e82b00006e00586c')}\n",
      "{'Id': 69,\n",
      " 'PetalLengthCm': 4.5,\n",
      " 'PetalWidthCm': 1.5,\n",
      " 'SepalLengthCm': 6.2,\n",
      " 'SepalWidthCm': 2.2,\n",
      " 'Species': 'Iris-versicolor',\n",
      " '_id': ObjectId('5fe25ae6e82b00006e00586d')}\n",
      "{'Id': 70,\n",
      " 'PetalLengthCm': 3.9,\n",
      " 'PetalWidthCm': 1.1,\n",
      " 'SepalLengthCm': 5.6,\n",
      " 'SepalWidthCm': 2.5,\n",
      " 'Species': 'Iris-versicolor',\n",
      " '_id': ObjectId('5fe25ae6e82b00006e00586e')}\n",
      "{'Id': 71,\n",
      " 'PetalLengthCm': 4.8,\n",
      " 'PetalWidthCm': 1.8,\n",
      " 'SepalLengthCm': 5.9,\n",
      " 'SepalWidthCm': 3.2,\n",
      " 'Species': 'Iris-versicolor',\n",
      " '_id': ObjectId('5fe25ae6e82b00006e00586f')}\n",
      "{'Id': 72,\n",
      " 'PetalLengthCm': 4.0,\n",
      " 'PetalWidthCm': 1.3,\n",
      " 'SepalLengthCm': 6.1,\n",
      " 'SepalWidthCm': 2.8,\n",
      " 'Species': 'Iris-versicolor',\n",
      " '_id': ObjectId('5fe25ae6e82b00006e005870')}\n",
      "{'Id': 73,\n",
      " 'PetalLengthCm': 4.9,\n",
      " 'PetalWidthCm': 1.5,\n",
      " 'SepalLengthCm': 6.3,\n",
      " 'SepalWidthCm': 2.5,\n",
      " 'Species': 'Iris-versicolor',\n",
      " '_id': ObjectId('5fe25ae6e82b00006e005871')}\n",
      "{'Id': 74,\n",
      " 'PetalLengthCm': 4.7,\n",
      " 'PetalWidthCm': 1.2,\n",
      " 'SepalLengthCm': 6.1,\n",
      " 'SepalWidthCm': 2.8,\n",
      " 'Species': 'Iris-versicolor',\n",
      " '_id': ObjectId('5fe25ae6e82b00006e005872')}\n",
      "{'Id': 75,\n",
      " 'PetalLengthCm': 4.3,\n",
      " 'PetalWidthCm': 1.3,\n",
      " 'SepalLengthCm': 6.4,\n",
      " 'SepalWidthCm': 2.9,\n",
      " 'Species': 'Iris-versicolor',\n",
      " '_id': ObjectId('5fe25ae6e82b00006e005873')}\n",
      "{'Id': 76,\n",
      " 'PetalLengthCm': 4.4,\n",
      " 'PetalWidthCm': 1.4,\n",
      " 'SepalLengthCm': 6.6,\n",
      " 'SepalWidthCm': 3.0,\n",
      " 'Species': 'Iris-versicolor',\n",
      " '_id': ObjectId('5fe25ae6e82b00006e005874')}\n",
      "{'Id': 77,\n",
      " 'PetalLengthCm': 4.8,\n",
      " 'PetalWidthCm': 1.4,\n",
      " 'SepalLengthCm': 6.8,\n",
      " 'SepalWidthCm': 2.8,\n",
      " 'Species': 'Iris-versicolor',\n",
      " '_id': ObjectId('5fe25ae6e82b00006e005875')}\n",
      "{'Id': 78,\n",
      " 'PetalLengthCm': 5.0,\n",
      " 'PetalWidthCm': 1.7,\n",
      " 'SepalLengthCm': 6.7,\n",
      " 'SepalWidthCm': 3.0,\n",
      " 'Species': 'Iris-versicolor',\n",
      " '_id': ObjectId('5fe25ae6e82b00006e005876')}\n",
      "{'Id': 79,\n",
      " 'PetalLengthCm': 4.5,\n",
      " 'PetalWidthCm': 1.5,\n",
      " 'SepalLengthCm': 6.0,\n",
      " 'SepalWidthCm': 2.9,\n",
      " 'Species': 'Iris-versicolor',\n",
      " '_id': ObjectId('5fe25ae6e82b00006e005877')}\n",
      "{'Id': 80,\n",
      " 'PetalLengthCm': 3.5,\n",
      " 'PetalWidthCm': 1.0,\n",
      " 'SepalLengthCm': 5.7,\n",
      " 'SepalWidthCm': 2.6,\n",
      " 'Species': 'Iris-versicolor',\n",
      " '_id': ObjectId('5fe25ae6e82b00006e005878')}\n",
      "{'Id': 81,\n",
      " 'PetalLengthCm': 3.8,\n",
      " 'PetalWidthCm': 1.1,\n",
      " 'SepalLengthCm': 5.5,\n",
      " 'SepalWidthCm': 2.4,\n",
      " 'Species': 'Iris-versicolor',\n",
      " '_id': ObjectId('5fe25ae6e82b00006e005879')}\n",
      "{'Id': 82,\n",
      " 'PetalLengthCm': 3.7,\n",
      " 'PetalWidthCm': 1.0,\n",
      " 'SepalLengthCm': 5.5,\n",
      " 'SepalWidthCm': 2.4,\n",
      " 'Species': 'Iris-versicolor',\n",
      " '_id': ObjectId('5fe25ae6e82b00006e00587a')}\n",
      "{'Id': 83,\n",
      " 'PetalLengthCm': 3.9,\n",
      " 'PetalWidthCm': 1.2,\n",
      " 'SepalLengthCm': 5.8,\n",
      " 'SepalWidthCm': 2.7,\n",
      " 'Species': 'Iris-versicolor',\n",
      " '_id': ObjectId('5fe25ae6e82b00006e00587b')}\n",
      "{'Id': 84,\n",
      " 'PetalLengthCm': 5.1,\n",
      " 'PetalWidthCm': 1.6,\n",
      " 'SepalLengthCm': 6.0,\n",
      " 'SepalWidthCm': 2.7,\n",
      " 'Species': 'Iris-versicolor',\n",
      " '_id': ObjectId('5fe25ae6e82b00006e00587c')}\n",
      "{'Id': 85,\n",
      " 'PetalLengthCm': 4.5,\n",
      " 'PetalWidthCm': 1.5,\n",
      " 'SepalLengthCm': 5.4,\n",
      " 'SepalWidthCm': 3.0,\n",
      " 'Species': 'Iris-versicolor',\n",
      " '_id': ObjectId('5fe25ae6e82b00006e00587d')}\n",
      "{'Id': 86,\n",
      " 'PetalLengthCm': 4.5,\n",
      " 'PetalWidthCm': 1.6,\n",
      " 'SepalLengthCm': 6.0,\n",
      " 'SepalWidthCm': 3.4,\n",
      " 'Species': 'Iris-versicolor',\n",
      " '_id': ObjectId('5fe25ae6e82b00006e00587e')}\n",
      "{'Id': 87,\n",
      " 'PetalLengthCm': 4.7,\n",
      " 'PetalWidthCm': 1.5,\n",
      " 'SepalLengthCm': 6.7,\n",
      " 'SepalWidthCm': 3.1,\n",
      " 'Species': 'Iris-versicolor',\n",
      " '_id': ObjectId('5fe25ae6e82b00006e00587f')}\n",
      "{'Id': 88,\n",
      " 'PetalLengthCm': 4.4,\n",
      " 'PetalWidthCm': 1.3,\n",
      " 'SepalLengthCm': 6.3,\n",
      " 'SepalWidthCm': 2.3,\n",
      " 'Species': 'Iris-versicolor',\n",
      " '_id': ObjectId('5fe25ae6e82b00006e005880')}\n",
      "{'Id': 89,\n",
      " 'PetalLengthCm': 4.1,\n",
      " 'PetalWidthCm': 1.3,\n",
      " 'SepalLengthCm': 5.6,\n",
      " 'SepalWidthCm': 3.0,\n",
      " 'Species': 'Iris-versicolor',\n",
      " '_id': ObjectId('5fe25ae6e82b00006e005881')}\n",
      "{'Id': 90,\n",
      " 'PetalLengthCm': 4.0,\n",
      " 'PetalWidthCm': 1.3,\n",
      " 'SepalLengthCm': 5.5,\n",
      " 'SepalWidthCm': 2.5,\n",
      " 'Species': 'Iris-versicolor',\n",
      " '_id': ObjectId('5fe25ae6e82b00006e005882')}\n",
      "{'Id': 91,\n",
      " 'PetalLengthCm': 4.4,\n",
      " 'PetalWidthCm': 1.2,\n",
      " 'SepalLengthCm': 5.5,\n",
      " 'SepalWidthCm': 2.6,\n",
      " 'Species': 'Iris-versicolor',\n",
      " '_id': ObjectId('5fe25ae6e82b00006e005883')}\n",
      "{'Id': 92,\n",
      " 'PetalLengthCm': 4.6,\n",
      " 'PetalWidthCm': 1.4,\n",
      " 'SepalLengthCm': 6.1,\n",
      " 'SepalWidthCm': 3.0,\n",
      " 'Species': 'Iris-versicolor',\n",
      " '_id': ObjectId('5fe25ae6e82b00006e005884')}\n",
      "{'Id': 93,\n",
      " 'PetalLengthCm': 4.0,\n",
      " 'PetalWidthCm': 1.2,\n",
      " 'SepalLengthCm': 5.8,\n",
      " 'SepalWidthCm': 2.6,\n",
      " 'Species': 'Iris-versicolor',\n",
      " '_id': ObjectId('5fe25ae6e82b00006e005885')}\n",
      "{'Id': 94,\n",
      " 'PetalLengthCm': 3.3,\n",
      " 'PetalWidthCm': 1.0,\n",
      " 'SepalLengthCm': 5.0,\n",
      " 'SepalWidthCm': 2.3,\n",
      " 'Species': 'Iris-versicolor',\n",
      " '_id': ObjectId('5fe25ae6e82b00006e005886')}\n",
      "{'Id': 95,\n",
      " 'PetalLengthCm': 4.2,\n",
      " 'PetalWidthCm': 1.3,\n",
      " 'SepalLengthCm': 5.6,\n",
      " 'SepalWidthCm': 2.7,\n",
      " 'Species': 'Iris-versicolor',\n",
      " '_id': ObjectId('5fe25ae6e82b00006e005887')}\n",
      "{'Id': 96,\n",
      " 'PetalLengthCm': 4.2,\n",
      " 'PetalWidthCm': 1.2,\n",
      " 'SepalLengthCm': 5.7,\n",
      " 'SepalWidthCm': 3.0,\n",
      " 'Species': 'Iris-versicolor',\n",
      " '_id': ObjectId('5fe25ae6e82b00006e005888')}\n",
      "{'Id': 97,\n",
      " 'PetalLengthCm': 4.2,\n",
      " 'PetalWidthCm': 1.3,\n",
      " 'SepalLengthCm': 5.7,\n",
      " 'SepalWidthCm': 2.9,\n",
      " 'Species': 'Iris-versicolor',\n",
      " '_id': ObjectId('5fe25ae6e82b00006e005889')}\n",
      "{'Id': 98,\n",
      " 'PetalLengthCm': 4.3,\n",
      " 'PetalWidthCm': 1.3,\n",
      " 'SepalLengthCm': 6.2,\n",
      " 'SepalWidthCm': 2.9,\n",
      " 'Species': 'Iris-versicolor',\n",
      " '_id': ObjectId('5fe25ae6e82b00006e00588a')}\n",
      "{'Id': 99,\n",
      " 'PetalLengthCm': 3.0,\n",
      " 'PetalWidthCm': 1.1,\n",
      " 'SepalLengthCm': 5.1,\n",
      " 'SepalWidthCm': 2.5,\n",
      " 'Species': 'Iris-versicolor',\n",
      " '_id': ObjectId('5fe25ae6e82b00006e00588b')}\n",
      "{'Id': 100,\n",
      " 'PetalLengthCm': 4.1,\n",
      " 'PetalWidthCm': 1.3,\n",
      " 'SepalLengthCm': 5.7,\n",
      " 'SepalWidthCm': 2.8,\n",
      " 'Species': 'Iris-versicolor',\n",
      " '_id': ObjectId('5fe25ae6e82b00006e00588c')}\n"
     ]
    }
   ],
   "source": [
    "for documents in collection.find({'Species' : 'Iris-versicolor'}):\n",
    "    pprint.pprint(documents)"
   ]
  },
  {
   "cell_type": "code",
   "execution_count": 13,
   "metadata": {},
   "outputs": [
    {
     "data": {
      "text/plain": [
       "['iris', 'pessoas']"
      ]
     },
     "execution_count": 13,
     "metadata": {},
     "output_type": "execute_result"
    }
   ],
   "source": [
    "db.list_collection_names()"
   ]
  },
  {
   "cell_type": "markdown",
   "metadata": {},
   "source": [
    "#### Criando bando de dados e coleção"
   ]
  },
  {
   "cell_type": "code",
   "execution_count": 14,
   "metadata": {},
   "outputs": [],
   "source": [
    "conn = pymongo.MongoClient(\"mongodb://localhost:27017/\")"
   ]
  },
  {
   "cell_type": "code",
   "execution_count": 15,
   "metadata": {},
   "outputs": [
    {
     "data": {
      "text/plain": [
       "['admin', 'config', 'learnMongo', 'local']"
      ]
     },
     "execution_count": 15,
     "metadata": {},
     "output_type": "execute_result"
    }
   ],
   "source": [
    "conn.list_database_names()"
   ]
  },
  {
   "cell_type": "code",
   "execution_count": 16,
   "metadata": {},
   "outputs": [],
   "source": [
    "db = conn[\"Vendas\"]"
   ]
  },
  {
   "cell_type": "code",
   "execution_count": 20,
   "metadata": {},
   "outputs": [
    {
     "data": {
      "text/plain": [
       "['admin', 'config', 'learnMongo', 'local']"
      ]
     },
     "execution_count": 20,
     "metadata": {},
     "output_type": "execute_result"
    }
   ],
   "source": [
    "conn.list_database_names()"
   ]
  },
  {
   "cell_type": "code",
   "execution_count": 18,
   "metadata": {},
   "outputs": [],
   "source": [
    "colecao = db[\"clientes\"]"
   ]
  },
  {
   "cell_type": "code",
   "execution_count": 19,
   "metadata": {},
   "outputs": [
    {
     "data": {
      "text/plain": [
       "[]"
      ]
     },
     "execution_count": 19,
     "metadata": {},
     "output_type": "execute_result"
    }
   ],
   "source": [
    "db.list_collection_names()"
   ]
  },
  {
   "cell_type": "code",
   "execution_count": 21,
   "metadata": {},
   "outputs": [],
   "source": [
    "documento = {\"nome\" : \"Maria\", \"idade\" : 23}"
   ]
  },
  {
   "cell_type": "code",
   "execution_count": 22,
   "metadata": {},
   "outputs": [],
   "source": [
    "resultado = colecao.insert_one(documento)"
   ]
  },
  {
   "cell_type": "code",
   "execution_count": 23,
   "metadata": {},
   "outputs": [
    {
     "name": "stdout",
     "output_type": "stream",
     "text": [
      "<pymongo.results.InsertOneResult object at 0x000001FA1D4C31C0>\n"
     ]
    }
   ],
   "source": [
    "print(resultado)"
   ]
  },
  {
   "cell_type": "code",
   "execution_count": 25,
   "metadata": {},
   "outputs": [
    {
     "data": {
      "text/plain": [
       "['Vendas', 'admin', 'config', 'learnMongo', 'local']"
      ]
     },
     "execution_count": 25,
     "metadata": {},
     "output_type": "execute_result"
    }
   ],
   "source": [
    "conn.list_database_names()"
   ]
  },
  {
   "cell_type": "code",
   "execution_count": 26,
   "metadata": {},
   "outputs": [
    {
     "data": {
      "text/plain": [
       "['clientes']"
      ]
     },
     "execution_count": 26,
     "metadata": {},
     "output_type": "execute_result"
    }
   ],
   "source": [
    "db.list_collection_names()"
   ]
  },
  {
   "cell_type": "code",
   "execution_count": 27,
   "metadata": {},
   "outputs": [
    {
     "name": "stdout",
     "output_type": "stream",
     "text": [
      "{'_id': ObjectId('5fea6a230b82e2bc8d3f8692'), 'nome': 'Maria', 'idade': 23}\n"
     ]
    }
   ],
   "source": [
    "print(colecao.find_one())"
   ]
  },
  {
   "cell_type": "code",
   "execution_count": 29,
   "metadata": {},
   "outputs": [
    {
     "name": "stdout",
     "output_type": "stream",
     "text": [
      "{'_id': ObjectId('5fea6a230b82e2bc8d3f8692'), 'idade': 23, 'nome': 'Maria'}\n"
     ]
    }
   ],
   "source": [
    "for resultado in colecao.find():\n",
    "    pprint.pprint(resultado)"
   ]
  },
  {
   "cell_type": "code",
   "execution_count": 31,
   "metadata": {},
   "outputs": [],
   "source": [
    "documento = [\n",
    "    {\"nome\" : \"Jorge\", \"idade\" : 33},\n",
    "    {\"nome\" : \"Ana\"},\n",
    "    {\"nome\" : \"William\", \"endereco\" : \"Avenida Central n. 954\"},\n",
    "    {\"nome\" : \"ana\", \"endereco\" : \"Avenida Central n. 954\"},\n",
    "    {\"nome\" : \"William\", \"endereco\" : \"Avenida Central n. 954\"},\n",
    "    {\"nome\" : \"william\"}\n",
    "]"
   ]
  },
  {
   "cell_type": "code",
   "execution_count": 32,
   "metadata": {},
   "outputs": [
    {
     "name": "stdout",
     "output_type": "stream",
     "text": [
      "[{'idade': 33, 'nome': 'Jorge'},\n",
      " {'nome': 'Ana'},\n",
      " {'endereco': 'Avenida Central n. 954', 'nome': 'William'},\n",
      " {'endereco': 'Avenida Central n. 954', 'nome': 'ana'},\n",
      " {'endereco': 'Avenida Central n. 954', 'nome': 'William'},\n",
      " {'nome': 'william'}]\n"
     ]
    }
   ],
   "source": [
    "pprint.pprint(documento)"
   ]
  },
  {
   "cell_type": "code",
   "execution_count": 33,
   "metadata": {},
   "outputs": [],
   "source": [
    "resultado = colecao.insert_many(documento)"
   ]
  },
  {
   "cell_type": "code",
   "execution_count": 34,
   "metadata": {},
   "outputs": [
    {
     "name": "stdout",
     "output_type": "stream",
     "text": [
      "<pymongo.results.InsertManyResult object at 0x000001FA1D4DE680>\n"
     ]
    }
   ],
   "source": [
    "print(resultado)"
   ]
  },
  {
   "cell_type": "code",
   "execution_count": 35,
   "metadata": {},
   "outputs": [
    {
     "name": "stdout",
     "output_type": "stream",
     "text": [
      "{'_id': ObjectId('5fea6a230b82e2bc8d3f8692'), 'idade': 23, 'nome': 'Maria'}\n",
      "{'_id': ObjectId('5fea6bb80b82e2bc8d3f8693'), 'idade': 33, 'nome': 'Jorge'}\n",
      "{'_id': ObjectId('5fea6bb80b82e2bc8d3f8694'), 'nome': 'Ana'}\n",
      "{'_id': ObjectId('5fea6bb80b82e2bc8d3f8695'),\n",
      " 'endereco': 'Avenida Central n. 954',\n",
      " 'nome': 'William'}\n",
      "{'_id': ObjectId('5fea6bb80b82e2bc8d3f8696'),\n",
      " 'endereco': 'Avenida Central n. 954',\n",
      " 'nome': 'ana'}\n",
      "{'_id': ObjectId('5fea6bb80b82e2bc8d3f8697'),\n",
      " 'endereco': 'Avenida Central n. 954',\n",
      " 'nome': 'William'}\n",
      "{'_id': ObjectId('5fea6bb80b82e2bc8d3f8698'), 'nome': 'william'}\n"
     ]
    }
   ],
   "source": [
    "for resultado in colecao.find():\n",
    "    pprint.pprint(resultado)"
   ]
  },
  {
   "cell_type": "code",
   "execution_count": 36,
   "metadata": {},
   "outputs": [
    {
     "name": "stdout",
     "output_type": "stream",
     "text": [
      "{'_id': ObjectId('5fea6a230b82e2bc8d3f8692'), 'idade': 23, 'nome': 'Maria'}\n",
      "{'_id': ObjectId('5fea6bb80b82e2bc8d3f8693'), 'idade': 33, 'nome': 'Jorge'}\n",
      "{'_id': ObjectId('5fea6bb80b82e2bc8d3f8694'), 'nome': 'Ana'}\n",
      "{'_id': ObjectId('5fea6bb80b82e2bc8d3f8695'),\n",
      " 'endereco': 'Avenida Central n. 954',\n",
      " 'nome': 'William'}\n",
      "{'_id': ObjectId('5fea6bb80b82e2bc8d3f8696'),\n",
      " 'endereco': 'Avenida Central n. 954',\n",
      " 'logradouro': 'Avenida JK',\n",
      " 'nome': 'ana',\n",
      " 'num': 345}\n",
      "{'_id': ObjectId('5fea6bb80b82e2bc8d3f8697'),\n",
      " 'endereco': 'Avenida Central n. 954',\n",
      " 'nome': 'William'}\n",
      "{'_id': ObjectId('5fea6bb80b82e2bc8d3f8698'), 'nome': 'william'}\n"
     ]
    }
   ],
   "source": [
    "condicao = {\"nome\" : \"ana\"}\n",
    "valor = { \"$set\": {'logradouro': \"Avenida JK\", \"num\": 345} }\n",
    "\n",
    "colecao.update_one(condicao, valor)\n",
    "\n",
    "for resultado in colecao.find():\n",
    "    pprint.pprint(resultado)"
   ]
  }
 ],
 "metadata": {
  "kernelspec": {
   "display_name": "Python 3",
   "language": "python",
   "name": "python3"
  },
  "language_info": {
   "codemirror_mode": {
    "name": "ipython",
    "version": 3
   },
   "file_extension": ".py",
   "mimetype": "text/x-python",
   "name": "python",
   "nbconvert_exporter": "python",
   "pygments_lexer": "ipython3",
   "version": "3.8.5"
  }
 },
 "nbformat": 4,
 "nbformat_minor": 4
}

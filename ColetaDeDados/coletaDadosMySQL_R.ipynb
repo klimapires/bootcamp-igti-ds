{
 "cells": [
  {
   "cell_type": "markdown",
   "metadata": {},
   "source": [
    "# Coleta de Dados no MySQL utilizando o R"
   ]
  },
  {
   "cell_type": "markdown",
   "metadata": {},
   "source": [
    "#### Para mais detalhes sobre a biblioteca RMariaDB consulte:\n",
    "* https://cran.r-project.org/web/packages/RMariaDB/RMariaDB.pdf"
   ]
  },
  {
   "cell_type": "markdown",
   "metadata": {},
   "source": [
    "##### Instalar o pacote RMariaDB"
   ]
  },
  {
   "cell_type": "code",
   "execution_count": 5,
   "metadata": {},
   "outputs": [
    {
     "name": "stdout",
     "output_type": "stream",
     "text": [
      "package 'RMySQL' successfully unpacked and MD5 sums checked\n",
      "\n",
      "The downloaded binary packages are in\n",
      "\tC:\\Users\\Kleber Lima\\AppData\\Local\\Temp\\RtmpodLYYJ\\downloaded_packages\n"
     ]
    }
   ],
   "source": [
    "# Instalar o pacote RMariaD se for a primeira vez que for utlizar.\n",
    "\n",
    "install.packages(\"RMySQL\")"
   ]
  },
  {
   "cell_type": "markdown",
   "metadata": {},
   "source": [
    "##### Importar o pacote RMariaDB"
   ]
  },
  {
   "cell_type": "code",
   "execution_count": 1,
   "metadata": {},
   "outputs": [
    {
     "name": "stderr",
     "output_type": "stream",
     "text": [
      "Loading required package: RMySQL\n",
      "Warning message:\n",
      "\"package 'RMySQL' was built under R version 3.6.3\"Loading required package: DBI\n",
      "Warning message:\n",
      "\"package 'DBI' was built under R version 3.6.3\""
     ]
    }
   ],
   "source": [
    "#importação do pacote deve ser SEMPRE realizada\n",
    "\n",
    "#Importa pacote RMariaDB se ele ainda não foi carregado\n",
    "if(!\"RMySQL\" %in% (.packages())){require(RMySQL)}"
   ]
  },
  {
   "cell_type": "markdown",
   "metadata": {},
   "source": [
    "**Observação 1:** A mensagem abaixo não indica um erro, é um alerta indicando a versão do R no qual o pacote RMariaDB foi construindo.\n",
    "\n",
    "*Loading required package: RMariaDB\n",
    "Warning message:\n",
    "\"package 'RMariaDB' was built under R version 3.6.3\"*\n",
    "\n",
    "**Observação 2:** A mensagem abaixo indica um erro, alertando que não existe o pacote RMariaDB instalado. Para corrigir, instale o pacote.\n",
    "\n",
    "*Loading required package: RMariaDB\n",
    "Warning message in library(package, lib.loc = lib.loc, character.only = TRUE, logical.return = TRUE, :\n",
    "\"there is no package called 'RMariaDB'\"*\n"
   ]
  },
  {
   "cell_type": "code",
   "execution_count": 2,
   "metadata": {},
   "outputs": [],
   "source": [
    "library(RMySQL)"
   ]
  },
  {
   "cell_type": "code",
   "execution_count": 43,
   "metadata": {},
   "outputs": [],
   "source": [
    "#Conecta ao SGBD MySQL --> Banco de dados bootcamp\n",
    "con <- dbConnect(MySQL(), user = \"root\", password = \"*M3G4M4N\",\n",
    "                 dbname = \"bootcamp\", host = \"localhost\",serverTimezone='UTC')"
   ]
  },
  {
   "cell_type": "markdown",
   "metadata": {},
   "source": [
    "**OBS:** Caso ocorra o erro abaixo: \n",
    "*Error: Failed to connect: Plugin caching_sha2_password could not be loaded: The specified module could not be found.*\n",
    "\n",
    "Acesse seu SGBD MySQL Server utilizando o MySQL Workbench e execute o comando abaixo no seu esquema de BD\n",
    "\n",
    "    ALTER USER 'root'@'localhost' IDENTIFIED WITH mysql_native_password BY 'igti';\n",
    "\n",
    "Agora execute o comando de conexão novamente."
   ]
  },
  {
   "cell_type": "code",
   "execution_count": 4,
   "metadata": {},
   "outputs": [
    {
     "data": {
      "text/html": [
       "<ol class=list-inline>\n",
       "\t<li>'caracteristicageralimovel'</li>\n",
       "\t<li>'caracteristicasgerais'</li>\n",
       "\t<li>'cidade'</li>\n",
       "\t<li>'estado'</li>\n",
       "\t<li>'imovel'</li>\n",
       "\t<li>'tipounidade'</li>\n",
       "</ol>\n"
      ],
      "text/latex": [
       "\\begin{enumerate*}\n",
       "\\item 'caracteristicageralimovel'\n",
       "\\item 'caracteristicasgerais'\n",
       "\\item 'cidade'\n",
       "\\item 'estado'\n",
       "\\item 'imovel'\n",
       "\\item 'tipounidade'\n",
       "\\end{enumerate*}\n"
      ],
      "text/markdown": [
       "1. 'caracteristicageralimovel'\n",
       "2. 'caracteristicasgerais'\n",
       "3. 'cidade'\n",
       "4. 'estado'\n",
       "5. 'imovel'\n",
       "6. 'tipounidade'\n",
       "\n",
       "\n"
      ],
      "text/plain": [
       "[1] \"caracteristicageralimovel\" \"caracteristicasgerais\"    \n",
       "[3] \"cidade\"                    \"estado\"                   \n",
       "[5] \"imovel\"                    \"tipounidade\"              "
      ]
     },
     "metadata": {},
     "output_type": "display_data"
    }
   ],
   "source": [
    "#Para listar quais tabela existem no esquema .bootcamp. execute:\n",
    "\n",
    "#Lê a lista de tabelas no BD\n",
    "tables <- dbListTables(con) \n",
    "tables"
   ]
  },
  {
   "cell_type": "code",
   "execution_count": 30,
   "metadata": {},
   "outputs": [
    {
     "data": {
      "text/html": [
       "<table>\n",
       "<thead><tr><th scope=col>CodEstadoIBGE</th><th scope=col>NomeEstado</th><th scope=col>SiglaEstado</th><th scope=col>Regiao</th></tr></thead>\n",
       "<tbody>\n",
       "</tbody>\n",
       "</table>\n"
      ],
      "text/latex": [
       "\\begin{tabular}{r|llll}\n",
       " CodEstadoIBGE & NomeEstado & SiglaEstado & Regiao\\\\\n",
       "\\hline\n",
       "\\end{tabular}\n"
      ],
      "text/markdown": [
       "\n",
       "| CodEstadoIBGE | NomeEstado | SiglaEstado | Regiao |\n",
       "|---|---|---|---|\n",
       "\n"
      ],
      "text/plain": [
       "     CodEstadoIBGE NomeEstado SiglaEstado Regiao"
      ]
     },
     "metadata": {},
     "output_type": "display_data"
    }
   ],
   "source": [
    "#Para consultar quais os dados de uma tabela execute:\n",
    "# dbReadTable(nome-da-conexao,\"nome-da-tabela\")\n",
    "\n",
    "#Consulta os dados da tabela *estado*\n",
    "tabledata <- dbReadTable(con,\"estado\")\n",
    "tabledata"
   ]
  },
  {
   "cell_type": "markdown",
   "metadata": {},
   "source": [
    "**OBS:** Veja que o resultado do comando acima demonstra que a tabela 'estado' não possue dados."
   ]
  },
  {
   "cell_type": "code",
   "execution_count": 31,
   "metadata": {},
   "outputs": [
    {
     "data": {
      "text/html": [
       "<table>\n",
       "<thead><tr><th scope=col>idTipoUnidade</th><th scope=col>dscTipoUnidade</th></tr></thead>\n",
       "<tbody>\n",
       "\t<tr><td>1                         </td><td>Casa                      </td></tr>\n",
       "\t<tr><td>2                         </td><td>Casa geminada             </td></tr>\n",
       "\t<tr><td>3                         </td><td>Apartamento tipo          </td></tr>\n",
       "\t<tr><td>4                         </td><td>Apartamento cobertura     </td></tr>\n",
       "\t<tr><td>5                         </td><td>Apartamento área privativa</td></tr>\n",
       "\t<tr><td>6                         </td><td>Flat                      </td></tr>\n",
       "\t<tr><td>7                         </td><td>Loft                      </td></tr>\n",
       "\t<tr><td>8                         </td><td>Chácara                   </td></tr>\n",
       "</tbody>\n",
       "</table>\n"
      ],
      "text/latex": [
       "\\begin{tabular}{r|ll}\n",
       " idTipoUnidade & dscTipoUnidade\\\\\n",
       "\\hline\n",
       "\t 1                          & Casa                      \\\\\n",
       "\t 2                          & Casa geminada             \\\\\n",
       "\t 3                          & Apartamento tipo          \\\\\n",
       "\t 4                          & Apartamento cobertura     \\\\\n",
       "\t 5                          & Apartamento área privativa\\\\\n",
       "\t 6                          & Flat                      \\\\\n",
       "\t 7                          & Loft                      \\\\\n",
       "\t 8                          & Chácara                   \\\\\n",
       "\\end{tabular}\n"
      ],
      "text/markdown": [
       "\n",
       "| idTipoUnidade | dscTipoUnidade |\n",
       "|---|---|\n",
       "| 1                          | Casa                       |\n",
       "| 2                          | Casa geminada              |\n",
       "| 3                          | Apartamento tipo           |\n",
       "| 4                          | Apartamento cobertura      |\n",
       "| 5                          | Apartamento área privativa |\n",
       "| 6                          | Flat                       |\n",
       "| 7                          | Loft                       |\n",
       "| 8                          | Chácara                    |\n",
       "\n"
      ],
      "text/plain": [
       "  idTipoUnidade dscTipoUnidade            \n",
       "1 1             Casa                      \n",
       "2 2             Casa geminada             \n",
       "3 3             Apartamento tipo          \n",
       "4 4             Apartamento cobertura     \n",
       "5 5             Apartamento área privativa\n",
       "6 6             Flat                      \n",
       "7 7             Loft                      \n",
       "8 8             Chácara                   "
      ]
     },
     "metadata": {},
     "output_type": "display_data"
    }
   ],
   "source": [
    "#Consulta os dados da tabela *tipounidade*\n",
    "tabledata <- dbReadTable(con,\"tipounidade\")\n",
    "tabledata"
   ]
  },
  {
   "cell_type": "markdown",
   "metadata": {},
   "source": [
    "**OBS:** Veja que o resultado do comando acima demonstra que a tabela 'tipounidade' possue alguns dados."
   ]
  },
  {
   "cell_type": "code",
   "execution_count": 14,
   "metadata": {},
   "outputs": [
    {
     "name": "stdout",
     "output_type": "stream",
     "text": [
      "<MySQLResult:72039784,0,9>\n"
     ]
    },
    {
     "data": {
      "text/html": [
       "TRUE"
      ],
      "text/latex": [
       "TRUE"
      ],
      "text/markdown": [
       "TRUE"
      ],
      "text/plain": [
       "[1] TRUE"
      ]
     },
     "metadata": {},
     "output_type": "display_data"
    }
   ],
   "source": [
    "#Para executar um comando SQL execute:\n",
    "#dbSendQuery(nome-da-conexao,\"comando\")\n",
    "\n",
    "# Vamos inserir uma nova linha na tabela tipounidade\n",
    "# Cria o comando e salva na variável query\n",
    "query <-  \"INSERT INTO tipounidade(idTipoUnidade,dscTipoUnidade) VALUES(7,'Loft');\"\n",
    "\n",
    "results <- dbSendQuery(con,query)\n",
    "print(results)\n",
    "\n",
    "# Limpa resultados\n",
    "dbClearResult(results)"
   ]
  },
  {
   "cell_type": "markdown",
   "metadata": {},
   "source": [
    "**OBS 1:** Caso ocorra o erro: *Error: Duplicate entry '6' for key 'tipounidade.PRIMARY' [1062]*\n",
    "\n",
    "Isso significa que você violou a chave primária, ou seja, tentou inserir uma chave que já existe. Confira o valor da chave que esta inserindo, altere, e execute novamente.\n",
    "\n",
    "**OBS 2:** Caso ocorra o erro: *Error: Column count doesn't match value count at row 1 [1136]*\n",
    "Isso significa que você esta inserindo dados não compatíveis com a definição da tabela.\n"
   ]
  },
  {
   "cell_type": "code",
   "execution_count": 32,
   "metadata": {},
   "outputs": [
    {
     "data": {
      "text/html": [
       "TRUE"
      ],
      "text/latex": [
       "TRUE"
      ],
      "text/markdown": [
       "TRUE"
      ],
      "text/plain": [
       "[1] TRUE"
      ]
     },
     "metadata": {},
     "output_type": "display_data"
    }
   ],
   "source": [
    "dbExistsTable(con, \"tipounidade\")"
   ]
  },
  {
   "cell_type": "code",
   "execution_count": 16,
   "metadata": {},
   "outputs": [
    {
     "data": {
      "text/html": [
       "<table>\n",
       "<thead><tr><th scope=col>idTipoUnidade</th><th scope=col>dscTipoUnidade</th></tr></thead>\n",
       "<tbody>\n",
       "\t<tr><td>1                         </td><td>Casa                      </td></tr>\n",
       "\t<tr><td>2                         </td><td>Casa geminada             </td></tr>\n",
       "\t<tr><td>3                         </td><td>Apartamento tipo          </td></tr>\n",
       "\t<tr><td>4                         </td><td>Apartamento cobertura     </td></tr>\n",
       "\t<tr><td>5                         </td><td>Apartamento área privativa</td></tr>\n",
       "\t<tr><td>6                         </td><td>Flat                      </td></tr>\n",
       "\t<tr><td>7                         </td><td>Loft                      </td></tr>\n",
       "</tbody>\n",
       "</table>\n"
      ],
      "text/latex": [
       "\\begin{tabular}{r|ll}\n",
       " idTipoUnidade & dscTipoUnidade\\\\\n",
       "\\hline\n",
       "\t 1                          & Casa                      \\\\\n",
       "\t 2                          & Casa geminada             \\\\\n",
       "\t 3                          & Apartamento tipo          \\\\\n",
       "\t 4                          & Apartamento cobertura     \\\\\n",
       "\t 5                          & Apartamento área privativa\\\\\n",
       "\t 6                          & Flat                      \\\\\n",
       "\t 7                          & Loft                      \\\\\n",
       "\\end{tabular}\n"
      ],
      "text/markdown": [
       "\n",
       "| idTipoUnidade | dscTipoUnidade |\n",
       "|---|---|\n",
       "| 1                          | Casa                       |\n",
       "| 2                          | Casa geminada              |\n",
       "| 3                          | Apartamento tipo           |\n",
       "| 4                          | Apartamento cobertura      |\n",
       "| 5                          | Apartamento área privativa |\n",
       "| 6                          | Flat                       |\n",
       "| 7                          | Loft                       |\n",
       "\n"
      ],
      "text/plain": [
       "  idTipoUnidade dscTipoUnidade            \n",
       "1 1             Casa                      \n",
       "2 2             Casa geminada             \n",
       "3 3             Apartamento tipo          \n",
       "4 4             Apartamento cobertura     \n",
       "5 5             Apartamento área privativa\n",
       "6 6             Flat                      \n",
       "7 7             Loft                      "
      ]
     },
     "metadata": {},
     "output_type": "display_data"
    }
   ],
   "source": [
    "#Consulta os dados da tabela *tipounidade*\n",
    "tabledata <- dbReadTable(con,\"tipounidade\")\n",
    "tabledata"
   ]
  },
  {
   "cell_type": "code",
   "execution_count": 17,
   "metadata": {},
   "outputs": [
    {
     "name": "stdout",
     "output_type": "stream",
     "text": [
      "<MySQLResult:72196400,0,12>\n"
     ]
    },
    {
     "data": {
      "text/html": [
       "TRUE"
      ],
      "text/latex": [
       "TRUE"
      ],
      "text/markdown": [
       "TRUE"
      ],
      "text/plain": [
       "[1] TRUE"
      ]
     },
     "metadata": {},
     "output_type": "display_data"
    }
   ],
   "source": [
    "id <- 8\n",
    "desc <- 'Chácara'\n",
    "\n",
    "query <-  paste(\"INSERT INTO tipounidade(idTipoUnidade,dscTipoUnidade) VALUES(\",id,\",'\",desc,\"');\",sep='')\n",
    "\n",
    "results <- dbSendQuery(con,query)\n",
    "print(results)\n",
    "\n",
    "# Limpa resultados\n",
    "dbClearResult(results)"
   ]
  },
  {
   "cell_type": "code",
   "execution_count": 33,
   "metadata": {},
   "outputs": [
    {
     "data": {
      "text/html": [
       "<table>\n",
       "<thead><tr><th scope=col>idTipoUnidade</th><th scope=col>dscTipoUnidade</th></tr></thead>\n",
       "<tbody>\n",
       "\t<tr><td>1                         </td><td>Casa                      </td></tr>\n",
       "\t<tr><td>2                         </td><td>Casa geminada             </td></tr>\n",
       "\t<tr><td>3                         </td><td>Apartamento tipo          </td></tr>\n",
       "\t<tr><td>4                         </td><td>Apartamento cobertura     </td></tr>\n",
       "\t<tr><td>5                         </td><td>Apartamento área privativa</td></tr>\n",
       "\t<tr><td>6                         </td><td>Flat                      </td></tr>\n",
       "\t<tr><td>7                         </td><td>Loft                      </td></tr>\n",
       "\t<tr><td>8                         </td><td>Chácara                   </td></tr>\n",
       "</tbody>\n",
       "</table>\n"
      ],
      "text/latex": [
       "\\begin{tabular}{r|ll}\n",
       " idTipoUnidade & dscTipoUnidade\\\\\n",
       "\\hline\n",
       "\t 1                          & Casa                      \\\\\n",
       "\t 2                          & Casa geminada             \\\\\n",
       "\t 3                          & Apartamento tipo          \\\\\n",
       "\t 4                          & Apartamento cobertura     \\\\\n",
       "\t 5                          & Apartamento área privativa\\\\\n",
       "\t 6                          & Flat                      \\\\\n",
       "\t 7                          & Loft                      \\\\\n",
       "\t 8                          & Chácara                   \\\\\n",
       "\\end{tabular}\n"
      ],
      "text/markdown": [
       "\n",
       "| idTipoUnidade | dscTipoUnidade |\n",
       "|---|---|\n",
       "| 1                          | Casa                       |\n",
       "| 2                          | Casa geminada              |\n",
       "| 3                          | Apartamento tipo           |\n",
       "| 4                          | Apartamento cobertura      |\n",
       "| 5                          | Apartamento área privativa |\n",
       "| 6                          | Flat                       |\n",
       "| 7                          | Loft                       |\n",
       "| 8                          | Chácara                    |\n",
       "\n"
      ],
      "text/plain": [
       "  idTipoUnidade dscTipoUnidade            \n",
       "1 1             Casa                      \n",
       "2 2             Casa geminada             \n",
       "3 3             Apartamento tipo          \n",
       "4 4             Apartamento cobertura     \n",
       "5 5             Apartamento área privativa\n",
       "6 6             Flat                      \n",
       "7 7             Loft                      \n",
       "8 8             Chácara                   "
      ]
     },
     "metadata": {},
     "output_type": "display_data"
    }
   ],
   "source": [
    "#Consulta os dados da tabela *tipounidade*\n",
    "tabledata <- dbReadTable(con,\"tipounidade\")\n",
    "tabledata"
   ]
  },
  {
   "cell_type": "markdown",
   "metadata": {},
   "source": [
    "##### Instalar o pacote xlsx"
   ]
  },
  {
   "cell_type": "code",
   "execution_count": 20,
   "metadata": {},
   "outputs": [
    {
     "name": "stderr",
     "output_type": "stream",
     "text": [
      "also installing the dependencies 'rJava', 'xlsxjars'\n",
      "\n"
     ]
    },
    {
     "name": "stdout",
     "output_type": "stream",
     "text": [
      "package 'rJava' successfully unpacked and MD5 sums checked\n",
      "package 'xlsxjars' successfully unpacked and MD5 sums checked\n",
      "package 'xlsx' successfully unpacked and MD5 sums checked\n",
      "\n",
      "The downloaded binary packages are in\n",
      "\tC:\\Users\\Kleber Lima\\AppData\\Local\\Temp\\Rtmpg5sGts\\downloaded_packages\n"
     ]
    }
   ],
   "source": [
    "install.packages('xlsx')"
   ]
  },
  {
   "cell_type": "markdown",
   "metadata": {},
   "source": [
    "##### Importar o pacote xlsx"
   ]
  },
  {
   "cell_type": "code",
   "execution_count": 19,
   "metadata": {},
   "outputs": [
    {
     "name": "stderr",
     "output_type": "stream",
     "text": [
      "Loading required package: xlsx\n",
      "Warning message:\n",
      "\"package 'xlsx' was built under R version 3.6.3\""
     ]
    }
   ],
   "source": [
    "#Importa pacote xlsx se ele ainda não foi carregado\n",
    "if(!\"xlsx\" %in% (.packages())){require(xlsx)}"
   ]
  },
  {
   "cell_type": "code",
   "execution_count": 26,
   "metadata": {},
   "outputs": [
    {
     "name": "stdout",
     "output_type": "stream",
     "text": [
      "[1] \"D:/praticas/datasets/XLS/estados.xlsx\"\n",
      "[1] \"Lista de estados existentes no arquivo:\"\n"
     ]
    },
    {
     "data": {
      "text/html": [
       "<table>\n",
       "<thead><tr><th scope=col>CodEstadoIBGE</th><th scope=col>nomeestado</th><th scope=col>siglaestado</th><th scope=col>regiao</th></tr></thead>\n",
       "<tbody>\n",
       "\t<tr><td>11                 </td><td>Rondónia           </td><td>RO                 </td><td>Norte              </td></tr>\n",
       "\t<tr><td>12                 </td><td>Acre               </td><td>AC                 </td><td>Norte              </td></tr>\n",
       "\t<tr><td>13                 </td><td>Amazonas           </td><td>AM                 </td><td>Norte              </td></tr>\n",
       "\t<tr><td>14                 </td><td>Roraima            </td><td>R                  </td><td>Norte              </td></tr>\n",
       "\t<tr><td>15                 </td><td>Pará               </td><td>PA                 </td><td>Norte              </td></tr>\n",
       "\t<tr><td>16                 </td><td>Amapá              </td><td>AP                 </td><td>Norte              </td></tr>\n",
       "\t<tr><td>17                 </td><td>Tocantins          </td><td>TO                 </td><td>Norte              </td></tr>\n",
       "\t<tr><td>21                 </td><td>Maranhão           </td><td>MA                 </td><td>Nordeste           </td></tr>\n",
       "\t<tr><td>22                 </td><td>Piauí              </td><td>PI                 </td><td>Nordeste           </td></tr>\n",
       "\t<tr><td>23                 </td><td>Ceará              </td><td>CE                 </td><td>Nordeste           </td></tr>\n",
       "\t<tr><td>24                 </td><td>Rio Grande do Norte</td><td>RN                 </td><td>Nordeste           </td></tr>\n",
       "\t<tr><td>25                 </td><td>Paraíba            </td><td>PB                 </td><td>Nordeste           </td></tr>\n",
       "\t<tr><td>26                 </td><td>Pernambuco         </td><td>PE                 </td><td>Nordeste           </td></tr>\n",
       "\t<tr><td>27                 </td><td>Alagoas            </td><td>AL                 </td><td>Nordeste           </td></tr>\n",
       "\t<tr><td>28                 </td><td>Sergipe            </td><td>SE                 </td><td>Nordeste           </td></tr>\n",
       "\t<tr><td>29                 </td><td>Bahia              </td><td>BA                 </td><td>Nordeste           </td></tr>\n",
       "\t<tr><td>31                 </td><td>Minas Gerais       </td><td>MG                 </td><td>Sudeste            </td></tr>\n",
       "\t<tr><td>32                 </td><td>Espírito Santo     </td><td>ES                 </td><td>Sudeste            </td></tr>\n",
       "\t<tr><td>33                 </td><td>Rio de Janeiro     </td><td>RJ                 </td><td>Sudeste            </td></tr>\n",
       "\t<tr><td>35                 </td><td>São Paulo          </td><td>SP                 </td><td>Sudeste            </td></tr>\n",
       "\t<tr><td>41                 </td><td>Paraná             </td><td>PR                 </td><td>Sul                </td></tr>\n",
       "\t<tr><td>42                 </td><td>Santa Catarina     </td><td>SC                 </td><td>Sul                </td></tr>\n",
       "\t<tr><td>43                 </td><td>Rio Grande do Sul  </td><td>RS                 </td><td>Sul                </td></tr>\n",
       "\t<tr><td>50                 </td><td>Mato Grosso do Sul </td><td>MS                 </td><td>Centro-Oeste       </td></tr>\n",
       "\t<tr><td>51                 </td><td>Mato Grosso        </td><td>MT                 </td><td>Centro-Oeste       </td></tr>\n",
       "\t<tr><td>52                 </td><td>Goiás              </td><td>GO                 </td><td>Centro-Oeste       </td></tr>\n",
       "\t<tr><td>53                 </td><td>Distrito Federal   </td><td>DF                 </td><td>Centro-Oeste       </td></tr>\n",
       "</tbody>\n",
       "</table>\n"
      ],
      "text/latex": [
       "\\begin{tabular}{r|llll}\n",
       " CodEstadoIBGE & nomeestado & siglaestado & regiao\\\\\n",
       "\\hline\n",
       "\t 11                  & Rondónia            & RO                  & Norte              \\\\\n",
       "\t 12                  & Acre                & AC                  & Norte              \\\\\n",
       "\t 13                  & Amazonas            & AM                  & Norte              \\\\\n",
       "\t 14                  & Roraima             & R                   & Norte              \\\\\n",
       "\t 15                  & Pará                & PA                  & Norte              \\\\\n",
       "\t 16                  & Amapá               & AP                  & Norte              \\\\\n",
       "\t 17                  & Tocantins           & TO                  & Norte              \\\\\n",
       "\t 21                  & Maranhão            & MA                  & Nordeste           \\\\\n",
       "\t 22                  & Piauí               & PI                  & Nordeste           \\\\\n",
       "\t 23                  & Ceará               & CE                  & Nordeste           \\\\\n",
       "\t 24                  & Rio Grande do Norte & RN                  & Nordeste           \\\\\n",
       "\t 25                  & Paraíba             & PB                  & Nordeste           \\\\\n",
       "\t 26                  & Pernambuco          & PE                  & Nordeste           \\\\\n",
       "\t 27                  & Alagoas             & AL                  & Nordeste           \\\\\n",
       "\t 28                  & Sergipe             & SE                  & Nordeste           \\\\\n",
       "\t 29                  & Bahia               & BA                  & Nordeste           \\\\\n",
       "\t 31                  & Minas Gerais        & MG                  & Sudeste            \\\\\n",
       "\t 32                  & Espírito Santo      & ES                  & Sudeste            \\\\\n",
       "\t 33                  & Rio de Janeiro      & RJ                  & Sudeste            \\\\\n",
       "\t 35                  & São Paulo           & SP                  & Sudeste            \\\\\n",
       "\t 41                  & Paraná              & PR                  & Sul                \\\\\n",
       "\t 42                  & Santa Catarina      & SC                  & Sul                \\\\\n",
       "\t 43                  & Rio Grande do Sul   & RS                  & Sul                \\\\\n",
       "\t 50                  & Mato Grosso do Sul  & MS                  & Centro-Oeste       \\\\\n",
       "\t 51                  & Mato Grosso         & MT                  & Centro-Oeste       \\\\\n",
       "\t 52                  & Goiás               & GO                  & Centro-Oeste       \\\\\n",
       "\t 53                  & Distrito Federal    & DF                  & Centro-Oeste       \\\\\n",
       "\\end{tabular}\n"
      ],
      "text/markdown": [
       "\n",
       "| CodEstadoIBGE | nomeestado | siglaestado | regiao |\n",
       "|---|---|---|---|\n",
       "| 11                  | Rondónia            | RO                  | Norte               |\n",
       "| 12                  | Acre                | AC                  | Norte               |\n",
       "| 13                  | Amazonas            | AM                  | Norte               |\n",
       "| 14                  | Roraima             | R                   | Norte               |\n",
       "| 15                  | Pará                | PA                  | Norte               |\n",
       "| 16                  | Amapá               | AP                  | Norte               |\n",
       "| 17                  | Tocantins           | TO                  | Norte               |\n",
       "| 21                  | Maranhão            | MA                  | Nordeste            |\n",
       "| 22                  | Piauí               | PI                  | Nordeste            |\n",
       "| 23                  | Ceará               | CE                  | Nordeste            |\n",
       "| 24                  | Rio Grande do Norte | RN                  | Nordeste            |\n",
       "| 25                  | Paraíba             | PB                  | Nordeste            |\n",
       "| 26                  | Pernambuco          | PE                  | Nordeste            |\n",
       "| 27                  | Alagoas             | AL                  | Nordeste            |\n",
       "| 28                  | Sergipe             | SE                  | Nordeste            |\n",
       "| 29                  | Bahia               | BA                  | Nordeste            |\n",
       "| 31                  | Minas Gerais        | MG                  | Sudeste             |\n",
       "| 32                  | Espírito Santo      | ES                  | Sudeste             |\n",
       "| 33                  | Rio de Janeiro      | RJ                  | Sudeste             |\n",
       "| 35                  | São Paulo           | SP                  | Sudeste             |\n",
       "| 41                  | Paraná              | PR                  | Sul                 |\n",
       "| 42                  | Santa Catarina      | SC                  | Sul                 |\n",
       "| 43                  | Rio Grande do Sul   | RS                  | Sul                 |\n",
       "| 50                  | Mato Grosso do Sul  | MS                  | Centro-Oeste        |\n",
       "| 51                  | Mato Grosso         | MT                  | Centro-Oeste        |\n",
       "| 52                  | Goiás               | GO                  | Centro-Oeste        |\n",
       "| 53                  | Distrito Federal    | DF                  | Centro-Oeste        |\n",
       "\n"
      ],
      "text/plain": [
       "   CodEstadoIBGE nomeestado          siglaestado regiao      \n",
       "1  11            Rondónia            RO          Norte       \n",
       "2  12            Acre                AC          Norte       \n",
       "3  13            Amazonas            AM          Norte       \n",
       "4  14            Roraima             R           Norte       \n",
       "5  15            Pará                PA          Norte       \n",
       "6  16            Amapá               AP          Norte       \n",
       "7  17            Tocantins           TO          Norte       \n",
       "8  21            Maranhão            MA          Nordeste    \n",
       "9  22            Piauí               PI          Nordeste    \n",
       "10 23            Ceará               CE          Nordeste    \n",
       "11 24            Rio Grande do Norte RN          Nordeste    \n",
       "12 25            Paraíba             PB          Nordeste    \n",
       "13 26            Pernambuco          PE          Nordeste    \n",
       "14 27            Alagoas             AL          Nordeste    \n",
       "15 28            Sergipe             SE          Nordeste    \n",
       "16 29            Bahia               BA          Nordeste    \n",
       "17 31            Minas Gerais        MG          Sudeste     \n",
       "18 32            Espírito Santo      ES          Sudeste     \n",
       "19 33            Rio de Janeiro      RJ          Sudeste     \n",
       "20 35            São Paulo           SP          Sudeste     \n",
       "21 41            Paraná              PR          Sul         \n",
       "22 42            Santa Catarina      SC          Sul         \n",
       "23 43            Rio Grande do Sul   RS          Sul         \n",
       "24 50            Mato Grosso do Sul  MS          Centro-Oeste\n",
       "25 51            Mato Grosso         MT          Centro-Oeste\n",
       "26 52            Goiás               GO          Centro-Oeste\n",
       "27 53            Distrito Federal    DF          Centro-Oeste"
      ]
     },
     "metadata": {},
     "output_type": "display_data"
    }
   ],
   "source": [
    "#Antes de excutar esta célula, garanta que o caminho do arquivo estados.xlsx esteja correto.\n",
    "\n",
    "filename <- \"D:/praticas/datasets/XLS/estados.xlsx\"\n",
    "print(filename)\n",
    "\n",
    "insertdata <- read.xlsx(filename, sheetIndex=1, header=TRUE,encoding=\"UTF-8\")\n",
    "print(\"Lista de estados existentes no arquivo:\")\n",
    "insertdata"
   ]
  },
  {
   "cell_type": "markdown",
   "metadata": {},
   "source": [
    "**OBS:** As colunas da tabela estado são: *CodEstadoIBGE,NomeEstado,SiglaEstado,Regiao*\n"
   ]
  },
  {
   "cell_type": "code",
   "execution_count": 34,
   "metadata": {},
   "outputs": [
    {
     "data": {
      "text/html": [
       "TRUE"
      ],
      "text/latex": [
       "TRUE"
      ],
      "text/markdown": [
       "TRUE"
      ],
      "text/plain": [
       "[1] TRUE"
      ]
     },
     "metadata": {},
     "output_type": "display_data"
    }
   ],
   "source": [
    "dbWriteTable(con,'estado',insertdata, row.names=FALSE,append = TRUE)"
   ]
  },
  {
   "cell_type": "code",
   "execution_count": 35,
   "metadata": {},
   "outputs": [
    {
     "data": {
      "text/html": [
       "<table>\n",
       "<thead><tr><th scope=col>CodEstadoIBGE</th><th scope=col>NomeEstado</th><th scope=col>SiglaEstado</th><th scope=col>Regiao</th></tr></thead>\n",
       "<tbody>\n",
       "\t<tr><td>11                 </td><td>Rond?nia           </td><td>RO                 </td><td>Norte              </td></tr>\n",
       "\t<tr><td>12                 </td><td>Acre               </td><td>AC                 </td><td>Norte              </td></tr>\n",
       "\t<tr><td>13                 </td><td>Amazonas           </td><td>AM                 </td><td>Norte              </td></tr>\n",
       "\t<tr><td>14                 </td><td>Roraima            </td><td>R                  </td><td>Norte              </td></tr>\n",
       "\t<tr><td>15                 </td><td>Par                </td><td>PA                 </td><td>Norte              </td></tr>\n",
       "\t<tr><td>16                 </td><td>Amap               </td><td>AP                 </td><td>Norte              </td></tr>\n",
       "\t<tr><td>17                 </td><td>Tocantins          </td><td>TO                 </td><td>Norte              </td></tr>\n",
       "\t<tr><td>21                 </td><td>Maranh             </td><td>MA                 </td><td>Nordeste           </td></tr>\n",
       "\t<tr><td>22                 </td><td>Piau               </td><td>PI                 </td><td>Nordeste           </td></tr>\n",
       "\t<tr><td>23                 </td><td>Cear               </td><td>CE                 </td><td>Nordeste           </td></tr>\n",
       "\t<tr><td>24                 </td><td>Rio Grande do Norte</td><td>RN                 </td><td>Nordeste           </td></tr>\n",
       "\t<tr><td>25                 </td><td>Para?ba            </td><td>PB                 </td><td>Nordeste           </td></tr>\n",
       "\t<tr><td>26                 </td><td>Pernambuco         </td><td>PE                 </td><td>Nordeste           </td></tr>\n",
       "\t<tr><td>27                 </td><td>Alagoas            </td><td>AL                 </td><td>Nordeste           </td></tr>\n",
       "\t<tr><td>28                 </td><td>Sergipe            </td><td>SE                 </td><td>Nordeste           </td></tr>\n",
       "\t<tr><td>29                 </td><td>Bahia              </td><td>BA                 </td><td>Nordeste           </td></tr>\n",
       "\t<tr><td>31                 </td><td>Minas Gerais       </td><td>MG                 </td><td>Sudeste            </td></tr>\n",
       "\t<tr><td>32                 </td><td>Esp?rito Santo     </td><td>ES                 </td><td>Sudeste            </td></tr>\n",
       "\t<tr><td>33                 </td><td>Rio de Janeiro     </td><td>RJ                 </td><td>Sudeste            </td></tr>\n",
       "\t<tr><td>35                 </td><td>S?o Paulo          </td><td>SP                 </td><td>Sudeste            </td></tr>\n",
       "\t<tr><td>41                 </td><td>Paran              </td><td>PR                 </td><td>Sul                </td></tr>\n",
       "\t<tr><td>42                 </td><td>Santa Catarina     </td><td>SC                 </td><td>Sul                </td></tr>\n",
       "\t<tr><td>43                 </td><td>Rio Grande do Sul  </td><td>RS                 </td><td>Sul                </td></tr>\n",
       "\t<tr><td>50                 </td><td>Mato Grosso do Sul </td><td>MS                 </td><td>Centro-Oeste       </td></tr>\n",
       "\t<tr><td>51                 </td><td>Mato Grosso        </td><td>MT                 </td><td>Centro-Oeste       </td></tr>\n",
       "\t<tr><td>52                 </td><td>Goi                </td><td>GO                 </td><td>Centro-Oeste       </td></tr>\n",
       "\t<tr><td>53                 </td><td>Distrito Federal   </td><td>DF                 </td><td>Centro-Oeste       </td></tr>\n",
       "</tbody>\n",
       "</table>\n"
      ],
      "text/latex": [
       "\\begin{tabular}{r|llll}\n",
       " CodEstadoIBGE & NomeEstado & SiglaEstado & Regiao\\\\\n",
       "\\hline\n",
       "\t 11                  & Rond?nia            & RO                  & Norte              \\\\\n",
       "\t 12                  & Acre                & AC                  & Norte              \\\\\n",
       "\t 13                  & Amazonas            & AM                  & Norte              \\\\\n",
       "\t 14                  & Roraima             & R                   & Norte              \\\\\n",
       "\t 15                  & Par                 & PA                  & Norte              \\\\\n",
       "\t 16                  & Amap                & AP                  & Norte              \\\\\n",
       "\t 17                  & Tocantins           & TO                  & Norte              \\\\\n",
       "\t 21                  & Maranh              & MA                  & Nordeste           \\\\\n",
       "\t 22                  & Piau                & PI                  & Nordeste           \\\\\n",
       "\t 23                  & Cear                & CE                  & Nordeste           \\\\\n",
       "\t 24                  & Rio Grande do Norte & RN                  & Nordeste           \\\\\n",
       "\t 25                  & Para?ba             & PB                  & Nordeste           \\\\\n",
       "\t 26                  & Pernambuco          & PE                  & Nordeste           \\\\\n",
       "\t 27                  & Alagoas             & AL                  & Nordeste           \\\\\n",
       "\t 28                  & Sergipe             & SE                  & Nordeste           \\\\\n",
       "\t 29                  & Bahia               & BA                  & Nordeste           \\\\\n",
       "\t 31                  & Minas Gerais        & MG                  & Sudeste            \\\\\n",
       "\t 32                  & Esp?rito Santo      & ES                  & Sudeste            \\\\\n",
       "\t 33                  & Rio de Janeiro      & RJ                  & Sudeste            \\\\\n",
       "\t 35                  & S?o Paulo           & SP                  & Sudeste            \\\\\n",
       "\t 41                  & Paran               & PR                  & Sul                \\\\\n",
       "\t 42                  & Santa Catarina      & SC                  & Sul                \\\\\n",
       "\t 43                  & Rio Grande do Sul   & RS                  & Sul                \\\\\n",
       "\t 50                  & Mato Grosso do Sul  & MS                  & Centro-Oeste       \\\\\n",
       "\t 51                  & Mato Grosso         & MT                  & Centro-Oeste       \\\\\n",
       "\t 52                  & Goi                 & GO                  & Centro-Oeste       \\\\\n",
       "\t 53                  & Distrito Federal    & DF                  & Centro-Oeste       \\\\\n",
       "\\end{tabular}\n"
      ],
      "text/markdown": [
       "\n",
       "| CodEstadoIBGE | NomeEstado | SiglaEstado | Regiao |\n",
       "|---|---|---|---|\n",
       "| 11                  | Rond?nia            | RO                  | Norte               |\n",
       "| 12                  | Acre                | AC                  | Norte               |\n",
       "| 13                  | Amazonas            | AM                  | Norte               |\n",
       "| 14                  | Roraima             | R                   | Norte               |\n",
       "| 15                  | Par                 | PA                  | Norte               |\n",
       "| 16                  | Amap                | AP                  | Norte               |\n",
       "| 17                  | Tocantins           | TO                  | Norte               |\n",
       "| 21                  | Maranh              | MA                  | Nordeste            |\n",
       "| 22                  | Piau                | PI                  | Nordeste            |\n",
       "| 23                  | Cear                | CE                  | Nordeste            |\n",
       "| 24                  | Rio Grande do Norte | RN                  | Nordeste            |\n",
       "| 25                  | Para?ba             | PB                  | Nordeste            |\n",
       "| 26                  | Pernambuco          | PE                  | Nordeste            |\n",
       "| 27                  | Alagoas             | AL                  | Nordeste            |\n",
       "| 28                  | Sergipe             | SE                  | Nordeste            |\n",
       "| 29                  | Bahia               | BA                  | Nordeste            |\n",
       "| 31                  | Minas Gerais        | MG                  | Sudeste             |\n",
       "| 32                  | Esp?rito Santo      | ES                  | Sudeste             |\n",
       "| 33                  | Rio de Janeiro      | RJ                  | Sudeste             |\n",
       "| 35                  | S?o Paulo           | SP                  | Sudeste             |\n",
       "| 41                  | Paran               | PR                  | Sul                 |\n",
       "| 42                  | Santa Catarina      | SC                  | Sul                 |\n",
       "| 43                  | Rio Grande do Sul   | RS                  | Sul                 |\n",
       "| 50                  | Mato Grosso do Sul  | MS                  | Centro-Oeste        |\n",
       "| 51                  | Mato Grosso         | MT                  | Centro-Oeste        |\n",
       "| 52                  | Goi                 | GO                  | Centro-Oeste        |\n",
       "| 53                  | Distrito Federal    | DF                  | Centro-Oeste        |\n",
       "\n"
      ],
      "text/plain": [
       "   CodEstadoIBGE NomeEstado          SiglaEstado Regiao      \n",
       "1  11            Rond?nia            RO          Norte       \n",
       "2  12            Acre                AC          Norte       \n",
       "3  13            Amazonas            AM          Norte       \n",
       "4  14            Roraima             R           Norte       \n",
       "5  15            Par                 PA          Norte       \n",
       "6  16            Amap                AP          Norte       \n",
       "7  17            Tocantins           TO          Norte       \n",
       "8  21            Maranh              MA          Nordeste    \n",
       "9  22            Piau                PI          Nordeste    \n",
       "10 23            Cear                CE          Nordeste    \n",
       "11 24            Rio Grande do Norte RN          Nordeste    \n",
       "12 25            Para?ba             PB          Nordeste    \n",
       "13 26            Pernambuco          PE          Nordeste    \n",
       "14 27            Alagoas             AL          Nordeste    \n",
       "15 28            Sergipe             SE          Nordeste    \n",
       "16 29            Bahia               BA          Nordeste    \n",
       "17 31            Minas Gerais        MG          Sudeste     \n",
       "18 32            Esp?rito Santo      ES          Sudeste     \n",
       "19 33            Rio de Janeiro      RJ          Sudeste     \n",
       "20 35            S?o Paulo           SP          Sudeste     \n",
       "21 41            Paran               PR          Sul         \n",
       "22 42            Santa Catarina      SC          Sul         \n",
       "23 43            Rio Grande do Sul   RS          Sul         \n",
       "24 50            Mato Grosso do Sul  MS          Centro-Oeste\n",
       "25 51            Mato Grosso         MT          Centro-Oeste\n",
       "26 52            Goi                 GO          Centro-Oeste\n",
       "27 53            Distrito Federal    DF          Centro-Oeste"
      ]
     },
     "metadata": {},
     "output_type": "display_data"
    }
   ],
   "source": [
    "#Consulta os dados da tabela *estado*\n",
    "results <- dbReadTable(con,\"estado\")\n",
    "results"
   ]
  },
  {
   "cell_type": "code",
   "execution_count": 36,
   "metadata": {},
   "outputs": [
    {
     "data": {
      "text/plain": [
       "<MySQLResult:1,2,7>"
      ]
     },
     "metadata": {},
     "output_type": "display_data"
    }
   ],
   "source": [
    "query <- \"SELECT * FROM estado;\"\n",
    "\n",
    "results <- dbSendQuery(con,query)\n",
    "results"
   ]
  },
  {
   "cell_type": "markdown",
   "metadata": {},
   "source": [
    "**Obs:** O retorno do comando *dbSendQuery* indica que se o comando SQL passado para a variável *query* foi executado com sucesso ou não."
   ]
  },
  {
   "cell_type": "code",
   "execution_count": 70,
   "metadata": {},
   "outputs": [
    {
     "data": {
      "text/html": [
       "TRUE"
      ],
      "text/latex": [
       "TRUE"
      ],
      "text/markdown": [
       "TRUE"
      ],
      "text/plain": [
       "[1] TRUE"
      ]
     },
     "metadata": {},
     "output_type": "display_data"
    },
    {
     "data": {
      "text/html": [
       "<table>\n",
       "<thead><tr><th scope=col>CodEstadoIBGE</th><th scope=col>NomeEstado</th><th scope=col>SiglaEstado</th><th scope=col>Regiao</th></tr></thead>\n",
       "<tbody>\n",
       "\t<tr><td>15        </td><td>Par       </td><td>PA        </td><td>Norte     </td></tr>\n",
       "\t<tr><td>22        </td><td>Piau      </td><td>PI        </td><td>Nordeste  </td></tr>\n",
       "\t<tr><td>25        </td><td>Para?ba   </td><td>PB        </td><td>Nordeste  </td></tr>\n",
       "\t<tr><td>26        </td><td>Pernambuco</td><td>PE        </td><td>Nordeste  </td></tr>\n",
       "\t<tr><td>41        </td><td>Paran     </td><td>PR        </td><td>Sul       </td></tr>\n",
       "</tbody>\n",
       "</table>\n"
      ],
      "text/latex": [
       "\\begin{tabular}{r|llll}\n",
       " CodEstadoIBGE & NomeEstado & SiglaEstado & Regiao\\\\\n",
       "\\hline\n",
       "\t 15         & Par        & PA         & Norte     \\\\\n",
       "\t 22         & Piau       & PI         & Nordeste  \\\\\n",
       "\t 25         & Para?ba    & PB         & Nordeste  \\\\\n",
       "\t 26         & Pernambuco & PE         & Nordeste  \\\\\n",
       "\t 41         & Paran      & PR         & Sul       \\\\\n",
       "\\end{tabular}\n"
      ],
      "text/markdown": [
       "\n",
       "| CodEstadoIBGE | NomeEstado | SiglaEstado | Regiao |\n",
       "|---|---|---|---|\n",
       "| 15         | Par        | PA         | Norte      |\n",
       "| 22         | Piau       | PI         | Nordeste   |\n",
       "| 25         | Para?ba    | PB         | Nordeste   |\n",
       "| 26         | Pernambuco | PE         | Nordeste   |\n",
       "| 41         | Paran      | PR         | Sul        |\n",
       "\n"
      ],
      "text/plain": [
       "  CodEstadoIBGE NomeEstado SiglaEstado Regiao  \n",
       "1 15            Par        PA          Norte   \n",
       "2 22            Piau       PI          Nordeste\n",
       "3 25            Para?ba    PB          Nordeste\n",
       "4 26            Pernambuco PE          Nordeste\n",
       "5 41            Paran      PR          Sul     "
      ]
     },
     "metadata": {},
     "output_type": "display_data"
    }
   ],
   "source": [
    "# Limpa resultados\n",
    "dbClearResult(results)\n",
    "\n",
    "results <- dbGetQuery(con,query)\n",
    "results"
   ]
  },
  {
   "cell_type": "code",
   "execution_count": 38,
   "metadata": {},
   "outputs": [],
   "source": [
    "# Verifique se o caminho do arquivo existe.\n",
    "\n",
    "#Salvar o resultado da query no arquivo CSV\n",
    "write.csv(results,\"D:/praticas/datasets/CSV/estadosDB.csv\",row.names=FALSE,quote=FALSE)\n",
    "\n",
    "#Realizar o commit\n",
    "#dbCommit(con)"
   ]
  },
  {
   "cell_type": "code",
   "execution_count": 39,
   "metadata": {},
   "outputs": [
    {
     "data": {
      "text/html": [
       "TRUE"
      ],
      "text/latex": [
       "TRUE"
      ],
      "text/markdown": [
       "TRUE"
      ],
      "text/plain": [
       "[1] TRUE"
      ]
     },
     "metadata": {},
     "output_type": "display_data"
    }
   ],
   "source": [
    "# Desconectar do banco de dados\n",
    "dbDisconnect(con)"
   ]
  },
  {
   "cell_type": "markdown",
   "metadata": {},
   "source": [
    "## A partir daqui você deve alterar seu notebook conforme orientações da atividade 8 do enunciado do trabalho prático."
   ]
  },
  {
   "cell_type": "markdown",
   "metadata": {},
   "source": [
    "Nas células abaixo foram deixadas algumas dicas para você seguir."
   ]
  },
  {
   "cell_type": "markdown",
   "metadata": {},
   "source": [
    "##### 1º) Importar as bibliotecas RMariaDB "
   ]
  },
  {
   "cell_type": "code",
   "execution_count": null,
   "metadata": {},
   "outputs": [],
   "source": [
    "#Se você já importou anteriormente e não resetou seu kernel, não será necessário importar\n"
   ]
  },
  {
   "cell_type": "markdown",
   "metadata": {},
   "source": [
    "##### 2º) Fazer a conexão com seu banco de dados"
   ]
  },
  {
   "cell_type": "code",
   "execution_count": 83,
   "metadata": {},
   "outputs": [
    {
     "data": {
      "text/html": [
       "<ol class=list-inline>\n",
       "\t<li>'caracteristicageralimovel'</li>\n",
       "\t<li>'caracteristicasgerais'</li>\n",
       "\t<li>'cidade'</li>\n",
       "\t<li>'estado'</li>\n",
       "\t<li>'imovel'</li>\n",
       "\t<li>'tipounidade'</li>\n",
       "</ol>\n"
      ],
      "text/latex": [
       "\\begin{enumerate*}\n",
       "\\item 'caracteristicageralimovel'\n",
       "\\item 'caracteristicasgerais'\n",
       "\\item 'cidade'\n",
       "\\item 'estado'\n",
       "\\item 'imovel'\n",
       "\\item 'tipounidade'\n",
       "\\end{enumerate*}\n"
      ],
      "text/markdown": [
       "1. 'caracteristicageralimovel'\n",
       "2. 'caracteristicasgerais'\n",
       "3. 'cidade'\n",
       "4. 'estado'\n",
       "5. 'imovel'\n",
       "6. 'tipounidade'\n",
       "\n",
       "\n"
      ],
      "text/plain": [
       "[1] \"caracteristicageralimovel\" \"caracteristicasgerais\"    \n",
       "[3] \"cidade\"                    \"estado\"                   \n",
       "[5] \"imovel\"                    \"tipounidade\"              "
      ]
     },
     "metadata": {},
     "output_type": "display_data"
    }
   ],
   "source": [
    "#Conecta ao SGBD MySQL --> Banco de dados bootcamp\n",
    "con <- dbConnect(MySQL(), user = \"root\", password = \"*M3G4M4N\",\n",
    "                 dbname = \"bootcamp\", host = \"localhost\",serverTimezone='UTC')\n",
    "#Lê a lista de tabelas no BD\n",
    "tables <- dbListTables(con) \n",
    "tables"
   ]
  },
  {
   "cell_type": "markdown",
   "metadata": {},
   "source": [
    "##### 3º) Abrir o arquivo 'caracteristicasgerais.csv'"
   ]
  },
  {
   "cell_type": "code",
   "execution_count": 60,
   "metadata": {},
   "outputs": [
    {
     "name": "stdout",
     "output_type": "stream",
     "text": [
      "[1] \"D:/praticas/datasets/CSV/caracteristicasgerais.csv\"\n",
      "[1] \"Lista de caracteristicas existentes no arquivo:\"\n"
     ]
    },
    {
     "data": {
      "text/html": [
       "<table>\n",
       "<thead><tr><th scope=col>idcaracteristicasGerais</th><th scope=col>dsccaracteristicasGerais</th></tr></thead>\n",
       "<tbody>\n",
       "\t<tr><td> 4                                                                  </td><td><span style=white-space:pre-wrap>Sal&lt;e3&gt;o de festas    </span></td></tr>\n",
       "\t<tr><td> 5                                                                  </td><td><span style=white-space:pre-wrap>&lt;c1&gt;rea gourmet       </span></td></tr>\n",
       "\t<tr><td> 6                                                                  </td><td><span style=white-space:pre-wrap>&lt;c1&gt;gua individual    </span></td></tr>\n",
       "\t<tr><td> 7                                                                  </td><td><span style=white-space:pre-wrap>G&lt;e1&gt;s canalizado     </span></td></tr>\n",
       "\t<tr><td> 8                    </td><td>Aquecimento solar     </td></tr>\n",
       "\t<tr><td> 9                    </td><td>Vaga coberta          </td></tr>\n",
       "\t<tr><td>10                    </td><td>Vaga livre            </td></tr>\n",
       "\t<tr><td>11                          </td><td>Arm&lt;e1&gt;rios na cozinha</td></tr>\n",
       "\t<tr><td>12                    </td><td>Closet                </td></tr>\n",
       "\t<tr><td>13                          </td><td>Arm&lt;e1&gt;rios no quarto </td></tr>\n",
       "</tbody>\n",
       "</table>\n"
      ],
      "text/latex": [
       "\\begin{tabular}{r|ll}\n",
       " idcaracteristicasGerais & dsccaracteristicasGerais\\\\\n",
       "\\hline\n",
       "\t  4                     & Sal<e3>o de festas    \\\\\n",
       "\t  5                     & <c1>rea gourmet       \\\\\n",
       "\t  6                     & <c1>gua individual    \\\\\n",
       "\t  7                     & G<e1>s canalizado     \\\\\n",
       "\t  8                     & Aquecimento solar     \\\\\n",
       "\t  9                     & Vaga coberta          \\\\\n",
       "\t 10                     & Vaga livre            \\\\\n",
       "\t 11                     & Arm<e1>rios na cozinha\\\\\n",
       "\t 12                     & Closet                \\\\\n",
       "\t 13                     & Arm<e1>rios no quarto \\\\\n",
       "\\end{tabular}\n"
      ],
      "text/markdown": [
       "\n",
       "| idcaracteristicasGerais | dsccaracteristicasGerais |\n",
       "|---|---|\n",
       "|  4                     | Sal<e3>o de festas     |\n",
       "|  5                     | <c1>rea gourmet        |\n",
       "|  6                     | <c1>gua individual     |\n",
       "|  7                     | G<e1>s canalizado      |\n",
       "|  8                     | Aquecimento solar      |\n",
       "|  9                     | Vaga coberta           |\n",
       "| 10                     | Vaga livre             |\n",
       "| 11                     | Arm<e1>rios na cozinha |\n",
       "| 12                     | Closet                 |\n",
       "| 13                     | Arm<e1>rios no quarto  |\n",
       "\n"
      ],
      "text/plain": [
       "   idcaracteristicasGerais dsccaracteristicasGerais\n",
       "1   4                      Sal<e3>o de festas      \n",
       "2   5                      <c1>rea gourmet         \n",
       "3   6                      <c1>gua individual      \n",
       "4   7                      G<e1>s canalizado       \n",
       "5   8                      Aquecimento solar       \n",
       "6   9                      Vaga coberta            \n",
       "7  10                      Vaga livre              \n",
       "8  11                      Arm<e1>rios na cozinha  \n",
       "9  12                      Closet                  \n",
       "10 13                      Arm<e1>rios no quarto   "
      ]
     },
     "metadata": {},
     "output_type": "display_data"
    }
   ],
   "source": [
    "filename <- \"D:/praticas/datasets/CSV/caracteristicasgerais.csv\"\n",
    "print(filename)\n",
    "\n",
    "insertData <- read.csv(filename, header=TRUE, sep=\",\", encoding = \"UTF-8\")\n",
    "print(\"Lista de caracteristicas existentes no arquivo:\")\n",
    "insertData"
   ]
  },
  {
   "cell_type": "markdown",
   "metadata": {},
   "source": [
    "##### 4º) Inserir dados na tabela 'caracteristicasgerais'"
   ]
  },
  {
   "cell_type": "code",
   "execution_count": 57,
   "metadata": {},
   "outputs": [
    {
     "data": {
      "text/html": [
       "TRUE"
      ],
      "text/latex": [
       "TRUE"
      ],
      "text/markdown": [
       "TRUE"
      ],
      "text/plain": [
       "[1] TRUE"
      ]
     },
     "metadata": {},
     "output_type": "display_data"
    }
   ],
   "source": [
    "dbWriteTable(con, value = insertData, row.names = FALSE, name = 'caracteristicasgerais', append=TRUE)"
   ]
  },
  {
   "cell_type": "markdown",
   "metadata": {},
   "source": [
    "##### 5º) Consultar a tabela 'caracteristicasgerais' para verificar se os dados foram inseridos corretamente."
   ]
  },
  {
   "cell_type": "code",
   "execution_count": 61,
   "metadata": {},
   "outputs": [
    {
     "data": {
      "text/html": [
       "<table>\n",
       "<thead><tr><th scope=col>idcaracteristicasGerais</th><th scope=col>dsccaracteristicasGerais</th></tr></thead>\n",
       "<tbody>\n",
       "\t<tr><td> 1                 </td><td>Portaria 24 horas  </td></tr>\n",
       "\t<tr><td> 2                 </td><td>Elevador           </td></tr>\n",
       "\t<tr><td> 3                 </td><td>Piscina            </td></tr>\n",
       "\t<tr><td> 4                 </td><td>Salãoo de festas   </td></tr>\n",
       "\t<tr><td> 5                 </td><td>Área gourmet       </td></tr>\n",
       "\t<tr><td> 6                 </td><td>Água individual    </td></tr>\n",
       "\t<tr><td> 7                 </td><td>Gás canalizado     </td></tr>\n",
       "\t<tr><td> 8                 </td><td>Aquecimento solar  </td></tr>\n",
       "\t<tr><td> 9                 </td><td>Vaga coberta       </td></tr>\n",
       "\t<tr><td>10                 </td><td>Vaga livre         </td></tr>\n",
       "\t<tr><td>11                 </td><td>Armários na cozinha</td></tr>\n",
       "\t<tr><td>12                 </td><td>Closet             </td></tr>\n",
       "\t<tr><td>13                 </td><td>Armários no quarto </td></tr>\n",
       "</tbody>\n",
       "</table>\n"
      ],
      "text/latex": [
       "\\begin{tabular}{r|ll}\n",
       " idcaracteristicasGerais & dsccaracteristicasGerais\\\\\n",
       "\\hline\n",
       "\t  1                  & Portaria 24 horas  \\\\\n",
       "\t  2                  & Elevador           \\\\\n",
       "\t  3                  & Piscina            \\\\\n",
       "\t  4                  & Salãoo de festas   \\\\\n",
       "\t  5                  & Área gourmet       \\\\\n",
       "\t  6                  & Água individual    \\\\\n",
       "\t  7                  & Gás canalizado     \\\\\n",
       "\t  8                  & Aquecimento solar  \\\\\n",
       "\t  9                  & Vaga coberta       \\\\\n",
       "\t 10                  & Vaga livre         \\\\\n",
       "\t 11                  & Armários na cozinha\\\\\n",
       "\t 12                  & Closet             \\\\\n",
       "\t 13                  & Armários no quarto \\\\\n",
       "\\end{tabular}\n"
      ],
      "text/markdown": [
       "\n",
       "| idcaracteristicasGerais | dsccaracteristicasGerais |\n",
       "|---|---|\n",
       "|  1                  | Portaria 24 horas   |\n",
       "|  2                  | Elevador            |\n",
       "|  3                  | Piscina             |\n",
       "|  4                  | Salãoo de festas    |\n",
       "|  5                  | Área gourmet        |\n",
       "|  6                  | Água individual     |\n",
       "|  7                  | Gás canalizado      |\n",
       "|  8                  | Aquecimento solar   |\n",
       "|  9                  | Vaga coberta        |\n",
       "| 10                  | Vaga livre          |\n",
       "| 11                  | Armários na cozinha |\n",
       "| 12                  | Closet              |\n",
       "| 13                  | Armários no quarto  |\n",
       "\n"
      ],
      "text/plain": [
       "   idcaracteristicasGerais dsccaracteristicasGerais\n",
       "1   1                      Portaria 24 horas       \n",
       "2   2                      Elevador                \n",
       "3   3                      Piscina                 \n",
       "4   4                      Salãoo de festas        \n",
       "5   5                      Área gourmet            \n",
       "6   6                      Água individual         \n",
       "7   7                      Gás canalizado          \n",
       "8   8                      Aquecimento solar       \n",
       "9   9                      Vaga coberta            \n",
       "10 10                      Vaga livre              \n",
       "11 11                      Armários na cozinha     \n",
       "12 12                      Closet                  \n",
       "13 13                      Armários no quarto      "
      ]
     },
     "metadata": {},
     "output_type": "display_data"
    }
   ],
   "source": [
    "#Consulta os dados da tabela *caracteristicasgerais*\n",
    "results <- dbReadTable(con,\"caracteristicasgerais\")\n",
    "results"
   ]
  },
  {
   "cell_type": "markdown",
   "metadata": {},
   "source": [
    "##### Pergunta 1 - Quantos registros são retornados ao executar o seguinte comando sql no banco de dados após ter povoado a tabela de estados: SELECT * FROM estado WHERE NomeEstado like 'P%':"
   ]
  },
  {
   "cell_type": "code",
   "execution_count": 75,
   "metadata": {},
   "outputs": [
    {
     "data": {
      "text/plain": [
       "<MySQLResult:0,8,1>"
      ]
     },
     "metadata": {},
     "output_type": "display_data"
    }
   ],
   "source": [
    "query <- \"SELECT * FROM estado WHERE NomeEstado like 'P%';\"\n",
    "\n",
    "results <- dbSendQuery(con,query)\n",
    "results"
   ]
  },
  {
   "cell_type": "code",
   "execution_count": 76,
   "metadata": {},
   "outputs": [
    {
     "data": {
      "text/html": [
       "TRUE"
      ],
      "text/latex": [
       "TRUE"
      ],
      "text/markdown": [
       "TRUE"
      ],
      "text/plain": [
       "[1] TRUE"
      ]
     },
     "metadata": {},
     "output_type": "display_data"
    },
    {
     "data": {
      "text/html": [
       "<table>\n",
       "<thead><tr><th scope=col>CodEstadoIBGE</th><th scope=col>NomeEstado</th><th scope=col>SiglaEstado</th><th scope=col>Regiao</th></tr></thead>\n",
       "<tbody>\n",
       "\t<tr><td>15        </td><td>Par       </td><td>PA        </td><td>Norte     </td></tr>\n",
       "\t<tr><td>22        </td><td>Piau      </td><td>PI        </td><td>Nordeste  </td></tr>\n",
       "\t<tr><td>25        </td><td>Para?ba   </td><td>PB        </td><td>Nordeste  </td></tr>\n",
       "\t<tr><td>26        </td><td>Pernambuco</td><td>PE        </td><td>Nordeste  </td></tr>\n",
       "\t<tr><td>41        </td><td>Paran     </td><td>PR        </td><td>Sul       </td></tr>\n",
       "</tbody>\n",
       "</table>\n"
      ],
      "text/latex": [
       "\\begin{tabular}{r|llll}\n",
       " CodEstadoIBGE & NomeEstado & SiglaEstado & Regiao\\\\\n",
       "\\hline\n",
       "\t 15         & Par        & PA         & Norte     \\\\\n",
       "\t 22         & Piau       & PI         & Nordeste  \\\\\n",
       "\t 25         & Para?ba    & PB         & Nordeste  \\\\\n",
       "\t 26         & Pernambuco & PE         & Nordeste  \\\\\n",
       "\t 41         & Paran      & PR         & Sul       \\\\\n",
       "\\end{tabular}\n"
      ],
      "text/markdown": [
       "\n",
       "| CodEstadoIBGE | NomeEstado | SiglaEstado | Regiao |\n",
       "|---|---|---|---|\n",
       "| 15         | Par        | PA         | Norte      |\n",
       "| 22         | Piau       | PI         | Nordeste   |\n",
       "| 25         | Para?ba    | PB         | Nordeste   |\n",
       "| 26         | Pernambuco | PE         | Nordeste   |\n",
       "| 41         | Paran      | PR         | Sul        |\n",
       "\n"
      ],
      "text/plain": [
       "  CodEstadoIBGE NomeEstado SiglaEstado Regiao  \n",
       "1 15            Par        PA          Norte   \n",
       "2 22            Piau       PI          Nordeste\n",
       "3 25            Para?ba    PB          Nordeste\n",
       "4 26            Pernambuco PE          Nordeste\n",
       "5 41            Paran      PR          Sul     "
      ]
     },
     "metadata": {},
     "output_type": "display_data"
    }
   ],
   "source": [
    "# Limpa resultados\n",
    "dbClearResult(results)\n",
    "\n",
    "results <- dbGetQuery(con,query)\n",
    "results"
   ]
  },
  {
   "cell_type": "markdown",
   "metadata": {},
   "source": [
    "##### Pergunta 2 - Após executar todos os passos do enunciado do trabalho prático e ter povoado todas as tabelas do banco de dados, qual o total de registros da tabela ‘caracteristicasgerais’?"
   ]
  },
  {
   "cell_type": "code",
   "execution_count": 77,
   "metadata": {},
   "outputs": [
    {
     "data": {
      "text/plain": [
       "<MySQLResult:72047640,8,3>"
      ]
     },
     "metadata": {},
     "output_type": "display_data"
    }
   ],
   "source": [
    "query <- \"SELECT COUNT(*) FROM caracteristicasgerais;\"\n",
    "\n",
    "results <- dbSendQuery(con,query)\n",
    "results"
   ]
  },
  {
   "cell_type": "code",
   "execution_count": 78,
   "metadata": {},
   "outputs": [
    {
     "data": {
      "text/html": [
       "TRUE"
      ],
      "text/latex": [
       "TRUE"
      ],
      "text/markdown": [
       "TRUE"
      ],
      "text/plain": [
       "[1] TRUE"
      ]
     },
     "metadata": {},
     "output_type": "display_data"
    },
    {
     "data": {
      "text/html": [
       "<table>\n",
       "<thead><tr><th scope=col>COUNT(*)</th></tr></thead>\n",
       "<tbody>\n",
       "\t<tr><td>13</td></tr>\n",
       "</tbody>\n",
       "</table>\n"
      ],
      "text/latex": [
       "\\begin{tabular}{r|l}\n",
       " COUNT(*)\\\\\n",
       "\\hline\n",
       "\t 13\\\\\n",
       "\\end{tabular}\n"
      ],
      "text/markdown": [
       "\n",
       "| COUNT(*) |\n",
       "|---|\n",
       "| 13 |\n",
       "\n"
      ],
      "text/plain": [
       "  COUNT(*)\n",
       "1 13      "
      ]
     },
     "metadata": {},
     "output_type": "display_data"
    }
   ],
   "source": [
    "dbClearResult(results)\n",
    "\n",
    "results <- dbGetQuery(con,query)\n",
    "results"
   ]
  },
  {
   "cell_type": "markdown",
   "metadata": {},
   "source": [
    "##### Pergunta 3 - Crie uma consulta sql para verificar a quantidade de imóveis cadastrados no estado de RS. Após executar esse sql, qual o valor retornado?"
   ]
  },
  {
   "cell_type": "code",
   "execution_count": 79,
   "metadata": {},
   "outputs": [
    {
     "data": {
      "text/plain": [
       "<MySQLResult:8,8,5>"
      ]
     },
     "metadata": {},
     "output_type": "display_data"
    }
   ],
   "source": [
    "query <- \"SELECT COUNT(*) AS qtdeImovel FROM imovel\n",
    "INNER JOIN cidade ON cidade.CodigoCompletoIBGE = imovel.CodigoCompletoIBGE\n",
    "INNER JOIN estado ON estado.CodEstadoIBGE = cidade.CodEstadoIBGE\n",
    "WHERE estado.SiglaEstado = 'RS';\"\n",
    "\n",
    "results <- dbSendQuery(con,query)\n",
    "results"
   ]
  },
  {
   "cell_type": "code",
   "execution_count": 80,
   "metadata": {},
   "outputs": [
    {
     "data": {
      "text/html": [
       "TRUE"
      ],
      "text/latex": [
       "TRUE"
      ],
      "text/markdown": [
       "TRUE"
      ],
      "text/plain": [
       "[1] TRUE"
      ]
     },
     "metadata": {},
     "output_type": "display_data"
    },
    {
     "data": {
      "text/html": [
       "<table>\n",
       "<thead><tr><th scope=col>qtdeImovel</th></tr></thead>\n",
       "<tbody>\n",
       "\t<tr><td>8</td></tr>\n",
       "</tbody>\n",
       "</table>\n"
      ],
      "text/latex": [
       "\\begin{tabular}{r|l}\n",
       " qtdeImovel\\\\\n",
       "\\hline\n",
       "\t 8\\\\\n",
       "\\end{tabular}\n"
      ],
      "text/markdown": [
       "\n",
       "| qtdeImovel |\n",
       "|---|\n",
       "| 8 |\n",
       "\n"
      ],
      "text/plain": [
       "  qtdeImovel\n",
       "1 8         "
      ]
     },
     "metadata": {},
     "output_type": "display_data"
    }
   ],
   "source": [
    "dbClearResult(results)\n",
    "\n",
    "results <- dbGetQuery(con,query)\n",
    "results"
   ]
  },
  {
   "cell_type": "markdown",
   "metadata": {},
   "source": [
    "##### Pergunta 5 - Qual das opções abaixo NÃO pode ser utilizada para recuperar todos os dados da tabela estado?"
   ]
  },
  {
   "cell_type": "code",
   "execution_count": 81,
   "metadata": {},
   "outputs": [
    {
     "data": {
      "text/plain": [
       "<MySQLResult:72201328,8,7>"
      ]
     },
     "metadata": {},
     "output_type": "display_data"
    }
   ],
   "source": [
    "query <- \"SELECT CodEstadoIBGE, NomeEstado, SiglaEstado, Regiao FROM estado;\"\n",
    "\n",
    "resultado <- dbSendQuery(con,query)\n",
    "resultado"
   ]
  },
  {
   "cell_type": "markdown",
   "metadata": {},
   "source": [
    "##### Pergunta 6 - Marque a alternativa que NÃO serve para incluir dados em uma tabela do seu banco de dados MySQL (como a tabela “caracteristicasgerais”) utilizando a linguagem R."
   ]
  },
  {
   "cell_type": "code",
   "execution_count": 84,
   "metadata": {},
   "outputs": [
    {
     "ename": "ERROR",
     "evalue": "Error in normalizePath(path.expand(path), winslash, mustWork): path[1]=\"INSERT INTO caracteristicasgerais(idcaracteristicasGerais, dsccaracteristicasGerais) \n            VALUES (4, 'Salão de festas');\": A sintaxe do nome do arquivo, do nome do diretório ou do rótulo do volume está incorreta\n",
     "output_type": "error",
     "traceback": [
      "Error in normalizePath(path.expand(path), winslash, mustWork): path[1]=\"INSERT INTO caracteristicasgerais(idcaracteristicasGerais, dsccaracteristicasGerais) \n            VALUES (4, 'Salão de festas');\": A sintaxe do nome do arquivo, do nome do diretório ou do rótulo do volume está incorreta\nTraceback:\n",
      "1. dbWriteTable(con, value = query, row.names = FALSE, name = \"caracteristicasgerais\", \n .     append = TRUE)",
      "2. dbWriteTable(con, value = query, row.names = FALSE, name = \"caracteristicasgerais\", \n .     append = TRUE)",
      "3. .local(conn, name, value, ...)",
      "4. normalizePath(value, winslash = \"/\", mustWork = TRUE)"
     ]
    }
   ],
   "source": [
    "query <- \"INSERT INTO caracteristicasgerais(idcaracteristicasGerais, dsccaracteristicasGerais) \n",
    "            VALUES (4, 'Salão de festas');\"\n",
    "\n",
    "dbWriteTable(con, value = query, row.names = FALSE,\n",
    "             name = 'caracteristicasgerais', append=TRUE)"
   ]
  },
  {
   "cell_type": "markdown",
   "metadata": {},
   "source": [
    "##### Pergunta 13 - Utilizando a linguagem R, qual o comando para fechar a conexão com um banco de dados mysql?"
   ]
  },
  {
   "cell_type": "code",
   "execution_count": 85,
   "metadata": {},
   "outputs": [
    {
     "data": {
      "text/html": [
       "TRUE"
      ],
      "text/latex": [
       "TRUE"
      ],
      "text/markdown": [
       "TRUE"
      ],
      "text/plain": [
       "[1] TRUE"
      ]
     },
     "metadata": {},
     "output_type": "display_data"
    }
   ],
   "source": [
    "# Desconectar do banco de dados\n",
    "dbDisconnect(con)"
   ]
  }
 ],
 "metadata": {
  "kernelspec": {
   "display_name": "R",
   "language": "R",
   "name": "ir"
  },
  "language_info": {
   "codemirror_mode": "r",
   "file_extension": ".r",
   "mimetype": "text/x-r-source",
   "name": "R",
   "pygments_lexer": "r",
   "version": "3.6.1"
  }
 },
 "nbformat": 4,
 "nbformat_minor": 4
}

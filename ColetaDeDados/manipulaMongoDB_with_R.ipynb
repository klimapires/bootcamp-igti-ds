{
 "cells": [
  {
   "cell_type": "markdown",
   "metadata": {},
   "source": [
    "# Coleta de Dados no MongoDB com R"
   ]
  },
  {
   "cell_type": "code",
   "execution_count": 3,
   "metadata": {},
   "outputs": [
    {
     "name": "stdout",
     "output_type": "stream",
     "text": [
      "package 'mongolite' successfully unpacked and MD5 sums checked\n",
      "\n",
      "The downloaded binary packages are in\n",
      "\tC:\\Users\\Kleber Lima\\AppData\\Local\\Temp\\RtmpGUzcwd\\downloaded_packages\n"
     ]
    }
   ],
   "source": [
    "#instalando pacote mongolite para manipulação ao MongoDB\n",
    "install.packages(\"mongolite\")"
   ]
  },
  {
   "cell_type": "code",
   "execution_count": 2,
   "metadata": {},
   "outputs": [
    {
     "name": "stderr",
     "output_type": "stream",
     "text": [
      "Warning message:\n",
      "\"package 'mongolite' was built under R version 3.6.3\""
     ]
    }
   ],
   "source": [
    "#import library mongolite\n",
    "library(mongolite)"
   ]
  },
  {
   "cell_type": "code",
   "execution_count": 4,
   "metadata": {},
   "outputs": [
    {
     "name": "stderr",
     "output_type": "stream",
     "text": [
      "Registered S3 method overwritten by 'openssl':\n",
      "  method      from\n",
      "  print.bytes Rcpp\n"
     ]
    }
   ],
   "source": [
    "#Conecta ao SGDB MongoDB\n",
    "\n",
    "conn <- mongo(collection = \"pessoas\", db = \"mongo\", url = \"mongodb://localhost\")"
   ]
  },
  {
   "cell_type": "code",
   "execution_count": 6,
   "metadata": {},
   "outputs": [],
   "source": [
    "query <- conn$find()"
   ]
  },
  {
   "cell_type": "code",
   "execution_count": 7,
   "metadata": {},
   "outputs": [
    {
     "name": "stdout",
     "output_type": "stream",
     "text": [
      "    hostname           startTime          startTimeLocal\n",
      "1 HOSTMASTER 2020-12-20 22:53:59 Sun Dec 20 21:53:59.418\n",
      "2 HOSTMASTER 2020-12-20 22:55:09 Sun Dec 20 21:55:09.235\n",
      "3 HOSTMASTER 2020-12-22 01:54:07 Tue Dec 22 00:54:07.563\n",
      "4 HOSTMASTER 2020-12-22 01:55:06 Tue Dec 22 00:55:06.098\n",
      "                                            cmdLine.config cmdLine.net.bindIp\n",
      "1 C:\\\\Program Files\\\\MongoDB\\\\Server\\\\4.4\\\\bin\\\\mongod.cfg          127.0.0.1\n",
      "2 C:\\\\Program Files\\\\MongoDB\\\\Server\\\\4.4\\\\bin\\\\mongod.cfg          127.0.0.1\n",
      "3 C:\\\\Program Files\\\\MongoDB\\\\Server\\\\4.4\\\\bin\\\\mongod.cfg          127.0.0.1\n",
      "4 C:\\\\Program Files\\\\MongoDB\\\\Server\\\\4.4\\\\bin\\\\mongod.cfg          127.0.0.1\n",
      "  cmdLine.net.port cmdLine.service                    cmdLine.storage.dbPath\n",
      "1            27017            TRUE D:\\\\Programas\\\\MongoDB\\\\Server\\\\4.4\\\\data\n",
      "2            27017            TRUE D:\\\\Programas\\\\MongoDB\\\\Server\\\\4.4\\\\data\n",
      "3            27017            TRUE D:\\\\Programas\\\\MongoDB\\\\Server\\\\4.4\\\\data\n",
      "4            27017            TRUE D:\\\\Programas\\\\MongoDB\\\\Server\\\\4.4\\\\data\n",
      "  cmdLine.storage.enabled cmdLine.systemLog.destination\n",
      "1                    TRUE                          file\n",
      "2                    TRUE                          file\n",
      "3                    TRUE                          file\n",
      "4                    TRUE                          file\n",
      "  cmdLine.systemLog.logAppend\n",
      "1                        TRUE\n",
      "2                        TRUE\n",
      "3                        TRUE\n",
      "4                        TRUE\n",
      "                                cmdLine.systemLog.path   pid buildinfo.version\n",
      "1 D:\\\\Programas\\\\MongoDB\\\\Server\\\\4.4\\\\log\\\\mongod.log 17948             4.4.2\n",
      "2 D:\\\\Programas\\\\MongoDB\\\\Server\\\\4.4\\\\log\\\\mongod.log  4380             4.4.2\n",
      "3 D:\\\\Programas\\\\MongoDB\\\\Server\\\\4.4\\\\log\\\\mongod.log  4352             4.4.2\n",
      "4 D:\\\\Programas\\\\MongoDB\\\\Server\\\\4.4\\\\log\\\\mongod.log  4388             4.4.2\n",
      "                      buildinfo.gitVersion            buildinfo.targetMinOS\n",
      "1 15e73dc5738d2278b688f8929aee605fe4279b0e Windows 7/Windows Server 2008 R2\n",
      "2 15e73dc5738d2278b688f8929aee605fe4279b0e Windows 7/Windows Server 2008 R2\n",
      "3 15e73dc5738d2278b688f8929aee605fe4279b0e Windows 7/Windows Server 2008 R2\n",
      "4 15e73dc5738d2278b688f8929aee605fe4279b0e Windows 7/Windows Server 2008 R2\n",
      "  buildinfo.modules buildinfo.allocator buildinfo.javascriptEngine\n",
      "1              NULL            tcmalloc                      mozjs\n",
      "2              NULL            tcmalloc                      mozjs\n",
      "3              NULL            tcmalloc                      mozjs\n",
      "4              NULL            tcmalloc                      mozjs\n",
      "  buildinfo.sysInfo buildinfo.versionArray buildinfo.running\n",
      "1        deprecated             4, 4, 2, 0  Windows SChannel\n",
      "2        deprecated             4, 4, 2, 0  Windows SChannel\n",
      "3        deprecated             4, 4, 2, 0  Windows SChannel\n",
      "4        deprecated             4, 4, 2, 0  Windows SChannel\n",
      "  buildinfo.buildEnvironment.distmod buildinfo.buildEnvironment.distarch\n",
      "1                            windows                              x86_64\n",
      "2                            windows                              x86_64\n",
      "3                            windows                              x86_64\n",
      "4                            windows                              x86_64\n",
      "                                            buildinfo.buildEnvironment.cc\n",
      "1 cl: Microsoft (R) C/C++ Optimizing Compiler Version 19.26.28806 for x64\n",
      "2 cl: Microsoft (R) C/C++ Optimizing Compiler Version 19.26.28806 for x64\n",
      "3 cl: Microsoft (R) C/C++ Optimizing Compiler Version 19.26.28806 for x64\n",
      "4 cl: Microsoft (R) C/C++ Optimizing Compiler Version 19.26.28806 for x64\n",
      "                                                                                                                                                                                                                                                        buildinfo.buildEnvironment.ccflags\n",
      "1 /nologo /EHsc /W3 /wd4068 /wd4244 /wd4267 /wd4290 /wd4351 /wd4355 /wd4373 /wd4800 /wd5041 /wd4291 /we4013 /we4099 /we4930 /WX /errorReport:none /MD /O2 /Oy- /bigobj /utf-8 /permissive- /Zc:__cplusplus /Zc:sizedDealloc /volatile:iso /diagnostics:caret /std:c++17 /Gw /Gy /Zc:inline\n",
      "2 /nologo /EHsc /W3 /wd4068 /wd4244 /wd4267 /wd4290 /wd4351 /wd4355 /wd4373 /wd4800 /wd5041 /wd4291 /we4013 /we4099 /we4930 /WX /errorReport:none /MD /O2 /Oy- /bigobj /utf-8 /permissive- /Zc:__cplusplus /Zc:sizedDealloc /volatile:iso /diagnostics:caret /std:c++17 /Gw /Gy /Zc:inline\n",
      "3 /nologo /EHsc /W3 /wd4068 /wd4244 /wd4267 /wd4290 /wd4351 /wd4355 /wd4373 /wd4800 /wd5041 /wd4291 /we4013 /we4099 /we4930 /WX /errorReport:none /MD /O2 /Oy- /bigobj /utf-8 /permissive- /Zc:__cplusplus /Zc:sizedDealloc /volatile:iso /diagnostics:caret /std:c++17 /Gw /Gy /Zc:inline\n",
      "4 /nologo /EHsc /W3 /wd4068 /wd4244 /wd4267 /wd4290 /wd4351 /wd4355 /wd4373 /wd4800 /wd5041 /wd4291 /we4013 /we4099 /we4930 /WX /errorReport:none /MD /O2 /Oy- /bigobj /utf-8 /permissive- /Zc:__cplusplus /Zc:sizedDealloc /volatile:iso /diagnostics:caret /std:c++17 /Gw /Gy /Zc:inline\n",
      "                                           buildinfo.buildEnvironment.cxx\n",
      "1 cl: Microsoft (R) C/C++ Optimizing Compiler Version 19.26.28806 for x64\n",
      "2 cl: Microsoft (R) C/C++ Optimizing Compiler Version 19.26.28806 for x64\n",
      "3 cl: Microsoft (R) C/C++ Optimizing Compiler Version 19.26.28806 for x64\n",
      "4 cl: Microsoft (R) C/C++ Optimizing Compiler Version 19.26.28806 for x64\n",
      "  buildinfo.buildEnvironment.cxxflags\n",
      "1                                 /TP\n",
      "2                                 /TP\n",
      "3                                 /TP\n",
      "4                                 /TP\n",
      "                        buildinfo.buildEnvironment.linkflags\n",
      "1 /nologo /DEBUG /INCREMENTAL:NO /LARGEADDRESSAWARE /OPT:REF\n",
      "2 /nologo /DEBUG /INCREMENTAL:NO /LARGEADDRESSAWARE /OPT:REF\n",
      "3 /nologo /DEBUG /INCREMENTAL:NO /LARGEADDRESSAWARE /OPT:REF\n",
      "4 /nologo /DEBUG /INCREMENTAL:NO /LARGEADDRESSAWARE /OPT:REF\n",
      "  buildinfo.buildEnvironment.target_arch buildinfo.buildEnvironment.target_os\n",
      "1                                 x86_64                              windows\n",
      "2                                 x86_64                              windows\n",
      "3                                 x86_64                              windows\n",
      "4                                 x86_64                              windows\n",
      "                                                                                                                                                                                                                                                                                                                                                                                                                                                                                                                                                                                                                      buildinfo.buildEnvironment.cppdefines\n",
      "1 SAFEINT_USE_INTRINSICS 0 PCRE_STATIC NDEBUG BOOST_ALL_NO_LIB _UNICODE UNICODE _SILENCE_CXX17_ALLOCATOR_VOID_DEPRECATION_WARNING _SILENCE_CXX17_OLD_ALLOCATOR_MEMBERS_DEPRECATION_WARNING _SILENCE_CXX17_CODECVT_HEADER_DEPRECATION_WARNING _CONSOLE _CRT_SECURE_NO_WARNINGS _SCL_SECURE_NO_WARNINGS _WIN32_WINNT 0x0A00 BOOST_USE_WINAPI_VERSION 0x0A00 NTDDI_VERSION 0x0A000000 BOOST_THREAD_VERSION 5 BOOST_THREAD_USES_DATETIME BOOST_SYSTEM_NO_DEPRECATED BOOST_MATH_NO_LONG_DOUBLE_MATH_FUNCTIONS BOOST_ENABLE_ASSERT_DEBUG_HANDLER BOOST_LOG_NO_SHORTHAND_NAMES BOOST_LOG_USE_NATIVE_SYSLOG BOOST_LOG_WITHOUT_THREAD_ATTR ABSL_FORCE_ALIGNED_ACCESS\n",
      "2 SAFEINT_USE_INTRINSICS 0 PCRE_STATIC NDEBUG BOOST_ALL_NO_LIB _UNICODE UNICODE _SILENCE_CXX17_ALLOCATOR_VOID_DEPRECATION_WARNING _SILENCE_CXX17_OLD_ALLOCATOR_MEMBERS_DEPRECATION_WARNING _SILENCE_CXX17_CODECVT_HEADER_DEPRECATION_WARNING _CONSOLE _CRT_SECURE_NO_WARNINGS _SCL_SECURE_NO_WARNINGS _WIN32_WINNT 0x0A00 BOOST_USE_WINAPI_VERSION 0x0A00 NTDDI_VERSION 0x0A000000 BOOST_THREAD_VERSION 5 BOOST_THREAD_USES_DATETIME BOOST_SYSTEM_NO_DEPRECATED BOOST_MATH_NO_LONG_DOUBLE_MATH_FUNCTIONS BOOST_ENABLE_ASSERT_DEBUG_HANDLER BOOST_LOG_NO_SHORTHAND_NAMES BOOST_LOG_USE_NATIVE_SYSLOG BOOST_LOG_WITHOUT_THREAD_ATTR ABSL_FORCE_ALIGNED_ACCESS\n",
      "3 SAFEINT_USE_INTRINSICS 0 PCRE_STATIC NDEBUG BOOST_ALL_NO_LIB _UNICODE UNICODE _SILENCE_CXX17_ALLOCATOR_VOID_DEPRECATION_WARNING _SILENCE_CXX17_OLD_ALLOCATOR_MEMBERS_DEPRECATION_WARNING _SILENCE_CXX17_CODECVT_HEADER_DEPRECATION_WARNING _CONSOLE _CRT_SECURE_NO_WARNINGS _SCL_SECURE_NO_WARNINGS _WIN32_WINNT 0x0A00 BOOST_USE_WINAPI_VERSION 0x0A00 NTDDI_VERSION 0x0A000000 BOOST_THREAD_VERSION 5 BOOST_THREAD_USES_DATETIME BOOST_SYSTEM_NO_DEPRECATED BOOST_MATH_NO_LONG_DOUBLE_MATH_FUNCTIONS BOOST_ENABLE_ASSERT_DEBUG_HANDLER BOOST_LOG_NO_SHORTHAND_NAMES BOOST_LOG_USE_NATIVE_SYSLOG BOOST_LOG_WITHOUT_THREAD_ATTR ABSL_FORCE_ALIGNED_ACCESS\n",
      "4 SAFEINT_USE_INTRINSICS 0 PCRE_STATIC NDEBUG BOOST_ALL_NO_LIB _UNICODE UNICODE _SILENCE_CXX17_ALLOCATOR_VOID_DEPRECATION_WARNING _SILENCE_CXX17_OLD_ALLOCATOR_MEMBERS_DEPRECATION_WARNING _SILENCE_CXX17_CODECVT_HEADER_DEPRECATION_WARNING _CONSOLE _CRT_SECURE_NO_WARNINGS _SCL_SECURE_NO_WARNINGS _WIN32_WINNT 0x0A00 BOOST_USE_WINAPI_VERSION 0x0A00 NTDDI_VERSION 0x0A000000 BOOST_THREAD_VERSION 5 BOOST_THREAD_USES_DATETIME BOOST_SYSTEM_NO_DEPRECATED BOOST_MATH_NO_LONG_DOUBLE_MATH_FUNCTIONS BOOST_ENABLE_ASSERT_DEBUG_HANDLER BOOST_LOG_NO_SHORTHAND_NAMES BOOST_LOG_USE_NATIVE_SYSLOG BOOST_LOG_WITHOUT_THREAD_ATTR ABSL_FORCE_ALIGNED_ACCESS\n",
      "  buildinfo.bits buildinfo.debug buildinfo.maxBsonObjectSize\n",
      "1             64           FALSE                    16777216\n",
      "2             64           FALSE                    16777216\n",
      "3             64           FALSE                    16777216\n",
      "4             64           FALSE                    16777216\n",
      "                       buildinfo.storageEngines\n",
      "1 biggie, devnull, ephemeralForTest, wiredTiger\n",
      "2 biggie, devnull, ephemeralForTest, wiredTiger\n",
      "3 biggie, devnull, ephemeralForTest, wiredTiger\n",
      "4 biggie, devnull, ephemeralForTest, wiredTiger\n"
     ]
    }
   ],
   "source": [
    "print(query)"
   ]
  },
  {
   "cell_type": "markdown",
   "metadata": {},
   "source": [
    "### Ler a coleção Iris no arquivo CSV e inserir no MongoDB"
   ]
  },
  {
   "cell_type": "code",
   "execution_count": 11,
   "metadata": {},
   "outputs": [],
   "source": [
    "iris <- read.csv(\"D:/praticas/datasets/CSV/iris.csv\")"
   ]
  },
  {
   "cell_type": "code",
   "execution_count": 12,
   "metadata": {},
   "outputs": [],
   "source": [
    "conn <- mongo(collection = \"iris\", db = \"learnMongo\", url = \"mongodb://localhost\")"
   ]
  },
  {
   "cell_type": "code",
   "execution_count": 13,
   "metadata": {},
   "outputs": [
    {
     "data": {
      "text/plain": [
       "List of 5\n",
       " $ nInserted  : num 150\n",
       " $ nMatched   : num 0\n",
       " $ nRemoved   : num 0\n",
       " $ nUpserted  : num 0\n",
       " $ writeErrors: list()"
      ]
     },
     "metadata": {},
     "output_type": "display_data"
    }
   ],
   "source": [
    "conn$insert(iris)"
   ]
  },
  {
   "cell_type": "code",
   "execution_count": 14,
   "metadata": {},
   "outputs": [
    {
     "data": {
      "text/html": [
       "<table>\n",
       "<thead><tr><th scope=col>Id</th><th scope=col>SepalLengthCm</th><th scope=col>SepalWidthCm</th><th scope=col>PetalLengthCm</th><th scope=col>PetalWidthCm</th><th scope=col>Species</th></tr></thead>\n",
       "<tbody>\n",
       "\t<tr><td>1          </td><td>5.1        </td><td>3.5        </td><td>1.4        </td><td>0.2        </td><td>Iris-setosa</td></tr>\n",
       "\t<tr><td>2          </td><td>4.9        </td><td>3.0        </td><td>1.4        </td><td>0.2        </td><td>Iris-setosa</td></tr>\n",
       "\t<tr><td>3          </td><td>4.7        </td><td>3.2        </td><td>1.3        </td><td>0.2        </td><td>Iris-setosa</td></tr>\n",
       "\t<tr><td>4          </td><td>4.6        </td><td>3.1        </td><td>1.5        </td><td>0.2        </td><td>Iris-setosa</td></tr>\n",
       "\t<tr><td>5          </td><td>5.0        </td><td>3.6        </td><td>1.4        </td><td>0.2        </td><td>Iris-setosa</td></tr>\n",
       "</tbody>\n",
       "</table>\n"
      ],
      "text/latex": [
       "\\begin{tabular}{r|llllll}\n",
       " Id & SepalLengthCm & SepalWidthCm & PetalLengthCm & PetalWidthCm & Species\\\\\n",
       "\\hline\n",
       "\t 1           & 5.1         & 3.5         & 1.4         & 0.2         & Iris-setosa\\\\\n",
       "\t 2           & 4.9         & 3.0         & 1.4         & 0.2         & Iris-setosa\\\\\n",
       "\t 3           & 4.7         & 3.2         & 1.3         & 0.2         & Iris-setosa\\\\\n",
       "\t 4           & 4.6         & 3.1         & 1.5         & 0.2         & Iris-setosa\\\\\n",
       "\t 5           & 5.0         & 3.6         & 1.4         & 0.2         & Iris-setosa\\\\\n",
       "\\end{tabular}\n"
      ],
      "text/markdown": [
       "\n",
       "| Id | SepalLengthCm | SepalWidthCm | PetalLengthCm | PetalWidthCm | Species |\n",
       "|---|---|---|---|---|---|\n",
       "| 1           | 5.1         | 3.5         | 1.4         | 0.2         | Iris-setosa |\n",
       "| 2           | 4.9         | 3.0         | 1.4         | 0.2         | Iris-setosa |\n",
       "| 3           | 4.7         | 3.2         | 1.3         | 0.2         | Iris-setosa |\n",
       "| 4           | 4.6         | 3.1         | 1.5         | 0.2         | Iris-setosa |\n",
       "| 5           | 5.0         | 3.6         | 1.4         | 0.2         | Iris-setosa |\n",
       "\n"
      ],
      "text/plain": [
       "  Id SepalLengthCm SepalWidthCm PetalLengthCm PetalWidthCm Species    \n",
       "1 1  5.1           3.5          1.4           0.2          Iris-setosa\n",
       "2 2  4.9           3.0          1.4           0.2          Iris-setosa\n",
       "3 3  4.7           3.2          1.3           0.2          Iris-setosa\n",
       "4 4  4.6           3.1          1.5           0.2          Iris-setosa\n",
       "5 5  5.0           3.6          1.4           0.2          Iris-setosa"
      ]
     },
     "metadata": {},
     "output_type": "display_data"
    }
   ],
   "source": [
    "conn$find(limit=5)"
   ]
  },
  {
   "cell_type": "code",
   "execution_count": 12,
   "metadata": {},
   "outputs": [
    {
     "data": {
      "text/plain": [
       "List of 6\n",
       " $ nInserted  : int 3\n",
       " $ nMatched   : int 0\n",
       " $ nModified  : int 0\n",
       " $ nRemoved   : int 0\n",
       " $ nUpserted  : int 0\n",
       " $ writeErrors: list()"
      ]
     },
     "metadata": {},
     "output_type": "display_data"
    }
   ],
   "source": [
    "pessoas <- mongo(collection = \"pessoas\", db = \"learnMongo\", url = \"mongodb://localhost\")\n",
    "\n",
    "str <- c('{\"nome\" : \"Maria\"}', '{\"nome\" : \"Ana\", \"idade\" : 23}', '{\"nome\" : \"João\"}')\n",
    "\n",
    "pessoas$insert(str)"
   ]
  },
  {
   "cell_type": "code",
   "execution_count": 18,
   "metadata": {},
   "outputs": [
    {
     "data": {
      "text/html": [
       "<table>\n",
       "<thead><tr><th scope=col>nome</th><th scope=col>idade</th></tr></thead>\n",
       "<tbody>\n",
       "\t<tr><td>Maria</td><td>NA   </td></tr>\n",
       "\t<tr><td>Ana  </td><td>23   </td></tr>\n",
       "\t<tr><td>João </td><td>NA   </td></tr>\n",
       "</tbody>\n",
       "</table>\n"
      ],
      "text/latex": [
       "\\begin{tabular}{r|ll}\n",
       " nome & idade\\\\\n",
       "\\hline\n",
       "\t Maria & NA   \\\\\n",
       "\t Ana   & 23   \\\\\n",
       "\t João  & NA   \\\\\n",
       "\\end{tabular}\n"
      ],
      "text/markdown": [
       "\n",
       "| nome | idade |\n",
       "|---|---|\n",
       "| Maria | NA    |\n",
       "| Ana   | 23    |\n",
       "| João  | NA    |\n",
       "\n"
      ],
      "text/plain": [
       "  nome  idade\n",
       "1 Maria NA   \n",
       "2 Ana   23   \n",
       "3 João  NA   "
      ]
     },
     "metadata": {},
     "output_type": "display_data"
    }
   ],
   "source": [
    "pessoas$find()"
   ]
  },
  {
   "cell_type": "code",
   "execution_count": 19,
   "metadata": {},
   "outputs": [
    {
     "data": {
      "text/html": [
       "3"
      ],
      "text/latex": [
       "3"
      ],
      "text/markdown": [
       "3"
      ],
      "text/plain": [
       "[1] 3"
      ]
     },
     "metadata": {},
     "output_type": "display_data"
    }
   ],
   "source": [
    "pessoas$count()"
   ]
  },
  {
   "cell_type": "code",
   "execution_count": 20,
   "metadata": {},
   "outputs": [
    {
     "data": {
      "text/html": [
       "2"
      ],
      "text/latex": [
       "2"
      ],
      "text/markdown": [
       "2"
      ],
      "text/plain": [
       "[1] 2"
      ]
     },
     "metadata": {},
     "output_type": "display_data"
    }
   ],
   "source": [
    "pessoas$remove('{\"idade\" : 23}')\n",
    "pessoas$count()"
   ]
  },
  {
   "cell_type": "code",
   "execution_count": 21,
   "metadata": {},
   "outputs": [
    {
     "data": {
      "text/html": [
       "<table>\n",
       "<thead><tr><th scope=col>nome</th></tr></thead>\n",
       "<tbody>\n",
       "\t<tr><td>Maria</td></tr>\n",
       "\t<tr><td>João </td></tr>\n",
       "</tbody>\n",
       "</table>\n"
      ],
      "text/latex": [
       "\\begin{tabular}{r|l}\n",
       " nome\\\\\n",
       "\\hline\n",
       "\t Maria\\\\\n",
       "\t João \\\\\n",
       "\\end{tabular}\n"
      ],
      "text/markdown": [
       "\n",
       "| nome |\n",
       "|---|\n",
       "| Maria |\n",
       "| João  |\n",
       "\n"
      ],
      "text/plain": [
       "  nome \n",
       "1 Maria\n",
       "2 João "
      ]
     },
     "metadata": {},
     "output_type": "display_data"
    }
   ],
   "source": [
    "pessoas$find()"
   ]
  },
  {
   "cell_type": "code",
   "execution_count": 22,
   "metadata": {},
   "outputs": [
    {
     "data": {
      "text/plain": [
       "List of 6\n",
       " $ nInserted  : int 3\n",
       " $ nMatched   : int 0\n",
       " $ nModified  : int 0\n",
       " $ nRemoved   : int 0\n",
       " $ nUpserted  : int 0\n",
       " $ writeErrors: list()"
      ]
     },
     "metadata": {},
     "output_type": "display_data"
    }
   ],
   "source": [
    "str <- c('{\"nome\" : \"Bill\"}', '{\"nome\" : \"Anna\", \"idade\" : 23}', '{\"nome\" : \"José\", \"idade\" : 35}')\n",
    "\n",
    "pessoas$insert(str)"
   ]
  },
  {
   "cell_type": "code",
   "execution_count": 23,
   "metadata": {},
   "outputs": [
    {
     "data": {
      "text/html": [
       "<table>\n",
       "<thead><tr><th scope=col>nome</th><th scope=col>idade</th></tr></thead>\n",
       "<tbody>\n",
       "\t<tr><td>Maria</td><td>NA   </td></tr>\n",
       "\t<tr><td>João </td><td>NA   </td></tr>\n",
       "\t<tr><td>Bill </td><td>NA   </td></tr>\n",
       "\t<tr><td>Anna </td><td>23   </td></tr>\n",
       "\t<tr><td>José </td><td>35   </td></tr>\n",
       "</tbody>\n",
       "</table>\n"
      ],
      "text/latex": [
       "\\begin{tabular}{r|ll}\n",
       " nome & idade\\\\\n",
       "\\hline\n",
       "\t Maria & NA   \\\\\n",
       "\t João  & NA   \\\\\n",
       "\t Bill  & NA   \\\\\n",
       "\t Anna  & 23   \\\\\n",
       "\t José  & 35   \\\\\n",
       "\\end{tabular}\n"
      ],
      "text/markdown": [
       "\n",
       "| nome | idade |\n",
       "|---|---|\n",
       "| Maria | NA    |\n",
       "| João  | NA    |\n",
       "| Bill  | NA    |\n",
       "| Anna  | 23    |\n",
       "| José  | 35    |\n",
       "\n"
      ],
      "text/plain": [
       "  nome  idade\n",
       "1 Maria NA   \n",
       "2 João  NA   \n",
       "3 Bill  NA   \n",
       "4 Anna  23   \n",
       "5 José  35   "
      ]
     },
     "metadata": {},
     "output_type": "display_data"
    }
   ],
   "source": [
    "pessoas$find()"
   ]
  },
  {
   "cell_type": "code",
   "execution_count": 24,
   "metadata": {},
   "outputs": [
    {
     "data": {
      "text/plain": [
       "List of 3\n",
       " $ modifiedCount: int 1\n",
       " $ matchedCount : int 1\n",
       " $ upsertedCount: int 0"
      ]
     },
     "metadata": {},
     "output_type": "display_data"
    }
   ],
   "source": [
    "pessoas$update('{\"nome\" : \"Bill\"}', '{\"$set\":{\"idade\" : 21}}')"
   ]
  },
  {
   "cell_type": "code",
   "execution_count": 25,
   "metadata": {},
   "outputs": [
    {
     "data": {
      "text/html": [
       "<table>\n",
       "<thead><tr><th scope=col>nome</th><th scope=col>idade</th></tr></thead>\n",
       "<tbody>\n",
       "\t<tr><td>Maria</td><td>NA   </td></tr>\n",
       "\t<tr><td>João </td><td>NA   </td></tr>\n",
       "\t<tr><td>Bill </td><td>21   </td></tr>\n",
       "\t<tr><td>Anna </td><td>23   </td></tr>\n",
       "\t<tr><td>José </td><td>35   </td></tr>\n",
       "</tbody>\n",
       "</table>\n"
      ],
      "text/latex": [
       "\\begin{tabular}{r|ll}\n",
       " nome & idade\\\\\n",
       "\\hline\n",
       "\t Maria & NA   \\\\\n",
       "\t João  & NA   \\\\\n",
       "\t Bill  & 21   \\\\\n",
       "\t Anna  & 23   \\\\\n",
       "\t José  & 35   \\\\\n",
       "\\end{tabular}\n"
      ],
      "text/markdown": [
       "\n",
       "| nome | idade |\n",
       "|---|---|\n",
       "| Maria | NA    |\n",
       "| João  | NA    |\n",
       "| Bill  | 21    |\n",
       "| Anna  | 23    |\n",
       "| José  | 35    |\n",
       "\n"
      ],
      "text/plain": [
       "  nome  idade\n",
       "1 Maria NA   \n",
       "2 João  NA   \n",
       "3 Bill  21   \n",
       "4 Anna  23   \n",
       "5 José  35   "
      ]
     },
     "metadata": {},
     "output_type": "display_data"
    }
   ],
   "source": [
    "pessoas$find()"
   ]
  },
  {
   "cell_type": "code",
   "execution_count": 16,
   "metadata": {},
   "outputs": [],
   "source": [
    "iris <- mongo(collection = \"iris\", db = \"learnMongo\", url = \"mongodb://localhost\")"
   ]
  },
  {
   "cell_type": "code",
   "execution_count": 17,
   "metadata": {},
   "outputs": [
    {
     "data": {
      "text/html": [
       "150"
      ],
      "text/latex": [
       "150"
      ],
      "text/markdown": [
       "150"
      ],
      "text/plain": [
       "[1] 150"
      ]
     },
     "metadata": {},
     "output_type": "display_data"
    }
   ],
   "source": [
    "iris$count()"
   ]
  },
  {
   "cell_type": "code",
   "execution_count": 18,
   "metadata": {},
   "outputs": [],
   "source": [
    "#Cria um dataframe com todos os dados da coleção\n",
    "iris.df <- iris$find()"
   ]
  },
  {
   "cell_type": "code",
   "execution_count": 19,
   "metadata": {},
   "outputs": [
    {
     "name": "stdout",
     "output_type": "stream",
     "text": [
      "[1] \"Número de colunas:  6\"\n",
      "[1] \"Número de linhas:  150\"\n",
      "[1] \"Tamanho:  6\"\n"
     ]
    }
   ],
   "source": [
    "print(paste('Número de colunas: ', ncol(iris.df)))\n",
    "print(paste('Número de linhas: ', nrow(iris.df)))\n",
    "print(paste('Tamanho: ', length(iris.df)))"
   ]
  },
  {
   "cell_type": "code",
   "execution_count": 21,
   "metadata": {},
   "outputs": [
    {
     "data": {
      "text/html": [
       "<table>\n",
       "<thead><tr><th scope=col>Id</th><th scope=col>SepalLengthCm</th><th scope=col>SepalWidthCm</th><th scope=col>PetalLengthCm</th><th scope=col>PetalWidthCm</th><th scope=col>Species</th></tr></thead>\n",
       "<tbody>\n",
       "\t<tr><td>1          </td><td>5.1        </td><td>3.5        </td><td>1.4        </td><td>0.2        </td><td>Iris-setosa</td></tr>\n",
       "\t<tr><td>2          </td><td>4.9        </td><td>3.0        </td><td>1.4        </td><td>0.2        </td><td>Iris-setosa</td></tr>\n",
       "\t<tr><td>3          </td><td>4.7        </td><td>3.2        </td><td>1.3        </td><td>0.2        </td><td>Iris-setosa</td></tr>\n",
       "\t<tr><td>4          </td><td>4.6        </td><td>3.1        </td><td>1.5        </td><td>0.2        </td><td>Iris-setosa</td></tr>\n",
       "\t<tr><td>5          </td><td>5.0        </td><td>3.6        </td><td>1.4        </td><td>0.2        </td><td>Iris-setosa</td></tr>\n",
       "\t<tr><td>6          </td><td>5.4        </td><td>3.9        </td><td>1.7        </td><td>0.4        </td><td>Iris-setosa</td></tr>\n",
       "</tbody>\n",
       "</table>\n"
      ],
      "text/latex": [
       "\\begin{tabular}{r|llllll}\n",
       " Id & SepalLengthCm & SepalWidthCm & PetalLengthCm & PetalWidthCm & Species\\\\\n",
       "\\hline\n",
       "\t 1           & 5.1         & 3.5         & 1.4         & 0.2         & Iris-setosa\\\\\n",
       "\t 2           & 4.9         & 3.0         & 1.4         & 0.2         & Iris-setosa\\\\\n",
       "\t 3           & 4.7         & 3.2         & 1.3         & 0.2         & Iris-setosa\\\\\n",
       "\t 4           & 4.6         & 3.1         & 1.5         & 0.2         & Iris-setosa\\\\\n",
       "\t 5           & 5.0         & 3.6         & 1.4         & 0.2         & Iris-setosa\\\\\n",
       "\t 6           & 5.4         & 3.9         & 1.7         & 0.4         & Iris-setosa\\\\\n",
       "\\end{tabular}\n"
      ],
      "text/markdown": [
       "\n",
       "| Id | SepalLengthCm | SepalWidthCm | PetalLengthCm | PetalWidthCm | Species |\n",
       "|---|---|---|---|---|---|\n",
       "| 1           | 5.1         | 3.5         | 1.4         | 0.2         | Iris-setosa |\n",
       "| 2           | 4.9         | 3.0         | 1.4         | 0.2         | Iris-setosa |\n",
       "| 3           | 4.7         | 3.2         | 1.3         | 0.2         | Iris-setosa |\n",
       "| 4           | 4.6         | 3.1         | 1.5         | 0.2         | Iris-setosa |\n",
       "| 5           | 5.0         | 3.6         | 1.4         | 0.2         | Iris-setosa |\n",
       "| 6           | 5.4         | 3.9         | 1.7         | 0.4         | Iris-setosa |\n",
       "\n"
      ],
      "text/plain": [
       "  Id SepalLengthCm SepalWidthCm PetalLengthCm PetalWidthCm Species    \n",
       "1 1  5.1           3.5          1.4           0.2          Iris-setosa\n",
       "2 2  4.9           3.0          1.4           0.2          Iris-setosa\n",
       "3 3  4.7           3.2          1.3           0.2          Iris-setosa\n",
       "4 4  4.6           3.1          1.5           0.2          Iris-setosa\n",
       "5 5  5.0           3.6          1.4           0.2          Iris-setosa\n",
       "6 6  5.4           3.9          1.7           0.4          Iris-setosa"
      ]
     },
     "metadata": {},
     "output_type": "display_data"
    }
   ],
   "source": [
    "# imprime as 6 priimeiras liinhas do vetor(dataframe) iris\n",
    "head(iris.df)"
   ]
  },
  {
   "cell_type": "code",
   "execution_count": 22,
   "metadata": {},
   "outputs": [
    {
     "name": "stdout",
     "output_type": "stream",
     "text": [
      "  [1] \"1\"   \"2\"   \"3\"   \"4\"   \"5\"   \"6\"   \"7\"   \"8\"   \"9\"   \"10\"  \"11\"  \"12\" \n",
      " [13] \"13\"  \"14\"  \"15\"  \"16\"  \"17\"  \"18\"  \"19\"  \"20\"  \"21\"  \"22\"  \"23\"  \"24\" \n",
      " [25] \"25\"  \"26\"  \"27\"  \"28\"  \"29\"  \"30\"  \"31\"  \"32\"  \"33\"  \"34\"  \"35\"  \"36\" \n",
      " [37] \"37\"  \"38\"  \"39\"  \"40\"  \"41\"  \"42\"  \"43\"  \"44\"  \"45\"  \"46\"  \"47\"  \"48\" \n",
      " [49] \"49\"  \"50\"  \"51\"  \"52\"  \"53\"  \"54\"  \"55\"  \"56\"  \"57\"  \"58\"  \"59\"  \"60\" \n",
      " [61] \"61\"  \"62\"  \"63\"  \"64\"  \"65\"  \"66\"  \"67\"  \"68\"  \"69\"  \"70\"  \"71\"  \"72\" \n",
      " [73] \"73\"  \"74\"  \"75\"  \"76\"  \"77\"  \"78\"  \"79\"  \"80\"  \"81\"  \"82\"  \"83\"  \"84\" \n",
      " [85] \"85\"  \"86\"  \"87\"  \"88\"  \"89\"  \"90\"  \"91\"  \"92\"  \"93\"  \"94\"  \"95\"  \"96\" \n",
      " [97] \"97\"  \"98\"  \"99\"  \"100\" \"101\" \"102\" \"103\" \"104\" \"105\" \"106\" \"107\" \"108\"\n",
      "[109] \"109\" \"110\" \"111\" \"112\" \"113\" \"114\" \"115\" \"116\" \"117\" \"118\" \"119\" \"120\"\n",
      "[121] \"121\" \"122\" \"123\" \"124\" \"125\" \"126\" \"127\" \"128\" \"129\" \"130\" \"131\" \"132\"\n",
      "[133] \"133\" \"134\" \"135\" \"136\" \"137\" \"138\" \"139\" \"140\" \"141\" \"142\" \"143\" \"144\"\n",
      "[145] \"145\" \"146\" \"147\" \"148\" \"149\" \"150\"\n"
     ]
    }
   ],
   "source": [
    "#Imprime os nomeas de linhas do dataframe\n",
    "print(rownames(iris.df))"
   ]
  },
  {
   "cell_type": "code",
   "execution_count": 23,
   "metadata": {},
   "outputs": [
    {
     "name": "stdout",
     "output_type": "stream",
     "text": [
      "[1] \"Id\"            \"SepalLengthCm\" \"SepalWidthCm\"  \"PetalLengthCm\"\n",
      "[5] \"PetalWidthCm\"  \"Species\"      \n"
     ]
    }
   ],
   "source": [
    "print(colnames(iris.df))"
   ]
  },
  {
   "cell_type": "code",
   "execution_count": 24,
   "metadata": {},
   "outputs": [],
   "source": [
    "write.csv(iris.df, 'D:/praticas/datasets/csv/iris2.csv', row.names=FALSE)"
   ]
  },
  {
   "cell_type": "code",
   "execution_count": 25,
   "metadata": {},
   "outputs": [
    {
     "data": {
      "text/html": [
       "<table>\n",
       "<thead><tr><th scope=col>Id</th><th scope=col>SepalLengthCm</th><th scope=col>SepalWidthCm</th><th scope=col>PetalLengthCm</th><th scope=col>PetalWidthCm</th><th scope=col>Species</th></tr></thead>\n",
       "<tbody>\n",
       "\t<tr><td>1          </td><td>5.1        </td><td>3.5        </td><td>1.4        </td><td>0.2        </td><td>Iris-setosa</td></tr>\n",
       "\t<tr><td>2          </td><td>4.9        </td><td>3.0        </td><td>1.4        </td><td>0.2        </td><td>Iris-setosa</td></tr>\n",
       "\t<tr><td>3          </td><td>4.7        </td><td>3.2        </td><td>1.3        </td><td>0.2        </td><td>Iris-setosa</td></tr>\n",
       "\t<tr><td>4          </td><td>4.6        </td><td>3.1        </td><td>1.5        </td><td>0.2        </td><td>Iris-setosa</td></tr>\n",
       "\t<tr><td>5          </td><td>5.0        </td><td>3.6        </td><td>1.4        </td><td>0.2        </td><td>Iris-setosa</td></tr>\n",
       "\t<tr><td>6          </td><td>5.4        </td><td>3.9        </td><td>1.7        </td><td>0.4        </td><td>Iris-setosa</td></tr>\n",
       "</tbody>\n",
       "</table>\n"
      ],
      "text/latex": [
       "\\begin{tabular}{r|llllll}\n",
       " Id & SepalLengthCm & SepalWidthCm & PetalLengthCm & PetalWidthCm & Species\\\\\n",
       "\\hline\n",
       "\t 1           & 5.1         & 3.5         & 1.4         & 0.2         & Iris-setosa\\\\\n",
       "\t 2           & 4.9         & 3.0         & 1.4         & 0.2         & Iris-setosa\\\\\n",
       "\t 3           & 4.7         & 3.2         & 1.3         & 0.2         & Iris-setosa\\\\\n",
       "\t 4           & 4.6         & 3.1         & 1.5         & 0.2         & Iris-setosa\\\\\n",
       "\t 5           & 5.0         & 3.6         & 1.4         & 0.2         & Iris-setosa\\\\\n",
       "\t 6           & 5.4         & 3.9         & 1.7         & 0.4         & Iris-setosa\\\\\n",
       "\\end{tabular}\n"
      ],
      "text/markdown": [
       "\n",
       "| Id | SepalLengthCm | SepalWidthCm | PetalLengthCm | PetalWidthCm | Species |\n",
       "|---|---|---|---|---|---|\n",
       "| 1           | 5.1         | 3.5         | 1.4         | 0.2         | Iris-setosa |\n",
       "| 2           | 4.9         | 3.0         | 1.4         | 0.2         | Iris-setosa |\n",
       "| 3           | 4.7         | 3.2         | 1.3         | 0.2         | Iris-setosa |\n",
       "| 4           | 4.6         | 3.1         | 1.5         | 0.2         | Iris-setosa |\n",
       "| 5           | 5.0         | 3.6         | 1.4         | 0.2         | Iris-setosa |\n",
       "| 6           | 5.4         | 3.9         | 1.7         | 0.4         | Iris-setosa |\n",
       "\n"
      ],
      "text/plain": [
       "  Id SepalLengthCm SepalWidthCm PetalLengthCm PetalWidthCm Species    \n",
       "1 1  5.1           3.5          1.4           0.2          Iris-setosa\n",
       "2 2  4.9           3.0          1.4           0.2          Iris-setosa\n",
       "3 3  4.7           3.2          1.3           0.2          Iris-setosa\n",
       "4 4  4.6           3.1          1.5           0.2          Iris-setosa\n",
       "5 5  5.0           3.6          1.4           0.2          Iris-setosa\n",
       "6 6  5.4           3.9          1.7           0.4          Iris-setosa"
      ]
     },
     "metadata": {},
     "output_type": "display_data"
    }
   ],
   "source": [
    "iris.df2 <- iris.df\n",
    "head(iris.df2)"
   ]
  },
  {
   "cell_type": "code",
   "execution_count": 27,
   "metadata": {},
   "outputs": [
    {
     "name": "stdout",
     "output_type": "stream",
     "text": [
      "[1] \"Colunas do dataframe 2:\"\n",
      "[1] \"\"\n",
      "[1] \"Id\"            \"SepalLengthCm\" \"SepalWidthCm\"  \"PetalLengthCm\"\n",
      "[5] \"PetalWidthCm\"  \"Species\"      \n"
     ]
    }
   ],
   "source": [
    "print(\"Colunas do dataframe 2:\")\n",
    "print('')\n",
    "print(colnames(iris.df2))"
   ]
  },
  {
   "cell_type": "code",
   "execution_count": 28,
   "metadata": {},
   "outputs": [
    {
     "name": "stdout",
     "output_type": "stream",
     "text": [
      "[1] \"Colunas do dataframe 2 após setar colunas ID e Species como NULL:\"\n",
      "[1] \"\"\n",
      "[1] \"SepalLengthCm\" \"SepalWidthCm\"  \"PetalLengthCm\" \"PetalWidthCm\" \n"
     ]
    }
   ],
   "source": [
    "iris.df2$Id <- NULL\n",
    "iris.df2$Species <- NULL\n",
    "print(\"Colunas do dataframe 2 após setar colunas ID e Species como NULL:\")\n",
    "print('')\n",
    "print(colnames(iris.df2))"
   ]
  },
  {
   "cell_type": "code",
   "execution_count": 29,
   "metadata": {},
   "outputs": [
    {
     "name": "stdout",
     "output_type": "stream",
     "text": [
      "[1] \"Comprimento_Sepala\" \"Largura_Sepala\"     \"Comprimento_Petala\"\n",
      "[4] \"Largura_Petala\"    \n"
     ]
    }
   ],
   "source": [
    "#Renomear colunas do dataframe\n",
    "colnames(iris.df2)[1] <- \"Comprimento_Sepala\"\n",
    "colnames(iris.df2)[2] <- \"Largura_Sepala\"\n",
    "colnames(iris.df2)[3] <- \"Comprimento_Petala\"\n",
    "colnames(iris.df2)[4] <- \"Largura_Petala\"\n",
    "print(colnames(iris.df2))"
   ]
  },
  {
   "cell_type": "code",
   "execution_count": 30,
   "metadata": {},
   "outputs": [
    {
     "data": {
      "text/plain": [
       " Comprimento_Sepala Largura_Sepala  Comprimento_Petala Largura_Petala \n",
       " Min.   :4.300      Min.   :2.000   Min.   :1.000      Min.   :0.100  \n",
       " 1st Qu.:5.100      1st Qu.:2.800   1st Qu.:1.600      1st Qu.:0.300  \n",
       " Median :5.800      Median :3.000   Median :4.350      Median :1.300  \n",
       " Mean   :5.843      Mean   :3.054   Mean   :3.759      Mean   :1.199  \n",
       " 3rd Qu.:6.400      3rd Qu.:3.300   3rd Qu.:5.100      3rd Qu.:1.800  \n",
       " Max.   :7.900      Max.   :4.400   Max.   :6.900      Max.   :2.500  "
      ]
     },
     "metadata": {},
     "output_type": "display_data"
    }
   ],
   "source": [
    "summary(iris.df2)"
   ]
  },
  {
   "cell_type": "markdown",
   "metadata": {},
   "source": [
    "### Plotando gráficos no R "
   ]
  },
  {
   "cell_type": "code",
   "execution_count": 31,
   "metadata": {},
   "outputs": [
    {
     "data": {
      "image/png": "[encoded data removed]",
      "text/plain": [
       "plot without title"
      ]
     },
     "metadata": {},
     "output_type": "display_data"
    }
   ],
   "source": [
    "boxplot(iris.df2, col=3, ylab=\"Valores(cm)\", xlab=\"Característica\")"
   ]
  },
  {
   "cell_type": "code",
   "execution_count": 33,
   "metadata": {},
   "outputs": [
    {
     "data": {
      "image/png": "[encoded data removed]",
      "text/plain": [
       "plot without title"
      ]
     },
     "metadata": {},
     "output_type": "display_data"
    }
   ],
   "source": [
    "#Boxplot sem uso de outliers com o opção \"range = 0\"\n",
    "boxplot(iris.df2, col=2, range=0, ylab=\"Valores(cm)\", xlab=\"Característica\")"
   ]
  },
  {
   "cell_type": "code",
   "execution_count": 35,
   "metadata": {},
   "outputs": [
    {
     "data": {
      "image/png": "[encoded data removed]",
      "text/plain": [
       "plot without title"
      ]
     },
     "metadata": {},
     "output_type": "display_data"
    }
   ],
   "source": [
    "#Mostrar todas as observações cruas da ammostra A na forma de gráfico barplot. Anote y$A significa a\n",
    "#coluna A de observações no arranjo de dados y\n",
    "#parametro col=4 indica cor das barras para azul\n",
    "barplot(iris.df2$Comprimento_Sepala, ylab=\"Valores em cm\", xlab=\"Valores crus\",\n",
    "       names=as.character(iris.df2$Comprimento_Sepala), cex.names=0.7, ylim=c(0,10), col=4);"
   ]
  },
  {
   "cell_type": "code",
   "execution_count": 45,
   "metadata": {},
   "outputs": [
    {
     "data": {
      "image/png": "[encoded data removed]",
      "text/plain": [
       "Plot with title \"Histograma de amostra A\""
      ]
     },
     "metadata": {},
     "output_type": "display_data"
    }
   ],
   "source": [
    "#Para monstrar um histograma de frequência das observações em amostra A (mais informmativo sobre a \n",
    "#distribuição das observações do que o gráfico anterior)\n",
    "hist(iris.df2$Comprimento_Sepala, col=8, main=\"Histograma de amostra A\", xlab=\"Classe \n",
    "de massa (g)\", ylab=\"Frequência\");"
   ]
  },
  {
   "cell_type": "markdown",
   "metadata": {},
   "source": [
    "### Importar e exportar dados do MongoDB De/Para arquivos"
   ]
  },
  {
   "cell_type": "markdown",
   "metadata": {},
   "source": [
    "#### Exportar dados de uma coleção para um arquivos JSON"
   ]
  },
  {
   "cell_type": "code",
   "execution_count": 46,
   "metadata": {},
   "outputs": [
    {
     "name": "stdout",
     "output_type": "stream",
     "text": [
      "{ \"_id\" : { \"$oid\" : \"5fe25ae6e82b00006e005829\" }, \"Id\" : 1, \"SepalLengthCm\" : 5.0999999999999996447, \"SepalWidthCm\" : 3.5, \"PetalLengthCm\" : 1.3999999999999999112, \"PetalWidthCm\" : 0.2000000000000000111, \"Species\" : \"Iris-setosa\" }\n",
      "{ \"_id\" : { \"$oid\" : \"5fe25ae6e82b00006e00582a\" }, \"Id\" : 2, \"SepalLengthCm\" : 4.9000000000000003553, \"SepalWidthCm\" : 3.0, \"PetalLengthCm\" : 1.3999999999999999112, \"PetalWidthCm\" : 0.2000000000000000111, \"Species\" : \"Iris-setosa\" }\n",
      "{ \"_id\" : { \"$oid\" : \"5fe25ae6e82b00006e00582b\" }, \"Id\" : 3, \"SepalLengthCm\" : 4.7000000000000001776, \"SepalWidthCm\" : 3.2000000000000001776, \"PetalLengthCm\" : 1.3000000000000000444, \"PetalWidthCm\" : 0.2000000000000000111, \"Species\" : \"Iris-setosa\" }\n",
      "{ \"_id\" : { \"$oid\" : \"5fe25ae6e82b00006e00582c\" }, \"Id\" : 4, \"SepalLengthCm\" : 4.5999999999999996447, \"SepalWidthCm\" : 3.1000000000000000888, \"PetalLengthCm\" : 1.5, \"PetalWidthCm\" : 0.2000000000000000111, \"Species\" : \"Iris-setosa\" }\n",
      "{ \"_id\" : { \"$oid\" : \"5fe25ae6e82b00006e00582d\" }, \"Id\" : 5, \"SepalLengthCm\" : 5.0, \"SepalWidthCm\" : 3.6000000000000000888, \"PetalLengthCm\" : 1.3999999999999999112, \"PetalWidthCm\" : 0.2000000000000000111, \"Species\" : \"Iris-setosa\" }\n",
      "{ \"_id\" : { \"$oid\" : \"5fe25ae6e82b00006e00582e\" }, \"Id\" : 6, \"SepalLengthCm\" : 5.4000000000000003553, \"SepalWidthCm\" : 3.8999999999999999112, \"PetalLengthCm\" : 1.6999999999999999556, \"PetalWidthCm\" : 0.4000000000000000222, \"Species\" : \"Iris-setosa\" }\n",
      "{ \"_id\" : { \"$oid\" : \"5fe25ae6e82b00006e00582f\" }, \"Id\" : 7, \"SepalLengthCm\" : 4.5999999999999996447, \"SepalWidthCm\" : 3.3999999999999999112, \"PetalLengthCm\" : 1.3999999999999999112, \"PetalWidthCm\" : 0.2999999999999999889, \"Species\" : \"Iris-setosa\" }\n",
      "{ \"_id\" : { \"$oid\" : \"5fe25ae6e82b00006e005830\" }, \"Id\" : 8, \"SepalLengthCm\" : 5.0, \"SepalWidthCm\" : 3.3999999999999999112, \"PetalLengthCm\" : 1.5, \"PetalWidthCm\" : 0.2000000000000000111, \"Species\" : \"Iris-setosa\" }\n",
      "{ \"_id\" : { \"$oid\" : \"5fe25ae6e82b00006e005831\" }, \"Id\" : 9, \"SepalLengthCm\" : 4.4000000000000003553, \"SepalWidthCm\" : 2.8999999999999999112, \"PetalLengthCm\" : 1.3999999999999999112, \"PetalWidthCm\" : 0.2000000000000000111, \"Species\" : \"Iris-setosa\" }\n",
      "{ \"_id\" : { \"$oid\" : \"5fe25ae6e82b00006e005832\" }, \"Id\" : 10, \"SepalLengthCm\" : 4.9000000000000003553, \"SepalWidthCm\" : 3.1000000000000000888, \"PetalLengthCm\" : 1.5, \"PetalWidthCm\" : 0.10000000000000000555, \"Species\" : \"Iris-setosa\" }\n",
      "{ \"_id\" : { \"$oid\" : \"5fe25ae6e82b00006e005833\" }, \"Id\" : 11, \"SepalLengthCm\" : 5.4000000000000003553, \"SepalWidthCm\" : 3.7000000000000001776, \"PetalLengthCm\" : 1.5, \"PetalWidthCm\" : 0.2000000000000000111, \"Species\" : \"Iris-setosa\" }\n",
      "{ \"_id\" : { \"$oid\" : \"5fe25ae6e82b00006e005834\" }, \"Id\" : 12, \"SepalLengthCm\" : 4.7999999999999998224, \"SepalWidthCm\" : 3.3999999999999999112, \"PetalLengthCm\" : 1.6000000000000000888, \"PetalWidthCm\" : 0.2000000000000000111, \"Species\" : \"Iris-setosa\" }\n",
      "{ \"_id\" : { \"$oid\" : \"5fe25ae6e82b00006e005835\" }, \"Id\" : 13, \"SepalLengthCm\" : 4.7999999999999998224, \"SepalWidthCm\" : 3.0, \"PetalLengthCm\" : 1.3999999999999999112, \"PetalWidthCm\" : 0.10000000000000000555, \"Species\" : \"Iris-setosa\" }\n",
      "{ \"_id\" : { \"$oid\" : \"5fe25ae6e82b00006e005836\" }, \"Id\" : 14, \"SepalLengthCm\" : 4.2999999999999998224, \"SepalWidthCm\" : 3.0, \"PetalLengthCm\" : 1.1000000000000000888, \"PetalWidthCm\" : 0.10000000000000000555, \"Species\" : \"Iris-setosa\" }\n",
      "{ \"_id\" : { \"$oid\" : \"5fe25ae6e82b00006e005837\" }, \"Id\" : 15, \"SepalLengthCm\" : 5.7999999999999998224, \"SepalWidthCm\" : 4.0, \"PetalLengthCm\" : 1.1999999999999999556, \"PetalWidthCm\" : 0.2000000000000000111, \"Species\" : \"Iris-setosa\" }\n",
      "{ \"_id\" : { \"$oid\" : \"5fe25ae6e82b00006e005838\" }, \"Id\" : 16, \"SepalLengthCm\" : 5.7000000000000001776, \"SepalWidthCm\" : 4.4000000000000003553, \"PetalLengthCm\" : 1.5, \"PetalWidthCm\" : 0.4000000000000000222, \"Species\" : \"Iris-setosa\" }\n",
      "{ \"_id\" : { \"$oid\" : \"5fe25ae6e82b00006e005839\" }, \"Id\" : 17, \"SepalLengthCm\" : 5.4000000000000003553, \"SepalWidthCm\" : 3.8999999999999999112, \"PetalLengthCm\" : 1.3000000000000000444, \"PetalWidthCm\" : 0.4000000000000000222, \"Species\" : \"Iris-setosa\" }\n",
      "{ \"_id\" : { \"$oid\" : \"5fe25ae6e82b00006e00583a\" }, \"Id\" : 18, \"SepalLengthCm\" : 5.0999999999999996447, \"SepalWidthCm\" : 3.5, \"PetalLengthCm\" : 1.3999999999999999112, \"PetalWidthCm\" : 0.2999999999999999889, \"Species\" : \"Iris-setosa\" }\n",
      "{ \"_id\" : { \"$oid\" : \"5fe25ae6e82b00006e00583b\" }, \"Id\" : 19, \"SepalLengthCm\" : 5.7000000000000001776, \"SepalWidthCm\" : 3.7999999999999998224, \"PetalLengthCm\" : 1.6999999999999999556, \"PetalWidthCm\" : 0.2999999999999999889, \"Species\" : \"Iris-setosa\" }\n",
      "{ \"_id\" : { \"$oid\" : \"5fe25ae6e82b00006e00583c\" }, \"Id\" : 20, \"SepalLengthCm\" : 5.0999999999999996447, \"SepalWidthCm\" : 3.7999999999999998224, \"PetalLengthCm\" : 1.5, \"PetalWidthCm\" : 0.2999999999999999889, \"Species\" : \"Iris-setosa\" }\n",
      "{ \"_id\" : { \"$oid\" : \"5fe25ae6e82b00006e00583d\" }, \"Id\" : 21, \"SepalLengthCm\" : 5.4000000000000003553, \"SepalWidthCm\" : 3.3999999999999999112, \"PetalLengthCm\" : 1.6999999999999999556, \"PetalWidthCm\" : 0.2000000000000000111, \"Species\" : \"Iris-setosa\" }\n",
      "{ \"_id\" : { \"$oid\" : \"5fe25ae6e82b00006e00583e\" }, \"Id\" : 22, \"SepalLengthCm\" : 5.0999999999999996447, \"SepalWidthCm\" : 3.7000000000000001776, \"PetalLengthCm\" : 1.5, \"PetalWidthCm\" : 0.4000000000000000222, \"Species\" : \"Iris-setosa\" }\n",
      "{ \"_id\" : { \"$oid\" : \"5fe25ae6e82b00006e00583f\" }, \"Id\" : 23, \"SepalLengthCm\" : 4.5999999999999996447, \"SepalWidthCm\" : 3.6000000000000000888, \"PetalLengthCm\" : 1.0, \"PetalWidthCm\" : 0.2000000000000000111, \"Species\" : \"Iris-setosa\" }\n",
      "{ \"_id\" : { \"$oid\" : \"5fe25ae6e82b00006e005840\" }, \"Id\" : 24, \"SepalLengthCm\" : 5.0999999999999996447, \"SepalWidthCm\" : 3.2999999999999998224, \"PetalLengthCm\" : 1.6999999999999999556, \"PetalWidthCm\" : 0.5, \"Species\" : \"Iris-setosa\" }\n",
      "{ \"_id\" : { \"$oid\" : \"5fe25ae6e82b00006e005841\" }, \"Id\" : 25, \"SepalLengthCm\" : 4.7999999999999998224, \"SepalWidthCm\" : 3.3999999999999999112, \"PetalLengthCm\" : 1.8999999999999999112, \"PetalWidthCm\" : 0.2000000000000000111, \"Species\" : \"Iris-setosa\" }\n",
      "{ \"_id\" : { \"$oid\" : \"5fe25ae6e82b00006e005842\" }, \"Id\" : 26, \"SepalLengthCm\" : 5.0, \"SepalWidthCm\" : 3.0, \"PetalLengthCm\" : 1.6000000000000000888, \"PetalWidthCm\" : 0.2000000000000000111, \"Species\" : \"Iris-setosa\" }\n",
      "{ \"_id\" : { \"$oid\" : \"5fe25ae6e82b00006e005843\" }, \"Id\" : 27, \"SepalLengthCm\" : 5.0, \"SepalWidthCm\" : 3.3999999999999999112, \"PetalLengthCm\" : 1.6000000000000000888, \"PetalWidthCm\" : 0.4000000000000000222, \"Species\" : \"Iris-setosa\" }\n",
      "{ \"_id\" : { \"$oid\" : \"5fe25ae6e82b00006e005844\" }, \"Id\" : 28, \"SepalLengthCm\" : 5.2000000000000001776, \"SepalWidthCm\" : 3.5, \"PetalLengthCm\" : 1.5, \"PetalWidthCm\" : 0.2000000000000000111, \"Species\" : \"Iris-setosa\" }\n",
      "{ \"_id\" : { \"$oid\" : \"5fe25ae6e82b00006e005845\" }, \"Id\" : 29, \"SepalLengthCm\" : 5.2000000000000001776, \"SepalWidthCm\" : 3.3999999999999999112, \"PetalLengthCm\" : 1.3999999999999999112, \"PetalWidthCm\" : 0.2000000000000000111, \"Species\" : \"Iris-setosa\" }\n",
      "{ \"_id\" : { \"$oid\" : \"5fe25ae6e82b00006e005846\" }, \"Id\" : 30, \"SepalLengthCm\" : 4.7000000000000001776, \"SepalWidthCm\" : 3.2000000000000001776, \"PetalLengthCm\" : 1.6000000000000000888, \"PetalWidthCm\" : 0.2000000000000000111, \"Species\" : \"Iris-setosa\" }\n",
      "{ \"_id\" : { \"$oid\" : \"5fe25ae6e82b00006e005847\" }, \"Id\" : 31, \"SepalLengthCm\" : 4.7999999999999998224, \"SepalWidthCm\" : 3.1000000000000000888, \"PetalLengthCm\" : 1.6000000000000000888, \"PetalWidthCm\" : 0.2000000000000000111, \"Species\" : \"Iris-setosa\" }\n",
      "{ \"_id\" : { \"$oid\" : \"5fe25ae6e82b00006e005848\" }, \"Id\" : 32, \"SepalLengthCm\" : 5.4000000000000003553, \"SepalWidthCm\" : 3.3999999999999999112, \"PetalLengthCm\" : 1.5, \"PetalWidthCm\" : 0.4000000000000000222, \"Species\" : \"Iris-setosa\" }\n",
      "{ \"_id\" : { \"$oid\" : \"5fe25ae6e82b00006e005849\" }, \"Id\" : 33, \"SepalLengthCm\" : 5.2000000000000001776, \"SepalWidthCm\" : 4.0999999999999996447, \"PetalLengthCm\" : 1.5, \"PetalWidthCm\" : 0.10000000000000000555, \"Species\" : \"Iris-setosa\" }\n",
      "{ \"_id\" : { \"$oid\" : \"5fe25ae6e82b00006e00584a\" }, \"Id\" : 34, \"SepalLengthCm\" : 5.5, \"SepalWidthCm\" : 4.2000000000000001776, \"PetalLengthCm\" : 1.3999999999999999112, \"PetalWidthCm\" : 0.2000000000000000111, \"Species\" : \"Iris-setosa\" }\n",
      "{ \"_id\" : { \"$oid\" : \"5fe25ae6e82b00006e00584b\" }, \"Id\" : 35, \"SepalLengthCm\" : 4.9000000000000003553, \"SepalWidthCm\" : 3.1000000000000000888, \"PetalLengthCm\" : 1.5, \"PetalWidthCm\" : 0.10000000000000000555, \"Species\" : \"Iris-setosa\" }\n",
      "{ \"_id\" : { \"$oid\" : \"5fe25ae6e82b00006e00584c\" }, \"Id\" : 36, \"SepalLengthCm\" : 5.0, \"SepalWidthCm\" : 3.2000000000000001776, \"PetalLengthCm\" : 1.1999999999999999556, \"PetalWidthCm\" : 0.2000000000000000111, \"Species\" : \"Iris-setosa\" }\n",
      "{ \"_id\" : { \"$oid\" : \"5fe25ae6e82b00006e00584d\" }, \"Id\" : 37, \"SepalLengthCm\" : 5.5, \"SepalWidthCm\" : 3.5, \"PetalLengthCm\" : 1.3000000000000000444, \"PetalWidthCm\" : 0.2000000000000000111, \"Species\" : \"Iris-setosa\" }\n",
      "{ \"_id\" : { \"$oid\" : \"5fe25ae6e82b00006e00584e\" }, \"Id\" : 38, \"SepalLengthCm\" : 4.9000000000000003553, \"SepalWidthCm\" : 3.1000000000000000888, \"PetalLengthCm\" : 1.5, \"PetalWidthCm\" : 0.10000000000000000555, \"Species\" : \"Iris-setosa\" }\n",
      "{ \"_id\" : { \"$oid\" : \"5fe25ae6e82b00006e00584f\" }, \"Id\" : 39, \"SepalLengthCm\" : 4.4000000000000003553, \"SepalWidthCm\" : 3.0, \"PetalLengthCm\" : 1.3000000000000000444, \"PetalWidthCm\" : 0.2000000000000000111, \"Species\" : \"Iris-setosa\" }\n",
      "{ \"_id\" : { \"$oid\" : \"5fe25ae6e82b00006e005850\" }, \"Id\" : 40, \"SepalLengthCm\" : 5.0999999999999996447, \"SepalWidthCm\" : 3.3999999999999999112, \"PetalLengthCm\" : 1.5, \"PetalWidthCm\" : 0.2000000000000000111, \"Species\" : \"Iris-setosa\" }\n",
      "{ \"_id\" : { \"$oid\" : \"5fe25ae6e82b00006e005851\" }, \"Id\" : 41, \"SepalLengthCm\" : 5.0, \"SepalWidthCm\" : 3.5, \"PetalLengthCm\" : 1.3000000000000000444, \"PetalWidthCm\" : 0.2999999999999999889, \"Species\" : \"Iris-setosa\" }\n",
      "{ \"_id\" : { \"$oid\" : \"5fe25ae6e82b00006e005852\" }, \"Id\" : 42, \"SepalLengthCm\" : 4.5, \"SepalWidthCm\" : 2.2999999999999998224, \"PetalLengthCm\" : 1.3000000000000000444, \"PetalWidthCm\" : 0.2999999999999999889, \"Species\" : \"Iris-setosa\" }\n",
      "{ \"_id\" : { \"$oid\" : \"5fe25ae6e82b00006e005853\" }, \"Id\" : 43, \"SepalLengthCm\" : 4.4000000000000003553, \"SepalWidthCm\" : 3.2000000000000001776, \"PetalLengthCm\" : 1.3000000000000000444, \"PetalWidthCm\" : 0.2000000000000000111, \"Species\" : \"Iris-setosa\" }\n",
      "{ \"_id\" : { \"$oid\" : \"5fe25ae6e82b00006e005854\" }, \"Id\" : 44, \"SepalLengthCm\" : 5.0, \"SepalWidthCm\" : 3.5, \"PetalLengthCm\" : 1.6000000000000000888, \"PetalWidthCm\" : 0.5999999999999999778, \"Species\" : \"Iris-setosa\" }\n",
      "{ \"_id\" : { \"$oid\" : \"5fe25ae6e82b00006e005855\" }, \"Id\" : 45, \"SepalLengthCm\" : 5.0999999999999996447, \"SepalWidthCm\" : 3.7999999999999998224, \"PetalLengthCm\" : 1.8999999999999999112, \"PetalWidthCm\" : 0.4000000000000000222, \"Species\" : \"Iris-setosa\" }\n",
      "{ \"_id\" : { \"$oid\" : \"5fe25ae6e82b00006e005856\" }, \"Id\" : 46, \"SepalLengthCm\" : 4.7999999999999998224, \"SepalWidthCm\" : 3.0, \"PetalLengthCm\" : 1.3999999999999999112, \"PetalWidthCm\" : 0.2999999999999999889, \"Species\" : \"Iris-setosa\" }\n",
      "{ \"_id\" : { \"$oid\" : \"5fe25ae6e82b00006e005857\" }, \"Id\" : 47, \"SepalLengthCm\" : 5.0999999999999996447, \"SepalWidthCm\" : 3.7999999999999998224, \"PetalLengthCm\" : 1.6000000000000000888, \"PetalWidthCm\" : 0.2000000000000000111, \"Species\" : \"Iris-setosa\" }\n",
      "{ \"_id\" : { \"$oid\" : \"5fe25ae6e82b00006e005858\" }, \"Id\" : 48, \"SepalLengthCm\" : 4.5999999999999996447, \"SepalWidthCm\" : 3.2000000000000001776, \"PetalLengthCm\" : 1.3999999999999999112, \"PetalWidthCm\" : 0.2000000000000000111, \"Species\" : \"Iris-setosa\" }\n",
      "{ \"_id\" : { \"$oid\" : \"5fe25ae6e82b00006e005859\" }, \"Id\" : 49, \"SepalLengthCm\" : 5.2999999999999998224, \"SepalWidthCm\" : 3.7000000000000001776, \"PetalLengthCm\" : 1.5, \"PetalWidthCm\" : 0.2000000000000000111, \"Species\" : \"Iris-setosa\" }\n",
      "{ \"_id\" : { \"$oid\" : \"5fe25ae6e82b00006e00585a\" }, \"Id\" : 50, \"SepalLengthCm\" : 5.0, \"SepalWidthCm\" : 3.2999999999999998224, \"PetalLengthCm\" : 1.3999999999999999112, \"PetalWidthCm\" : 0.2000000000000000111, \"Species\" : \"Iris-setosa\" }\n",
      "{ \"_id\" : { \"$oid\" : \"5fe25ae6e82b00006e00585b\" }, \"Id\" : 51, \"SepalLengthCm\" : 7.0, \"SepalWidthCm\" : 3.2000000000000001776, \"PetalLengthCm\" : 4.7000000000000001776, \"PetalWidthCm\" : 1.3999999999999999112, \"Species\" : \"Iris-versicolor\" }\n",
      "{ \"_id\" : { \"$oid\" : \"5fe25ae6e82b00006e00585c\" }, \"Id\" : 52, \"SepalLengthCm\" : 6.4000000000000003553, \"SepalWidthCm\" : 3.2000000000000001776, \"PetalLengthCm\" : 4.5, \"PetalWidthCm\" : 1.5, \"Species\" : \"Iris-versicolor\" }\n",
      "{ \"_id\" : { \"$oid\" : \"5fe25ae6e82b00006e00585d\" }, \"Id\" : 53, \"SepalLengthCm\" : 6.9000000000000003553, \"SepalWidthCm\" : 3.1000000000000000888, \"PetalLengthCm\" : 4.9000000000000003553, \"PetalWidthCm\" : 1.5, \"Species\" : \"Iris-versicolor\" }\n",
      "{ \"_id\" : { \"$oid\" : \"5fe25ae6e82b00006e00585e\" }, \"Id\" : 54, \"SepalLengthCm\" : 5.5, \"SepalWidthCm\" : 2.2999999999999998224, \"PetalLengthCm\" : 4.0, \"PetalWidthCm\" : 1.3000000000000000444, \"Species\" : \"Iris-versicolor\" }\n",
      "{ \"_id\" : { \"$oid\" : \"5fe25ae6e82b00006e00585f\" }, \"Id\" : 55, \"SepalLengthCm\" : 6.5, \"SepalWidthCm\" : 2.7999999999999998224, \"PetalLengthCm\" : 4.5999999999999996447, \"PetalWidthCm\" : 1.5, \"Species\" : \"Iris-versicolor\" }\n",
      "{ \"_id\" : { \"$oid\" : \"5fe25ae6e82b00006e005860\" }, \"Id\" : 56, \"SepalLengthCm\" : 5.7000000000000001776, \"SepalWidthCm\" : 2.7999999999999998224, \"PetalLengthCm\" : 4.5, \"PetalWidthCm\" : 1.3000000000000000444, \"Species\" : \"Iris-versicolor\" }\n",
      "{ \"_id\" : { \"$oid\" : \"5fe25ae6e82b00006e005861\" }, \"Id\" : 57, \"SepalLengthCm\" : 6.2999999999999998224, \"SepalWidthCm\" : 3.2999999999999998224, \"PetalLengthCm\" : 4.7000000000000001776, \"PetalWidthCm\" : 1.6000000000000000888, \"Species\" : \"Iris-versicolor\" }\n",
      "{ \"_id\" : { \"$oid\" : \"5fe25ae6e82b00006e005862\" }, \"Id\" : 58, \"SepalLengthCm\" : 4.9000000000000003553, \"SepalWidthCm\" : 2.3999999999999999112, \"PetalLengthCm\" : 3.2999999999999998224, \"PetalWidthCm\" : 1.0, \"Species\" : \"Iris-versicolor\" }\n",
      "{ \"_id\" : { \"$oid\" : \"5fe25ae6e82b00006e005863\" }, \"Id\" : 59, \"SepalLengthCm\" : 6.5999999999999996447, \"SepalWidthCm\" : 2.8999999999999999112, \"PetalLengthCm\" : 4.5999999999999996447, \"PetalWidthCm\" : 1.3000000000000000444, \"Species\" : \"Iris-versicolor\" }\n",
      "{ \"_id\" : { \"$oid\" : \"5fe25ae6e82b00006e005864\" }, \"Id\" : 60, \"SepalLengthCm\" : 5.2000000000000001776, \"SepalWidthCm\" : 2.7000000000000001776, \"PetalLengthCm\" : 3.8999999999999999112, \"PetalWidthCm\" : 1.3999999999999999112, \"Species\" : \"Iris-versicolor\" }\n",
      "{ \"_id\" : { \"$oid\" : \"5fe25ae6e82b00006e005865\" }, \"Id\" : 61, \"SepalLengthCm\" : 5.0, \"SepalWidthCm\" : 2.0, \"PetalLengthCm\" : 3.5, \"PetalWidthCm\" : 1.0, \"Species\" : \"Iris-versicolor\" }\n",
      "{ \"_id\" : { \"$oid\" : \"5fe25ae6e82b00006e005866\" }, \"Id\" : 62, \"SepalLengthCm\" : 5.9000000000000003553, \"SepalWidthCm\" : 3.0, \"PetalLengthCm\" : 4.2000000000000001776, \"PetalWidthCm\" : 1.5, \"Species\" : \"Iris-versicolor\" }\n",
      "{ \"_id\" : { \"$oid\" : \"5fe25ae6e82b00006e005867\" }, \"Id\" : 63, \"SepalLengthCm\" : 6.0, \"SepalWidthCm\" : 2.2000000000000001776, \"PetalLengthCm\" : 4.0, \"PetalWidthCm\" : 1.0, \"Species\" : \"Iris-versicolor\" }\n",
      "{ \"_id\" : { \"$oid\" : \"5fe25ae6e82b00006e005868\" }, \"Id\" : 64, \"SepalLengthCm\" : 6.0999999999999996447, \"SepalWidthCm\" : 2.8999999999999999112, \"PetalLengthCm\" : 4.7000000000000001776, \"PetalWidthCm\" : 1.3999999999999999112, \"Species\" : \"Iris-versicolor\" }\n",
      "{ \"_id\" : { \"$oid\" : \"5fe25ae6e82b00006e005869\" }, \"Id\" : 65, \"SepalLengthCm\" : 5.5999999999999996447, \"SepalWidthCm\" : 2.8999999999999999112, \"PetalLengthCm\" : 3.6000000000000000888, \"PetalWidthCm\" : 1.3000000000000000444, \"Species\" : \"Iris-versicolor\" }\n",
      "{ \"_id\" : { \"$oid\" : \"5fe25ae6e82b00006e00586a\" }, \"Id\" : 66, \"SepalLengthCm\" : 6.7000000000000001776, \"SepalWidthCm\" : 3.1000000000000000888, \"PetalLengthCm\" : 4.4000000000000003553, \"PetalWidthCm\" : 1.3999999999999999112, \"Species\" : \"Iris-versicolor\" }\n",
      "{ \"_id\" : { \"$oid\" : \"5fe25ae6e82b00006e00586b\" }, \"Id\" : 67, \"SepalLengthCm\" : 5.5999999999999996447, \"SepalWidthCm\" : 3.0, \"PetalLengthCm\" : 4.5, \"PetalWidthCm\" : 1.5, \"Species\" : \"Iris-versicolor\" }\n",
      "{ \"_id\" : { \"$oid\" : \"5fe25ae6e82b00006e00586c\" }, \"Id\" : 68, \"SepalLengthCm\" : 5.7999999999999998224, \"SepalWidthCm\" : 2.7000000000000001776, \"PetalLengthCm\" : 4.0999999999999996447, \"PetalWidthCm\" : 1.0, \"Species\" : \"Iris-versicolor\" }\n",
      "{ \"_id\" : { \"$oid\" : \"5fe25ae6e82b00006e00586d\" }, \"Id\" : 69, \"SepalLengthCm\" : 6.2000000000000001776, \"SepalWidthCm\" : 2.2000000000000001776, \"PetalLengthCm\" : 4.5, \"PetalWidthCm\" : 1.5, \"Species\" : \"Iris-versicolor\" }\n",
      "{ \"_id\" : { \"$oid\" : \"5fe25ae6e82b00006e00586e\" }, \"Id\" : 70, \"SepalLengthCm\" : 5.5999999999999996447, \"SepalWidthCm\" : 2.5, \"PetalLengthCm\" : 3.8999999999999999112, \"PetalWidthCm\" : 1.1000000000000000888, \"Species\" : \"Iris-versicolor\" }\n",
      "{ \"_id\" : { \"$oid\" : \"5fe25ae6e82b00006e00586f\" }, \"Id\" : 71, \"SepalLengthCm\" : 5.9000000000000003553, \"SepalWidthCm\" : 3.2000000000000001776, \"PetalLengthCm\" : 4.7999999999999998224, \"PetalWidthCm\" : 1.8000000000000000444, \"Species\" : \"Iris-versicolor\" }\n",
      "{ \"_id\" : { \"$oid\" : \"5fe25ae6e82b00006e005870\" }, \"Id\" : 72, \"SepalLengthCm\" : 6.0999999999999996447, \"SepalWidthCm\" : 2.7999999999999998224, \"PetalLengthCm\" : 4.0, \"PetalWidthCm\" : 1.3000000000000000444, \"Species\" : \"Iris-versicolor\" }\n",
      "{ \"_id\" : { \"$oid\" : \"5fe25ae6e82b00006e005871\" }, \"Id\" : 73, \"SepalLengthCm\" : 6.2999999999999998224, \"SepalWidthCm\" : 2.5, \"PetalLengthCm\" : 4.9000000000000003553, \"PetalWidthCm\" : 1.5, \"Species\" : \"Iris-versicolor\" }\n",
      "{ \"_id\" : { \"$oid\" : \"5fe25ae6e82b00006e005872\" }, \"Id\" : 74, \"SepalLengthCm\" : 6.0999999999999996447, \"SepalWidthCm\" : 2.7999999999999998224, \"PetalLengthCm\" : 4.7000000000000001776, \"PetalWidthCm\" : 1.1999999999999999556, \"Species\" : \"Iris-versicolor\" }\n",
      "{ \"_id\" : { \"$oid\" : \"5fe25ae6e82b00006e005873\" }, \"Id\" : 75, \"SepalLengthCm\" : 6.4000000000000003553, \"SepalWidthCm\" : 2.8999999999999999112, \"PetalLengthCm\" : 4.2999999999999998224, \"PetalWidthCm\" : 1.3000000000000000444, \"Species\" : \"Iris-versicolor\" }\n",
      "{ \"_id\" : { \"$oid\" : \"5fe25ae6e82b00006e005874\" }, \"Id\" : 76, \"SepalLengthCm\" : 6.5999999999999996447, \"SepalWidthCm\" : 3.0, \"PetalLengthCm\" : 4.4000000000000003553, \"PetalWidthCm\" : 1.3999999999999999112, \"Species\" : \"Iris-versicolor\" }\n",
      "{ \"_id\" : { \"$oid\" : \"5fe25ae6e82b00006e005875\" }, \"Id\" : 77, \"SepalLengthCm\" : 6.7999999999999998224, \"SepalWidthCm\" : 2.7999999999999998224, \"PetalLengthCm\" : 4.7999999999999998224, \"PetalWidthCm\" : 1.3999999999999999112, \"Species\" : \"Iris-versicolor\" }\n",
      "{ \"_id\" : { \"$oid\" : \"5fe25ae6e82b00006e005876\" }, \"Id\" : 78, \"SepalLengthCm\" : 6.7000000000000001776, \"SepalWidthCm\" : 3.0, \"PetalLengthCm\" : 5.0, \"PetalWidthCm\" : 1.6999999999999999556, \"Species\" : \"Iris-versicolor\" }\n",
      "{ \"_id\" : { \"$oid\" : \"5fe25ae6e82b00006e005877\" }, \"Id\" : 79, \"SepalLengthCm\" : 6.0, \"SepalWidthCm\" : 2.8999999999999999112, \"PetalLengthCm\" : 4.5, \"PetalWidthCm\" : 1.5, \"Species\" : \"Iris-versicolor\" }\n",
      "{ \"_id\" : { \"$oid\" : \"5fe25ae6e82b00006e005878\" }, \"Id\" : 80, \"SepalLengthCm\" : 5.7000000000000001776, \"SepalWidthCm\" : 2.6000000000000000888, \"PetalLengthCm\" : 3.5, \"PetalWidthCm\" : 1.0, \"Species\" : \"Iris-versicolor\" }\n",
      "{ \"_id\" : { \"$oid\" : \"5fe25ae6e82b00006e005879\" }, \"Id\" : 81, \"SepalLengthCm\" : 5.5, \"SepalWidthCm\" : 2.3999999999999999112, \"PetalLengthCm\" : 3.7999999999999998224, \"PetalWidthCm\" : 1.1000000000000000888, \"Species\" : \"Iris-versicolor\" }\n",
      "{ \"_id\" : { \"$oid\" : \"5fe25ae6e82b00006e00587a\" }, \"Id\" : 82, \"SepalLengthCm\" : 5.5, \"SepalWidthCm\" : 2.3999999999999999112, \"PetalLengthCm\" : 3.7000000000000001776, \"PetalWidthCm\" : 1.0, \"Species\" : \"Iris-versicolor\" }\n",
      "{ \"_id\" : { \"$oid\" : \"5fe25ae6e82b00006e00587b\" }, \"Id\" : 83, \"SepalLengthCm\" : 5.7999999999999998224, \"SepalWidthCm\" : 2.7000000000000001776, \"PetalLengthCm\" : 3.8999999999999999112, \"PetalWidthCm\" : 1.1999999999999999556, \"Species\" : \"Iris-versicolor\" }\n",
      "{ \"_id\" : { \"$oid\" : \"5fe25ae6e82b00006e00587c\" }, \"Id\" : 84, \"SepalLengthCm\" : 6.0, \"SepalWidthCm\" : 2.7000000000000001776, \"PetalLengthCm\" : 5.0999999999999996447, \"PetalWidthCm\" : 1.6000000000000000888, \"Species\" : \"Iris-versicolor\" }\n",
      "{ \"_id\" : { \"$oid\" : \"5fe25ae6e82b00006e00587d\" }, \"Id\" : 85, \"SepalLengthCm\" : 5.4000000000000003553, \"SepalWidthCm\" : 3.0, \"PetalLengthCm\" : 4.5, \"PetalWidthCm\" : 1.5, \"Species\" : \"Iris-versicolor\" }\n",
      "{ \"_id\" : { \"$oid\" : \"5fe25ae6e82b00006e00587e\" }, \"Id\" : 86, \"SepalLengthCm\" : 6.0, \"SepalWidthCm\" : 3.3999999999999999112, \"PetalLengthCm\" : 4.5, \"PetalWidthCm\" : 1.6000000000000000888, \"Species\" : \"Iris-versicolor\" }\n",
      "{ \"_id\" : { \"$oid\" : \"5fe25ae6e82b00006e00587f\" }, \"Id\" : 87, \"SepalLengthCm\" : 6.7000000000000001776, \"SepalWidthCm\" : 3.1000000000000000888, \"PetalLengthCm\" : 4.7000000000000001776, \"PetalWidthCm\" : 1.5, \"Species\" : \"Iris-versicolor\" }\n",
      "{ \"_id\" : { \"$oid\" : \"5fe25ae6e82b00006e005880\" }, \"Id\" : 88, \"SepalLengthCm\" : 6.2999999999999998224, \"SepalWidthCm\" : 2.2999999999999998224, \"PetalLengthCm\" : 4.4000000000000003553, \"PetalWidthCm\" : 1.3000000000000000444, \"Species\" : \"Iris-versicolor\" }\n",
      "{ \"_id\" : { \"$oid\" : \"5fe25ae6e82b00006e005881\" }, \"Id\" : 89, \"SepalLengthCm\" : 5.5999999999999996447, \"SepalWidthCm\" : 3.0, \"PetalLengthCm\" : 4.0999999999999996447, \"PetalWidthCm\" : 1.3000000000000000444, \"Species\" : \"Iris-versicolor\" }\n",
      "{ \"_id\" : { \"$oid\" : \"5fe25ae6e82b00006e005882\" }, \"Id\" : 90, \"SepalLengthCm\" : 5.5, \"SepalWidthCm\" : 2.5, \"PetalLengthCm\" : 4.0, \"PetalWidthCm\" : 1.3000000000000000444, \"Species\" : \"Iris-versicolor\" }\n",
      "{ \"_id\" : { \"$oid\" : \"5fe25ae6e82b00006e005883\" }, \"Id\" : 91, \"SepalLengthCm\" : 5.5, \"SepalWidthCm\" : 2.6000000000000000888, \"PetalLengthCm\" : 4.4000000000000003553, \"PetalWidthCm\" : 1.1999999999999999556, \"Species\" : \"Iris-versicolor\" }\n",
      "{ \"_id\" : { \"$oid\" : \"5fe25ae6e82b00006e005884\" }, \"Id\" : 92, \"SepalLengthCm\" : 6.0999999999999996447, \"SepalWidthCm\" : 3.0, \"PetalLengthCm\" : 4.5999999999999996447, \"PetalWidthCm\" : 1.3999999999999999112, \"Species\" : \"Iris-versicolor\" }\n",
      "{ \"_id\" : { \"$oid\" : \"5fe25ae6e82b00006e005885\" }, \"Id\" : 93, \"SepalLengthCm\" : 5.7999999999999998224, \"SepalWidthCm\" : 2.6000000000000000888, \"PetalLengthCm\" : 4.0, \"PetalWidthCm\" : 1.1999999999999999556, \"Species\" : \"Iris-versicolor\" }\n",
      "{ \"_id\" : { \"$oid\" : \"5fe25ae6e82b00006e005886\" }, \"Id\" : 94, \"SepalLengthCm\" : 5.0, \"SepalWidthCm\" : 2.2999999999999998224, \"PetalLengthCm\" : 3.2999999999999998224, \"PetalWidthCm\" : 1.0, \"Species\" : \"Iris-versicolor\" }\n",
      "{ \"_id\" : { \"$oid\" : \"5fe25ae6e82b00006e005887\" }, \"Id\" : 95, \"SepalLengthCm\" : 5.5999999999999996447, \"SepalWidthCm\" : 2.7000000000000001776, \"PetalLengthCm\" : 4.2000000000000001776, \"PetalWidthCm\" : 1.3000000000000000444, \"Species\" : \"Iris-versicolor\" }\n",
      "{ \"_id\" : { \"$oid\" : \"5fe25ae6e82b00006e005888\" }, \"Id\" : 96, \"SepalLengthCm\" : 5.7000000000000001776, \"SepalWidthCm\" : 3.0, \"PetalLengthCm\" : 4.2000000000000001776, \"PetalWidthCm\" : 1.1999999999999999556, \"Species\" : \"Iris-versicolor\" }\n",
      "{ \"_id\" : { \"$oid\" : \"5fe25ae6e82b00006e005889\" }, \"Id\" : 97, \"SepalLengthCm\" : 5.7000000000000001776, \"SepalWidthCm\" : 2.8999999999999999112, \"PetalLengthCm\" : 4.2000000000000001776, \"PetalWidthCm\" : 1.3000000000000000444, \"Species\" : \"Iris-versicolor\" }\n",
      "{ \"_id\" : { \"$oid\" : \"5fe25ae6e82b00006e00588a\" }, \"Id\" : 98, \"SepalLengthCm\" : 6.2000000000000001776, \"SepalWidthCm\" : 2.8999999999999999112, \"PetalLengthCm\" : 4.2999999999999998224, \"PetalWidthCm\" : 1.3000000000000000444, \"Species\" : \"Iris-versicolor\" }\n",
      "{ \"_id\" : { \"$oid\" : \"5fe25ae6e82b00006e00588b\" }, \"Id\" : 99, \"SepalLengthCm\" : 5.0999999999999996447, \"SepalWidthCm\" : 2.5, \"PetalLengthCm\" : 3.0, \"PetalWidthCm\" : 1.1000000000000000888, \"Species\" : \"Iris-versicolor\" }\n",
      "{ \"_id\" : { \"$oid\" : \"5fe25ae6e82b00006e00588c\" }, \"Id\" : 100, \"SepalLengthCm\" : 5.7000000000000001776, \"SepalWidthCm\" : 2.7999999999999998224, \"PetalLengthCm\" : 4.0999999999999996447, \"PetalWidthCm\" : 1.3000000000000000444, \"Species\" : \"Iris-versicolor\" }\n",
      "{ \"_id\" : { \"$oid\" : \"5fe25ae6e82b00006e00588d\" }, \"Id\" : 101, \"SepalLengthCm\" : 6.2999999999999998224, \"SepalWidthCm\" : 3.2999999999999998224, \"PetalLengthCm\" : 6.0, \"PetalWidthCm\" : 2.5, \"Species\" : \"Iris-virginica\" }\n",
      "{ \"_id\" : { \"$oid\" : \"5fe25ae6e82b00006e00588e\" }, \"Id\" : 102, \"SepalLengthCm\" : 5.7999999999999998224, \"SepalWidthCm\" : 2.7000000000000001776, \"PetalLengthCm\" : 5.0999999999999996447, \"PetalWidthCm\" : 1.8999999999999999112, \"Species\" : \"Iris-virginica\" }\n",
      "{ \"_id\" : { \"$oid\" : \"5fe25ae6e82b00006e00588f\" }, \"Id\" : 103, \"SepalLengthCm\" : 7.0999999999999996447, \"SepalWidthCm\" : 3.0, \"PetalLengthCm\" : 5.9000000000000003553, \"PetalWidthCm\" : 2.1000000000000000888, \"Species\" : \"Iris-virginica\" }\n",
      "{ \"_id\" : { \"$oid\" : \"5fe25ae6e82b00006e005890\" }, \"Id\" : 104, \"SepalLengthCm\" : 6.2999999999999998224, \"SepalWidthCm\" : 2.8999999999999999112, \"PetalLengthCm\" : 5.5999999999999996447, \"PetalWidthCm\" : 1.8000000000000000444, \"Species\" : \"Iris-virginica\" }\n",
      "{ \"_id\" : { \"$oid\" : \"5fe25ae6e82b00006e005891\" }, \"Id\" : 105, \"SepalLengthCm\" : 6.5, \"SepalWidthCm\" : 3.0, \"PetalLengthCm\" : 5.7999999999999998224, \"PetalWidthCm\" : 2.2000000000000001776, \"Species\" : \"Iris-virginica\" }\n",
      "{ \"_id\" : { \"$oid\" : \"5fe25ae6e82b00006e005892\" }, \"Id\" : 106, \"SepalLengthCm\" : 7.5999999999999996447, \"SepalWidthCm\" : 3.0, \"PetalLengthCm\" : 6.5999999999999996447, \"PetalWidthCm\" : 2.1000000000000000888, \"Species\" : \"Iris-virginica\" }\n",
      "{ \"_id\" : { \"$oid\" : \"5fe25ae6e82b00006e005893\" }, \"Id\" : 107, \"SepalLengthCm\" : 4.9000000000000003553, \"SepalWidthCm\" : 2.5, \"PetalLengthCm\" : 4.5, \"PetalWidthCm\" : 1.6999999999999999556, \"Species\" : \"Iris-virginica\" }\n",
      "{ \"_id\" : { \"$oid\" : \"5fe25ae6e82b00006e005894\" }, \"Id\" : 108, \"SepalLengthCm\" : 7.2999999999999998224, \"SepalWidthCm\" : 2.8999999999999999112, \"PetalLengthCm\" : 6.2999999999999998224, \"PetalWidthCm\" : 1.8000000000000000444, \"Species\" : \"Iris-virginica\" }\n",
      "{ \"_id\" : { \"$oid\" : \"5fe25ae6e82b00006e005895\" }, \"Id\" : 109, \"SepalLengthCm\" : 6.7000000000000001776, \"SepalWidthCm\" : 2.5, \"PetalLengthCm\" : 5.7999999999999998224, \"PetalWidthCm\" : 1.8000000000000000444, \"Species\" : \"Iris-virginica\" }\n",
      "{ \"_id\" : { \"$oid\" : \"5fe25ae6e82b00006e005896\" }, \"Id\" : 110, \"SepalLengthCm\" : 7.2000000000000001776, \"SepalWidthCm\" : 3.6000000000000000888, \"PetalLengthCm\" : 6.0999999999999996447, \"PetalWidthCm\" : 2.5, \"Species\" : \"Iris-virginica\" }\n",
      "{ \"_id\" : { \"$oid\" : \"5fe25ae6e82b00006e005897\" }, \"Id\" : 111, \"SepalLengthCm\" : 6.5, \"SepalWidthCm\" : 3.2000000000000001776, \"PetalLengthCm\" : 5.0999999999999996447, \"PetalWidthCm\" : 2.0, \"Species\" : \"Iris-virginica\" }\n",
      "{ \"_id\" : { \"$oid\" : \"5fe25ae6e82b00006e005898\" }, \"Id\" : 112, \"SepalLengthCm\" : 6.4000000000000003553, \"SepalWidthCm\" : 2.7000000000000001776, \"PetalLengthCm\" : 5.2999999999999998224, \"PetalWidthCm\" : 1.8999999999999999112, \"Species\" : \"Iris-virginica\" }\n",
      "{ \"_id\" : { \"$oid\" : \"5fe25ae6e82b00006e005899\" }, \"Id\" : 113, \"SepalLengthCm\" : 6.7999999999999998224, \"SepalWidthCm\" : 3.0, \"PetalLengthCm\" : 5.5, \"PetalWidthCm\" : 2.1000000000000000888, \"Species\" : \"Iris-virginica\" }\n",
      "{ \"_id\" : { \"$oid\" : \"5fe25ae6e82b00006e00589a\" }, \"Id\" : 114, \"SepalLengthCm\" : 5.7000000000000001776, \"SepalWidthCm\" : 2.5, \"PetalLengthCm\" : 5.0, \"PetalWidthCm\" : 2.0, \"Species\" : \"Iris-virginica\" }\n",
      "{ \"_id\" : { \"$oid\" : \"5fe25ae6e82b00006e00589b\" }, \"Id\" : 115, \"SepalLengthCm\" : 5.7999999999999998224, \"SepalWidthCm\" : 2.7999999999999998224, \"PetalLengthCm\" : 5.0999999999999996447, \"PetalWidthCm\" : 2.3999999999999999112, \"Species\" : \"Iris-virginica\" }\n",
      "{ \"_id\" : { \"$oid\" : \"5fe25ae6e82b00006e00589c\" }, \"Id\" : 116, \"SepalLengthCm\" : 6.4000000000000003553, \"SepalWidthCm\" : 3.2000000000000001776, \"PetalLengthCm\" : 5.2999999999999998224, \"PetalWidthCm\" : 2.2999999999999998224, \"Species\" : \"Iris-virginica\" }\n",
      "{ \"_id\" : { \"$oid\" : \"5fe25ae6e82b00006e00589d\" }, \"Id\" : 117, \"SepalLengthCm\" : 6.5, \"SepalWidthCm\" : 3.0, \"PetalLengthCm\" : 5.5, \"PetalWidthCm\" : 1.8000000000000000444, \"Species\" : \"Iris-virginica\" }\n",
      "{ \"_id\" : { \"$oid\" : \"5fe25ae6e82b00006e00589e\" }, \"Id\" : 118, \"SepalLengthCm\" : 7.7000000000000001776, \"SepalWidthCm\" : 3.7999999999999998224, \"PetalLengthCm\" : 6.7000000000000001776, \"PetalWidthCm\" : 2.2000000000000001776, \"Species\" : \"Iris-virginica\" }\n",
      "{ \"_id\" : { \"$oid\" : \"5fe25ae6e82b00006e00589f\" }, \"Id\" : 119, \"SepalLengthCm\" : 7.7000000000000001776, \"SepalWidthCm\" : 2.6000000000000000888, \"PetalLengthCm\" : 6.9000000000000003553, \"PetalWidthCm\" : 2.2999999999999998224, \"Species\" : \"Iris-virginica\" }\n",
      "{ \"_id\" : { \"$oid\" : \"5fe25ae6e82b00006e0058a0\" }, \"Id\" : 120, \"SepalLengthCm\" : 6.0, \"SepalWidthCm\" : 2.2000000000000001776, \"PetalLengthCm\" : 5.0, \"PetalWidthCm\" : 1.5, \"Species\" : \"Iris-virginica\" }\n",
      "{ \"_id\" : { \"$oid\" : \"5fe25ae6e82b00006e0058a1\" }, \"Id\" : 121, \"SepalLengthCm\" : 6.9000000000000003553, \"SepalWidthCm\" : 3.2000000000000001776, \"PetalLengthCm\" : 5.7000000000000001776, \"PetalWidthCm\" : 2.2999999999999998224, \"Species\" : \"Iris-virginica\" }\n",
      "{ \"_id\" : { \"$oid\" : \"5fe25ae6e82b00006e0058a2\" }, \"Id\" : 122, \"SepalLengthCm\" : 5.5999999999999996447, \"SepalWidthCm\" : 2.7999999999999998224, \"PetalLengthCm\" : 4.9000000000000003553, \"PetalWidthCm\" : 2.0, \"Species\" : \"Iris-virginica\" }\n",
      "{ \"_id\" : { \"$oid\" : \"5fe25ae6e82b00006e0058a3\" }, \"Id\" : 123, \"SepalLengthCm\" : 7.7000000000000001776, \"SepalWidthCm\" : 2.7999999999999998224, \"PetalLengthCm\" : 6.7000000000000001776, \"PetalWidthCm\" : 2.0, \"Species\" : \"Iris-virginica\" }\n",
      "{ \"_id\" : { \"$oid\" : \"5fe25ae6e82b00006e0058a4\" }, \"Id\" : 124, \"SepalLengthCm\" : 6.2999999999999998224, \"SepalWidthCm\" : 2.7000000000000001776, \"PetalLengthCm\" : 4.9000000000000003553, \"PetalWidthCm\" : 1.8000000000000000444, \"Species\" : \"Iris-virginica\" }\n",
      "{ \"_id\" : { \"$oid\" : \"5fe25ae6e82b00006e0058a5\" }, \"Id\" : 125, \"SepalLengthCm\" : 6.7000000000000001776, \"SepalWidthCm\" : 3.2999999999999998224, \"PetalLengthCm\" : 5.7000000000000001776, \"PetalWidthCm\" : 2.1000000000000000888, \"Species\" : \"Iris-virginica\" }\n",
      "{ \"_id\" : { \"$oid\" : \"5fe25ae6e82b00006e0058a6\" }, \"Id\" : 126, \"SepalLengthCm\" : 7.2000000000000001776, \"SepalWidthCm\" : 3.2000000000000001776, \"PetalLengthCm\" : 6.0, \"PetalWidthCm\" : 1.8000000000000000444, \"Species\" : \"Iris-virginica\" }\n",
      "{ \"_id\" : { \"$oid\" : \"5fe25ae6e82b00006e0058a7\" }, \"Id\" : 127, \"SepalLengthCm\" : 6.2000000000000001776, \"SepalWidthCm\" : 2.7999999999999998224, \"PetalLengthCm\" : 4.7999999999999998224, \"PetalWidthCm\" : 1.8000000000000000444, \"Species\" : \"Iris-virginica\" }\n",
      "{ \"_id\" : { \"$oid\" : \"5fe25ae6e82b00006e0058a8\" }, \"Id\" : 128, \"SepalLengthCm\" : 6.0999999999999996447, \"SepalWidthCm\" : 3.0, \"PetalLengthCm\" : 4.9000000000000003553, \"PetalWidthCm\" : 1.8000000000000000444, \"Species\" : \"Iris-virginica\" }\n",
      "{ \"_id\" : { \"$oid\" : \"5fe25ae6e82b00006e0058a9\" }, \"Id\" : 129, \"SepalLengthCm\" : 6.4000000000000003553, \"SepalWidthCm\" : 2.7999999999999998224, \"PetalLengthCm\" : 5.5999999999999996447, \"PetalWidthCm\" : 2.1000000000000000888, \"Species\" : \"Iris-virginica\" }\n",
      "{ \"_id\" : { \"$oid\" : \"5fe25ae6e82b00006e0058aa\" }, \"Id\" : 130, \"SepalLengthCm\" : 7.2000000000000001776, \"SepalWidthCm\" : 3.0, \"PetalLengthCm\" : 5.7999999999999998224, \"PetalWidthCm\" : 1.6000000000000000888, \"Species\" : \"Iris-virginica\" }\n",
      "{ \"_id\" : { \"$oid\" : \"5fe25ae6e82b00006e0058ab\" }, \"Id\" : 131, \"SepalLengthCm\" : 7.4000000000000003553, \"SepalWidthCm\" : 2.7999999999999998224, \"PetalLengthCm\" : 6.0999999999999996447, \"PetalWidthCm\" : 1.8999999999999999112, \"Species\" : \"Iris-virginica\" }\n",
      "{ \"_id\" : { \"$oid\" : \"5fe25ae6e82b00006e0058ac\" }, \"Id\" : 132, \"SepalLengthCm\" : 7.9000000000000003553, \"SepalWidthCm\" : 3.7999999999999998224, \"PetalLengthCm\" : 6.4000000000000003553, \"PetalWidthCm\" : 2.0, \"Species\" : \"Iris-virginica\" }\n",
      "{ \"_id\" : { \"$oid\" : \"5fe25ae6e82b00006e0058ad\" }, \"Id\" : 133, \"SepalLengthCm\" : 6.4000000000000003553, \"SepalWidthCm\" : 2.7999999999999998224, \"PetalLengthCm\" : 5.5999999999999996447, \"PetalWidthCm\" : 2.2000000000000001776, \"Species\" : \"Iris-virginica\" }\n",
      "{ \"_id\" : { \"$oid\" : \"5fe25ae6e82b00006e0058ae\" }, \"Id\" : 134, \"SepalLengthCm\" : 6.2999999999999998224, \"SepalWidthCm\" : 2.7999999999999998224, \"PetalLengthCm\" : 5.0999999999999996447, \"PetalWidthCm\" : 1.5, \"Species\" : \"Iris-virginica\" }\n",
      "{ \"_id\" : { \"$oid\" : \"5fe25ae6e82b00006e0058af\" }, \"Id\" : 135, \"SepalLengthCm\" : 6.0999999999999996447, \"SepalWidthCm\" : 2.6000000000000000888, \"PetalLengthCm\" : 5.5999999999999996447, \"PetalWidthCm\" : 1.3999999999999999112, \"Species\" : \"Iris-virginica\" }\n",
      "{ \"_id\" : { \"$oid\" : \"5fe25ae6e82b00006e0058b0\" }, \"Id\" : 136, \"SepalLengthCm\" : 7.7000000000000001776, \"SepalWidthCm\" : 3.0, \"PetalLengthCm\" : 6.0999999999999996447, \"PetalWidthCm\" : 2.2999999999999998224, \"Species\" : \"Iris-virginica\" }\n",
      "{ \"_id\" : { \"$oid\" : \"5fe25ae6e82b00006e0058b1\" }, \"Id\" : 137, \"SepalLengthCm\" : 6.2999999999999998224, \"SepalWidthCm\" : 3.3999999999999999112, \"PetalLengthCm\" : 5.5999999999999996447, \"PetalWidthCm\" : 2.3999999999999999112, \"Species\" : \"Iris-virginica\" }\n",
      "{ \"_id\" : { \"$oid\" : \"5fe25ae6e82b00006e0058b2\" }, \"Id\" : 138, \"SepalLengthCm\" : 6.4000000000000003553, \"SepalWidthCm\" : 3.1000000000000000888, \"PetalLengthCm\" : 5.5, \"PetalWidthCm\" : 1.8000000000000000444, \"Species\" : \"Iris-virginica\" }\n",
      "{ \"_id\" : { \"$oid\" : \"5fe25ae6e82b00006e0058b3\" }, \"Id\" : 139, \"SepalLengthCm\" : 6.0, \"SepalWidthCm\" : 3.0, \"PetalLengthCm\" : 4.7999999999999998224, \"PetalWidthCm\" : 1.8000000000000000444, \"Species\" : \"Iris-virginica\" }\n",
      "{ \"_id\" : { \"$oid\" : \"5fe25ae6e82b00006e0058b4\" }, \"Id\" : 140, \"SepalLengthCm\" : 6.9000000000000003553, \"SepalWidthCm\" : 3.1000000000000000888, \"PetalLengthCm\" : 5.4000000000000003553, \"PetalWidthCm\" : 2.1000000000000000888, \"Species\" : \"Iris-virginica\" }\n",
      "{ \"_id\" : { \"$oid\" : \"5fe25ae6e82b00006e0058b5\" }, \"Id\" : 141, \"SepalLengthCm\" : 6.7000000000000001776, \"SepalWidthCm\" : 3.1000000000000000888, \"PetalLengthCm\" : 5.5999999999999996447, \"PetalWidthCm\" : 2.3999999999999999112, \"Species\" : \"Iris-virginica\" }\n",
      "{ \"_id\" : { \"$oid\" : \"5fe25ae6e82b00006e0058b6\" }, \"Id\" : 142, \"SepalLengthCm\" : 6.9000000000000003553, \"SepalWidthCm\" : 3.1000000000000000888, \"PetalLengthCm\" : 5.0999999999999996447, \"PetalWidthCm\" : 2.2999999999999998224, \"Species\" : \"Iris-virginica\" }\n",
      "{ \"_id\" : { \"$oid\" : \"5fe25ae6e82b00006e0058b7\" }, \"Id\" : 143, \"SepalLengthCm\" : 5.7999999999999998224, \"SepalWidthCm\" : 2.7000000000000001776, \"PetalLengthCm\" : 5.0999999999999996447, \"PetalWidthCm\" : 1.8999999999999999112, \"Species\" : \"Iris-virginica\" }\n",
      "{ \"_id\" : { \"$oid\" : \"5fe25ae6e82b00006e0058b8\" }, \"Id\" : 144, \"SepalLengthCm\" : 6.7999999999999998224, \"SepalWidthCm\" : 3.2000000000000001776, \"PetalLengthCm\" : 5.9000000000000003553, \"PetalWidthCm\" : 2.2999999999999998224, \"Species\" : \"Iris-virginica\" }\n",
      "{ \"_id\" : { \"$oid\" : \"5fe25ae6e82b00006e0058b9\" }, \"Id\" : 145, \"SepalLengthCm\" : 6.7000000000000001776, \"SepalWidthCm\" : 3.2999999999999998224, \"PetalLengthCm\" : 5.7000000000000001776, \"PetalWidthCm\" : 2.5, \"Species\" : \"Iris-virginica\" }\n",
      "{ \"_id\" : { \"$oid\" : \"5fe25ae6e82b00006e0058ba\" }, \"Id\" : 146, \"SepalLengthCm\" : 6.7000000000000001776, \"SepalWidthCm\" : 3.0, \"PetalLengthCm\" : 5.2000000000000001776, \"PetalWidthCm\" : 2.2999999999999998224, \"Species\" : \"Iris-virginica\" }\n",
      "{ \"_id\" : { \"$oid\" : \"5fe25ae6e82b00006e0058bb\" }, \"Id\" : 147, \"SepalLengthCm\" : 6.2999999999999998224, \"SepalWidthCm\" : 2.5, \"PetalLengthCm\" : 5.0, \"PetalWidthCm\" : 1.8999999999999999112, \"Species\" : \"Iris-virginica\" }\n",
      "{ \"_id\" : { \"$oid\" : \"5fe25ae6e82b00006e0058bc\" }, \"Id\" : 148, \"SepalLengthCm\" : 6.5, \"SepalWidthCm\" : 3.0, \"PetalLengthCm\" : 5.2000000000000001776, \"PetalWidthCm\" : 2.0, \"Species\" : \"Iris-virginica\" }\n",
      "{ \"_id\" : { \"$oid\" : \"5fe25ae6e82b00006e0058bd\" }, \"Id\" : 149, \"SepalLengthCm\" : 6.2000000000000001776, \"SepalWidthCm\" : 3.3999999999999999112, \"PetalLengthCm\" : 5.4000000000000003553, \"PetalWidthCm\" : 2.2999999999999998224, \"Species\" : \"Iris-virginica\" }\n",
      "{ \"_id\" : { \"$oid\" : \"5fe25ae6e82b00006e0058be\" }, \"Id\" : 150, \"SepalLengthCm\" : 5.9000000000000003553, \"SepalWidthCm\" : 3.0, \"PetalLengthCm\" : 5.0999999999999996447, \"PetalWidthCm\" : 1.8000000000000000444, \"Species\" : \"Iris-virginica\" }\n"
     ]
    }
   ],
   "source": [
    "#\n",
    "iris$export(stdout())"
   ]
  },
  {
   "cell_type": "code",
   "execution_count": 48,
   "metadata": {},
   "outputs": [],
   "source": [
    "iris$export(file(\"dumpIris.json\"))"
   ]
  },
  {
   "cell_type": "code",
   "execution_count": 49,
   "metadata": {},
   "outputs": [],
   "source": [
    "iris$export(file(\"D:/praticas/datasets/CSV/dumpIris.json\"))"
   ]
  },
  {
   "cell_type": "markdown",
   "metadata": {},
   "source": [
    "### Importar "
   ]
  }
 ],
 "metadata": {
  "kernelspec": {
   "display_name": "R",
   "language": "R",
   "name": "ir"
  },
  "language_info": {
   "codemirror_mode": "r",
   "file_extension": ".r",
   "mimetype": "text/x-r-source",
   "name": "R",
   "pygments_lexer": "r",
   "version": "3.6.1"
  }
 },
 "nbformat": 4,
 "nbformat_minor": 4
}

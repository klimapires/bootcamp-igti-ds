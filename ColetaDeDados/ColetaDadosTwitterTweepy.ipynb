{
 "cells": [
  {
   "cell_type": "code",
   "execution_count": 2,
   "metadata": {},
   "outputs": [],
   "source": [
    "#comando para instalar o tweepy\n",
    "#conda install -c condda-forge tweepy\n",
    "\n",
    "import tweepy\n",
    "import json"
   ]
  },
  {
   "cell_type": "code",
   "execution_count": 5,
   "metadata": {},
   "outputs": [
    {
     "name": "stdout",
     "output_type": "stream",
     "text": [
      "D:/jupyter/credenciais.json\n"
     ]
    }
   ],
   "source": [
    "path = \"D:/jupyter/credenciais.json\"\n",
    "\n",
    "print(path)"
   ]
  },
  {
   "cell_type": "code",
   "execution_count": 6,
   "metadata": {},
   "outputs": [],
   "source": [
    "with open(path) as arquivo:\n",
    "  credenciais = json.load(arquivo)"
   ]
  },
  {
   "cell_type": "code",
   "execution_count": 7,
   "metadata": {},
   "outputs": [],
   "source": [
    "auth = tweepy.OAuthHandler(credenciais['consumer_key'], credenciais['consumer_secret'])\n",
    "auth.set_access_token(credenciais['access_token'], credenciais['access_token_secret'])\n",
    "token = tweepy.API(auth)\n"
   ]
  },
  {
   "cell_type": "code",
   "execution_count": 8,
   "metadata": {},
   "outputs": [
    {
     "name": "stdout",
     "output_type": "stream",
     "text": [
      "Authentication OK\n"
     ]
    }
   ],
   "source": [
    "try:\n",
    "    token.verify_credentials()\n",
    "    print(\"Authentication OK\")\n",
    "except:\n",
    "    print(\"Error during authentication\")"
   ]
  },
  {
   "cell_type": "markdown",
   "metadata": {},
   "source": [
    "### Realizando busca por palavras chaves"
   ]
  },
  {
   "cell_type": "code",
   "execution_count": 9,
   "metadata": {},
   "outputs": [],
   "source": [
    "keyword = ('covid OR covid-19 OR corona OR coronavirus')"
   ]
  },
  {
   "cell_type": "code",
   "execution_count": 10,
   "metadata": {},
   "outputs": [],
   "source": [
    "# Fazer a busca por palavra chave\n",
    "\n",
    "tweets = token.search(q=keyword, count=10, result_type='mixed')\n",
    "\n",
    "#tweets = token.search(q=keyword, count=10, result_type='mixed', tweet_mode='extended', lang='pt')"
   ]
  },
  {
   "cell_type": "markdown",
   "metadata": {},
   "source": [
    "#### Observação:\n",
    "\n",
    "Fazer a busca por palavra chave, busca o text do tweet truncado:\n",
    "\n",
    "-> tweets = token.search(q=keyword, lang='pt')\n",
    "\n",
    "Fazer a busca por palavra chave, busca o text do tweet por inteiro\n",
    "\n",
    "-> tweets = token.search(q=keyword, tweet_mode='extended')"
   ]
  },
  {
   "cell_type": "code",
   "execution_count": 11,
   "metadata": {},
   "outputs": [
    {
     "name": "stdout",
     "output_type": "stream",
     "text": [
      "Total de tweets coletados 10.\n"
     ]
    }
   ],
   "source": [
    "print(\"Total de tweets coletados %s.\" %(len(tweets)))"
   ]
  },
  {
   "cell_type": "code",
   "execution_count": 12,
   "metadata": {},
   "outputs": [
    {
     "name": "stdout",
     "output_type": "stream",
     "text": [
      "Usuário: {'SyedSaddiq'}\n",
      "  Tweet: {'Tak perlu ada PhD untuk tahu rakyat sekarang sedang susah, lapar dan sakit. \\n\\nJangan 24/7 fikir soal kuasa sahaja.… https://t.co/AaYgvDTt4h'}\n",
      "Usuário: {'narendramodi'}\n",
      "  Tweet: {'On 16th January, India takes a landmark step forward in fighting COVID-19. Starting that day, India’s nation-wide v… https://t.co/yCxVZwkzhJ'}\n",
      "Usuário: {'SergioSarmiento'}\n",
      "  Tweet: {'AMLO quiere desaparecer el @INAImexico. Al mismo tiempo, reserva por cinco años los contratos de compra de las vacu… https://t.co/dKIVAQraU6'}\n",
      "Usuário: {'prefecturamons1'}\n",
      "  Tweet: {'RT @PartidoPSUV: La mayoría de las personas que contraen la COVID-19 se recuperan de la enfermedad sin necesidad de realizar un tratamiento…'}\n",
      "Usuário: {'bebepfm'}\n",
      "  Tweet: {'RT @pedro_ramirez_: @HLGatell No nos importan los números y gráficas que presentas en redes.\\n\\n• Visita un hospital COVID. \\n• Acelera el pro…'}\n",
      "Usuário: {'TelemundoSports'}\n",
      "  Tweet: {'😎¡ ‘TUCA’ Y GIGNAC INICIAN CON EL PIE DERECHO EN EL #Guardianes2021!\\n\\n🐯 @TigresOficial le abolla la corona de campe… https://t.co/ZYxckBG45r'}\n",
      "Usuário: {'dandebailey'}\n",
      "  Tweet: {\"RT @reikokoyama79: Tonight, I'm really angry. I'm tired of being isolated, I'm tired of having covid stats shoved down my throat, and threa…\"}\n",
      "Usuário: {'Haidyn26374112'}\n",
      "  Tweet: {'RT @Franklin_Graham: More of the @SamaritansPurse Emergency Field Hospital we are deploying to California just arrived there and is being u…'}\n",
      "Usuário: {'TKerrKY'}\n",
      "  Tweet: {'RT @Franklin_Graham: More of the @SamaritansPurse Emergency Field Hospital we are deploying to California just arrived there and is being u…'}\n",
      "Usuário: {'38plus2'}\n",
      "  Tweet: {'RT @yinyangashh: Just because the COVID symptoms you had weren’t bad &amp; you recovered just fine doesn’t mean “COVID isn’t a big deal”.. just…'}\n"
     ]
    }
   ],
   "source": [
    "for tweet in tweets:\n",
    "    print(\"Usuário: %s\" %{tweet.user.screen_name})\n",
    "    print(\"  Tweet: %s\" %{tweet.text})\n",
    "    #print(\"  Tweet: %s\" %{tweet.full_text}) #Caso a busca seja realizada pelo modo extended"
   ]
  },
  {
   "cell_type": "markdown",
   "metadata": {},
   "source": [
    "## Análise de polaridade\n",
    "\n",
    "Para fazer **análise de polaridade**, vamos usar a *função sentiment.polarity* do pacote *TextBlob*.\n",
    "\n",
    "*   A função *função sentiment.polarity* retornará um número entre -1 e 1, onde quanto maior esse númmero, menos \"chateado\" a pessoa que postou está, ou seja, quanto maior esse número mais positivo é o tweet. Podemos considerar que a polaridade 0 (zero) pode indicar uma neutralidade do tweet."
   ]
  },
  {
   "cell_type": "code",
   "execution_count": 15,
   "metadata": {},
   "outputs": [],
   "source": [
    "#comando para instalar o textblob\n",
    "#conda install -c condda-forge textblob\n",
    "#importar pacotes\n",
    "\n",
    "from textblob import TextBlob as tb\n",
    "import numpy as np"
   ]
  },
  {
   "cell_type": "code",
   "execution_count": 118,
   "metadata": {},
   "outputs": [],
   "source": [
    "analysis = None"
   ]
  },
  {
   "cell_type": "code",
   "execution_count": 119,
   "metadata": {},
   "outputs": [],
   "source": [
    "tweets_score = []"
   ]
  },
  {
   "cell_type": "code",
   "execution_count": 120,
   "metadata": {},
   "outputs": [
    {
     "name": "stdout",
     "output_type": "stream",
     "text": [
      "** Hello! ☀️\n",
      "It’s a new day!\n",
      "\n",
      "Who’s ready to PUSH? 🙋🏽‍♀️🙋🏾🙋🏼‍♂️\n",
      "\n",
      "Ready to PUSH for retroactive COVID relief? 💸\n",
      "And to… https://t.co/B8A83NqVSc\n",
      "** Hari ini mencatatkan kes COVID tertinggi iaitu 3,027 kes.\n",
      "\n",
      "Ya Allah. Tolong selamatkan Malaysia.\n",
      "** Astonishing fact the UK has suffered more Covid deaths in 24 hours (1,041) than Australia has since the START OF TH… https://t.co/En4XR0rcuG\n",
      "** RT @ClareCraigPath: COVID seems to have an extraordinarily good understanding of political borders. Look at Netherlands, Lithuania, Portuga…\n",
      "** RT @canalCCore2: Caminhoneiro é o único grupo organizado no brasil  que quando fala faz, e ngm pode falar 1 piu pq os caras trabalham pra k…\n",
      "** RT @NCAIPRC: View our latest weekly #COVID19 data reports for Indian Country: https://t.co/btX4vXlZVI.  Over 150K total cases, 209 new deat…\n",
      "** -Mamá ya puedo salir a jugar? No tuvimos covid!-\n",
      "\n",
      "-Sal pues mi niño 🥰\n",
      "** RT @MinSaludCol: #Atención | No existe en este momento ninguna evidencia científica de que la aceleración de la transmisión del COVID-19 en…\n",
      "** @gianevol2 es que encima los lugares donde se puede donar el pelo no están recibiendo por el coronavirus 😢😢\n",
      "** RT @benitez_leo: CLARITO Y ES REAL\n",
      "\n",
      "DEFENSA Y JUSTICIA 🇦🇷 NO JUEGA POR 3 CASOS DE COVID\n",
      "\n",
      "ATHLETICO PARANAENSE 🇧🇷 TUVO 15 CONTRA RIVER 🇦🇷\n",
      "\n",
      "S…\n"
     ]
    }
   ],
   "source": [
    "for tweet in tweets:\n",
    "    print('**', tweet.text)\n",
    "    analysis = tb(tweet.text)\n",
    "    polarity = analysis.sentiment.polarity\n",
    "    tweets_score.append(polarity)"
   ]
  },
  {
   "cell_type": "code",
   "execution_count": 126,
   "metadata": {},
   "outputs": [
    {
     "name": "stdout",
     "output_type": "stream",
     "text": [
      "Vetor de polaridade:  [0.19015151515151518, 0.0, 0.5, 0.35, 0.0, 0.21212121212121213, 0.0, 0.0, 0.0, 0.2]\n"
     ]
    }
   ],
   "source": [
    "print(\"Vetor de polaridade: \", tweets_score)"
   ]
  },
  {
   "cell_type": "code",
   "execution_count": 127,
   "metadata": {},
   "outputs": [
    {
     "name": "stdout",
     "output_type": "stream",
     "text": [
      "Média de sentimento: 0.1452272727272727\n"
     ]
    }
   ],
   "source": [
    "print(\"Média de sentimento: \" + str(np.mean(tweets_score)))"
   ]
  },
  {
   "cell_type": "markdown",
   "metadata": {},
   "source": [
    "#### Analise de polaridade para tweets que não foram postados em inglês"
   ]
  },
  {
   "cell_type": "code",
   "execution_count": 16,
   "metadata": {},
   "outputs": [
    {
     "name": "stdout",
     "output_type": "stream",
     "text": [
      "Texto traduzido There is no need for a PhD to know the people are currently struggling, hungry and sick.\n",
      "\n",
      "Don't just think about power 24/7.… Https://t.co/AaYgvDTt4h: \n",
      "Texto traduzido AMLO wants to disappear @INAImexico. At the same time, it reserves the vacu purchase contracts for five years ... https://t.co/dKIVAQraU6: \n",
      "Texto traduzido RT @PartidoPSUV: Most people who contract COVID-19 recover from the disease without the need for treatment ...: \n",
      "Texto traduzido RT @pedro_ramirez_: @HLGatell We do not care about the numbers and graphs that you present in networks.\n",
      "\n",
      "• Visit a COVID hospital.\n",
      "• Accelerates the pro ...: \n",
      "Texto traduzido 😎¡ ‘TUCA’ AND GIGNAC START WITH THE RIGHT FOOT IN THE # Guardianes2021!\n",
      "\n",
      "🐯 @TigresOficial dents the champion's crown… https://t.co/ZYxckBG45r: \n"
     ]
    }
   ],
   "source": [
    "polarities = []\n",
    "\n",
    "for tweet in tweets:\n",
    "    analisys = tb(tweet.text)\n",
    "    \n",
    "    if analisys.detect_language() != 'en':\n",
    "        \n",
    "        traducao = tb(str(analisys.translate(to='en')))\n",
    "        \n",
    "        print('Texto traduzido %s: ' % traducao)\n",
    "        \n",
    "        polarity = traducao.sentiment.polarity\n",
    "    else:\n",
    "        polarity = analisys.sentiment.polarity\n",
    "    \n",
    "    polarities.append(polarity)"
   ]
  },
  {
   "cell_type": "code",
   "execution_count": 17,
   "metadata": {},
   "outputs": [
    {
     "name": "stdout",
     "output_type": "stream",
     "text": [
      "Vetor de polaridade:  [-0.35714285714285715, 0.0, 0.1, 0.5, 0.0, 0.3571428571428571, -0.36388888888888893, 0.5, 0.5, -0.1489583333333333]\n"
     ]
    }
   ],
   "source": [
    "print(\"Vetor de polaridade: \", polarities)"
   ]
  },
  {
   "cell_type": "code",
   "execution_count": 18,
   "metadata": {},
   "outputs": [
    {
     "name": "stdout",
     "output_type": "stream",
     "text": [
      "Média de sentimento: 0.10871527777777776\n"
     ]
    }
   ],
   "source": [
    "print(\"Média de sentimento: \" + str(np.mean(polarities)))"
   ]
  },
  {
   "cell_type": "markdown",
   "metadata": {},
   "source": [
    "#### *Armazenar em arquivos*"
   ]
  },
  {
   "cell_type": "code",
   "execution_count": 19,
   "metadata": {},
   "outputs": [],
   "source": [
    "status = tweets[0]\n",
    "\n",
    "#converte para string\n",
    "json_str = json.dumps(status._json)\n",
    "\n",
    "#deserialise string para um objeto python\n",
    "parsed = json.loads(json_str)"
   ]
  },
  {
   "cell_type": "code",
   "execution_count": 20,
   "metadata": {},
   "outputs": [
    {
     "data": {
      "text/plain": [
       "tweepy.models.SearchResults"
      ]
     },
     "execution_count": 20,
     "metadata": {},
     "output_type": "execute_result"
    }
   ],
   "source": [
    "type(tweets)"
   ]
  },
  {
   "cell_type": "code",
   "execution_count": 21,
   "metadata": {},
   "outputs": [
    {
     "data": {
      "text/plain": [
       "str"
      ]
     },
     "execution_count": 21,
     "metadata": {},
     "output_type": "execute_result"
    }
   ],
   "source": [
    "type(json_str)"
   ]
  },
  {
   "cell_type": "code",
   "execution_count": 22,
   "metadata": {},
   "outputs": [
    {
     "data": {
      "text/plain": [
       "dict"
      ]
     },
     "execution_count": 22,
     "metadata": {},
     "output_type": "execute_result"
    }
   ],
   "source": [
    "type(parsed)"
   ]
  },
  {
   "cell_type": "markdown",
   "metadata": {},
   "source": [
    "Agora vamos deserializar os tweets e gravar no arquivo json"
   ]
  },
  {
   "cell_type": "code",
   "execution_count": 23,
   "metadata": {},
   "outputs": [],
   "source": [
    "datasetPath = 'D:\\praticas\\datasets\\JSON'\n",
    "\n",
    "with open(datasetPath+'\\\\tweets_keywords.json', 'a', encoding='utf-8') as filename:\n",
    "\n",
    "    for tweet in tweets:\n",
    "        \n",
    "        status = tweet\n",
    "\n",
    "        json_str = json.dumps(status._json)\n",
    "\n",
    "        parsed = json.loads(json_str)\n",
    "        \n",
    "        json.dump(parsed, filename, ensure_ascii=False, sort_keys=True, indent=4, separators=(',', ':'))"
   ]
  },
  {
   "cell_type": "markdown",
   "metadata": {},
   "source": [
    "Armazenar no MongoDB"
   ]
  },
  {
   "cell_type": "code",
   "execution_count": 142,
   "metadata": {},
   "outputs": [],
   "source": [
    "import pymongo"
   ]
  },
  {
   "cell_type": "code",
   "execution_count": 143,
   "metadata": {},
   "outputs": [],
   "source": [
    "conn = pymongo.MongoClient('localhost', 27017)\n",
    "\n",
    "db = conn.twitterdb"
   ]
  },
  {
   "cell_type": "code",
   "execution_count": 144,
   "metadata": {},
   "outputs": [],
   "source": [
    "collection = db.tweets_keywords"
   ]
  },
  {
   "cell_type": "code",
   "execution_count": 146,
   "metadata": {},
   "outputs": [
    {
     "name": "stderr",
     "output_type": "stream",
     "text": [
      "<ipython-input-146-1a70292c1cc1>:1: DeprecationWarning: count is deprecated. Use estimated_document_count or count_documents instead. Please note that $where must be replaced by $expr, $near must be replaced by $geoWithin with $center, and $nearSphere must be replaced by $geoWithin with $centerSphere\n",
      "  db.tweets_keywords.count()\n"
     ]
    },
    {
     "data": {
      "text/plain": [
       "0"
      ]
     },
     "execution_count": 146,
     "metadata": {},
     "output_type": "execute_result"
    }
   ],
   "source": [
    "db.tweets_keywords.count()"
   ]
  },
  {
   "cell_type": "code",
   "execution_count": 147,
   "metadata": {},
   "outputs": [
    {
     "data": {
      "text/plain": [
       "0"
      ]
     },
     "execution_count": 147,
     "metadata": {},
     "output_type": "execute_result"
    }
   ],
   "source": [
    "db.tweets_keywords.count_documents({})"
   ]
  },
  {
   "cell_type": "code",
   "execution_count": 148,
   "metadata": {},
   "outputs": [],
   "source": [
    "i = 0\n",
    "\n",
    "for tweet in tweets:\n",
    "    db.tweets_keywords.insert_one(tweet._json)\n",
    "    i = i+1"
   ]
  },
  {
   "cell_type": "code",
   "execution_count": 151,
   "metadata": {},
   "outputs": [
    {
     "name": "stdout",
     "output_type": "stream",
     "text": [
      "Quantidade de tweets inseridos no banco: 10\n"
     ]
    }
   ],
   "source": [
    "print ('Quantidade de tweets inseridos no banco: %s' % i )"
   ]
  },
  {
   "cell_type": "code",
   "execution_count": 152,
   "metadata": {},
   "outputs": [
    {
     "data": {
      "text/plain": [
       "10"
      ]
     },
     "execution_count": 152,
     "metadata": {},
     "output_type": "execute_result"
    }
   ],
   "source": [
    "db.tweets_keywords.count_documents({})"
   ]
  }
 ],
 "metadata": {
  "kernelspec": {
   "display_name": "Python 3",
   "language": "python",
   "name": "python3"
  },
  "language_info": {
   "codemirror_mode": {
    "name": "ipython",
    "version": 3
   },
   "file_extension": ".py",
   "mimetype": "text/x-python",
   "name": "python",
   "nbconvert_exporter": "python",
   "pygments_lexer": "ipython3",
   "version": "3.8.5"
  }
 },
 "nbformat": 4,
 "nbformat_minor": 4
}

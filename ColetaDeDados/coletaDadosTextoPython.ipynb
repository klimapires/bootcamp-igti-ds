{
 "cells": [
  {
   "cell_type": "markdown",
   "metadata": {},
   "source": [
    "# Coleta de dados em arquivos texto"
   ]
  },
  {
   "cell_type": "markdown",
   "metadata": {},
   "source": [
    "### Importando bibliotecas"
   ]
  },
  {
   "cell_type": "code",
   "execution_count": 1,
   "metadata": {},
   "outputs": [],
   "source": [
    "import os\n",
    "from datetime import datetime"
   ]
  },
  {
   "cell_type": "markdown",
   "metadata": {},
   "source": [
    "### Definindo métodos"
   ]
  },
  {
   "cell_type": "code",
   "execution_count": 2,
   "metadata": {},
   "outputs": [],
   "source": [
    "class color:\n",
    "    PURPLE = '\\033[95m'\n",
    "    CYAN = '\\033[96m'\n",
    "    DARKCYAN = '\\033[36m'\n",
    "    BLUE = '\\033[94m'\n",
    "    GREEN = '\\033[92m'\n",
    "    YELLOW = '\\033[93m'\n",
    "    RED = '\\033[91m'\n",
    "    ORANGE = '\\033[33m'\n",
    "    BOLD = '\\033[1m'\n",
    "    UNDERLINE = '\\033[4m'\n",
    "    END = '\\033[0m'"
   ]
  },
  {
   "cell_type": "code",
   "execution_count": 3,
   "metadata": {},
   "outputs": [],
   "source": [
    "# Funcao para retornar o diretorio dos Datasets\n",
    "def setDatasetPath():\n",
    "    return 'D:\\praticas\\datasets\\TXT'\n",
    "\n",
    "# Metodo para leitura do arquivo (leitura total)\n",
    "def readFileContent(filename):\n",
    "    try:\n",
    "        fileobject = open(filename, \"r\", encoding = 'utf-8')\n",
    "        print(color.BOLD + color.BLUE + '\\nO conteúdo do arquivo ' + filename + ' é:\\n' + color.END)\n",
    "        if fileobject.mode == 'r':\n",
    "            filecontents = fileobject.read()\n",
    "            print (filecontents)\n",
    "        fileobject.close()\n",
    "    except FileNotFoundError:\n",
    "        print(color.BOLD + color.RED + '\\nEroo ao tentar ler o arquivo! \\nO arquivo ' + filename + ' não existe.' + color.END)\n",
    "\n",
    "# Metodo para leitura do arquivo (leitura por linhas)\n",
    "def readFileLines(filename):\n",
    "    try:\n",
    "        print(color.BOLD + color.BLUE + '\\nAs linhas do arquivo ' + filename + ' são:\\n' + color.END)\n",
    "        fileobject = open(filename, \"r\", encoding = 'utf-8')\n",
    "        filelines = fileobject.readlines()\n",
    "        \n",
    "        numline = 1\n",
    "        \n",
    "        for line in filelines:\n",
    "            print('Linha ' +str(numline) + ': ' + line, end = '')\n",
    "            numline = numline + 1\n",
    "        fileobject.close()\n",
    "    except FileNotFoundError:\n",
    "        print(color.BOLD + color.RED + '\\nErro ao tentar ler o arquivo! \\nO arquivo ' + filename + ' não existe.' + color.END)\n",
    "\n",
    "# Metodo para alteracao de arquivo\n",
    "def appendFile(filename):\n",
    "    fileobject = open(filename, \"a\", encoding = 'utf-8')\n",
    "    \n",
    "    fileobject.write('\\n')\n",
    "    fileobject.write('\\nOlá, essa é uma manipulação escrita')\n",
    "    now = datetime.now()\n",
    "    date_time = now.strftime(\"%d/%m/%Y, %H:%M:%S\")\n",
    "    fileobject.write('\\n--> Hoje é: ' + str(date_time))\n",
    "    \n",
    "    fileobject.write(\"\\n\\n\")\n",
    "    fileobject.write(\"Olá Pessoal!\")\n",
    "    fileobject.write('\\n--> Hoje é: ' + str(date_time))\n",
    "    \n",
    "    fileobject.close()\n",
    "    \n",
    "# Metodo para escrita de arquivo\n",
    "def writeFile(filename):\n",
    "    fileobject=open(filename, \"w\", encoding = 'utf-8')\n",
    "    fileobject.write('Arquivo ' + filename + ' aberto em modo de escrita (w).')\n",
    "    now = datetime.now()\n",
    "    date_time = now.strftime(\"%d/%m/%Y, %H:%M:%S\")\n",
    "    fileobject.write('\\n--> Hoje é: ' + str(date_time))\n",
    "    fileobject.close()\n",
    "\n",
    "# Metodo para criacao de arquivo\n",
    "def createFile(filename):\n",
    "    try:\n",
    "        fileobject=open(filename, \"x\", encoding = 'utf-8')\n",
    "        fileobject.write('Este é um novo arquivo, criado usando o modo de criação')\n",
    "        fileobject.close()\n",
    "    except FileExistsError:\n",
    "        print('\\nErro ao tentar criar o arquivo! \\nO arquivo ' + filename + ' já existe.')"
   ]
  },
  {
   "cell_type": "markdown",
   "metadata": {},
   "source": [
    "### Executa os métodos criados "
   ]
  },
  {
   "cell_type": "code",
   "execution_count": 4,
   "metadata": {},
   "outputs": [],
   "source": [
    "datasetPath = setDatasetPath()"
   ]
  },
  {
   "cell_type": "markdown",
   "metadata": {},
   "source": [
    "**Leitura de arquivo txt**"
   ]
  },
  {
   "cell_type": "code",
   "execution_count": 5,
   "metadata": {},
   "outputs": [
    {
     "name": "stdout",
     "output_type": "stream",
     "text": [
      "\u001b[96mSerá lido o seguinte arquivo: \u001b[0mD:\\praticas\\datasets\\TXT\\arquivoTextoRead.txt\n"
     ]
    }
   ],
   "source": [
    "#Define arquivo a ser lido\n",
    "filename = datasetPath + '\\\\arquivoTextoRead.txt'\n",
    "\n",
    "print(color.CYAN + 'Será lido o seguinte arquivo: ' + color.END + filename)"
   ]
  },
  {
   "cell_type": "code",
   "execution_count": 6,
   "metadata": {},
   "outputs": [
    {
     "name": "stdout",
     "output_type": "stream",
     "text": [
      "\u001b[1m\u001b[94m\n",
      "O conteúdo do arquivo D:\\praticas\\datasets\\TXT\\arquivoTextoRead.txt é:\n",
      "\u001b[0m\n",
      "Coleta de dados por txt\n",
      "\n",
      "Exemplos de dados pessoais:\n",
      "o nome e apelido;\n",
      "o endereço de uma residência;\n",
      "um endereço de correio eletrónico como nome.apelido@empresa.com;\n",
      "o número de um cartão de identificação;\n",
      "dados de localização (por exemplo, a função de dados de localização num telemóvel)*;\n",
      "um endereço IP (protocolo de internet);\n",
      "testemunhos de conexão (cookies);\n",
      "o identificador de publicidade do seu telefone;\n",
      "os dados detidos por um hospital ou médico, que permitam identificar uma pessoa de forma inequívoca.\n",
      "\n"
     ]
    }
   ],
   "source": [
    "readFileContent(filename)"
   ]
  },
  {
   "cell_type": "code",
   "execution_count": 7,
   "metadata": {},
   "outputs": [
    {
     "name": "stdout",
     "output_type": "stream",
     "text": [
      "\u001b[1m\u001b[94m\n",
      "As linhas do arquivo D:\\praticas\\datasets\\TXT\\arquivoTextoRead.txt são:\n",
      "\u001b[0m\n",
      "Linha 1: Coleta de dados por txt\n",
      "Linha 2: \n",
      "Linha 3: Exemplos de dados pessoais:\n",
      "Linha 4: o nome e apelido;\n",
      "Linha 5: o endereço de uma residência;\n",
      "Linha 6: um endereço de correio eletrónico como nome.apelido@empresa.com;\n",
      "Linha 7: o número de um cartão de identificação;\n",
      "Linha 8: dados de localização (por exemplo, a função de dados de localização num telemóvel)*;\n",
      "Linha 9: um endereço IP (protocolo de internet);\n",
      "Linha 10: testemunhos de conexão (cookies);\n",
      "Linha 11: o identificador de publicidade do seu telefone;\n",
      "Linha 12: os dados detidos por um hospital ou médico, que permitam identificar uma pessoa de forma inequívoca.\n"
     ]
    }
   ],
   "source": [
    "readFileLines(filename)"
   ]
  },
  {
   "cell_type": "code",
   "execution_count": 8,
   "metadata": {},
   "outputs": [
    {
     "name": "stdout",
     "output_type": "stream",
     "text": [
      "\u001b[1m\u001b[92mAppend em um marquivo existente.\n",
      "\u001b[0m\n",
      "\u001b[1m\u001b[94m\n",
      "O conteúdo do arquivo D:\\praticas\\datasets\\TXT\\arquivoTextoAppend1.txt é:\n",
      "\u001b[0m\n",
      "\n",
      "\n",
      "Olá, essa é uma manipulação escrita\n",
      "--> Hoje é: 12/\n",
      "/2020, 20:27:25\n",
      "\n",
      "Olá Pessoal!\n",
      "--> Hoje é: 12/\n",
      "/2020, 20:27:25\n",
      "\n",
      "Olá, essa é uma manipulação escrita\n",
      "--> Hoje é: 12/12/2020, 20:27:57\n",
      "\n",
      "Olá Pessoal!\n",
      "--> Hoje é: 12/12/2020, 20:27:57\n",
      "\u001b[1m\u001b[94m\n",
      "O conteúdo do arquivo D:\\praticas\\datasets\\TXT\\arquivoTextoAppend1.txt é:\n",
      "\u001b[0m\n",
      "\n",
      "\n",
      "Olá, essa é uma manipulação escrita\n",
      "--> Hoje é: 12/\n",
      "/2020, 20:27:25\n",
      "\n",
      "Olá Pessoal!\n",
      "--> Hoje é: 12/\n",
      "/2020, 20:27:25\n",
      "\n",
      "Olá, essa é uma manipulação escrita\n",
      "--> Hoje é: 12/12/2020, 20:27:57\n",
      "\n",
      "Olá Pessoal!\n",
      "--> Hoje é: 12/12/2020, 20:27:57\n",
      "\n",
      "Olá, essa é uma manipulação escrita\n",
      "--> Hoje é: 18/12/2020, 09:47:05\n",
      "\n",
      "Olá Pessoal!\n",
      "--> Hoje é: 18/12/2020, 09:47:05\n"
     ]
    }
   ],
   "source": [
    "print(color.BOLD + color.GREEN + 'Append em um marquivo existente.\\n' + color.END)\n",
    "\n",
    "filename = datasetPath + '\\\\arquivoTextoAppend1.txt'\n",
    "\n",
    "readFileContent(filename)\n",
    "\n",
    "appendFile(filename)\n",
    "\n",
    "readFileContent (filename)"
   ]
  },
  {
   "cell_type": "code",
   "execution_count": 9,
   "metadata": {},
   "outputs": [
    {
     "name": "stdout",
     "output_type": "stream",
     "text": [
      "\u001b[1m\u001b[92mAppend em um marquivo não existente.\n",
      "\u001b[0m\n",
      "\u001b[1m\u001b[94m\n",
      "O conteúdo do arquivo D:\\praticas\\datasets\\TXT\\arquivoTextoAppend2.txt é:\n",
      "\u001b[0m\n",
      "\n",
      "\n",
      "Olá, essa é uma manipulação escrita\n",
      "--> Hoje é: 12/12/2020, 20:30:21\n",
      "\n",
      "Olá Pessoal!\n",
      "--> Hoje é: 12/12/2020, 20:30:21\n",
      "\u001b[1m\u001b[94m\n",
      "O conteúdo do arquivo D:\\praticas\\datasets\\TXT\\arquivoTextoAppend2.txt é:\n",
      "\u001b[0m\n",
      "\n",
      "\n",
      "Olá, essa é uma manipulação escrita\n",
      "--> Hoje é: 12/12/2020, 20:30:21\n",
      "\n",
      "Olá Pessoal!\n",
      "--> Hoje é: 12/12/2020, 20:30:21\n",
      "\n",
      "Olá, essa é uma manipulação escrita\n",
      "--> Hoje é: 18/12/2020, 09:47:09\n",
      "\n",
      "Olá Pessoal!\n",
      "--> Hoje é: 18/12/2020, 09:47:09\n"
     ]
    }
   ],
   "source": [
    "print(color.BOLD + color.GREEN + 'Append em um marquivo não existente.\\n' + color.END)\n",
    "\n",
    "filename = datasetPath + '\\\\arquivoTextoAppend2.txt'\n",
    "\n",
    "readFileContent(filename)\n",
    "\n",
    "appendFile(filename)\n",
    "\n",
    "readFileContent (filename)"
   ]
  },
  {
   "cell_type": "code",
   "execution_count": 10,
   "metadata": {},
   "outputs": [
    {
     "name": "stdout",
     "output_type": "stream",
     "text": [
      "\u001b[1m\u001b[95mEscrever (sobrescrever) um arquivo que já existe.\n",
      "\u001b[0m\n",
      "\u001b[1m\u001b[94m\n",
      "O conteúdo do arquivo D:\\praticas\\datasets\\TXT\\arquivoTextoWrite1.txt é:\n",
      "\u001b[0m\n",
      "Arquivo D:\\praticas\\datasets\\TXT\\arquivoTextoWrite1.txt aberto em modo de escrita (w).\n",
      "--> Hoje é: 12/12/2020, 20:33:19\n",
      "\u001b[1m\u001b[94m\n",
      "O conteúdo do arquivo D:\\praticas\\datasets\\TXT\\arquivoTextoWrite1.txt é:\n",
      "\u001b[0m\n",
      "Arquivo D:\\praticas\\datasets\\TXT\\arquivoTextoWrite1.txt aberto em modo de escrita (w).\n",
      "--> Hoje é: 18/12/2020, 09:47:19\n"
     ]
    }
   ],
   "source": [
    "print(color.BOLD + color.PURPLE + 'Escrever (sobrescrever) um arquivo que já existe.\\n' + color.END)\n",
    "\n",
    "filename = datasetPath + '\\\\arquivoTextoWrite1.txt'\n",
    "\n",
    "readFileContent(filename)\n",
    "\n",
    "writeFile(filename)\n",
    "\n",
    "readFileContent (filename)"
   ]
  },
  {
   "cell_type": "code",
   "execution_count": 11,
   "metadata": {},
   "outputs": [
    {
     "name": "stdout",
     "output_type": "stream",
     "text": [
      "\u001b[1m\u001b[95mEscrever (sobrescrever) um arquivo que já existe.\n",
      "\u001b[0m\n",
      "\u001b[1m\u001b[94m\n",
      "O conteúdo do arquivo D:\\praticas\\datasets\\TXT\\arquivoTextoWrite2.txt é:\n",
      "\u001b[0m\n",
      "Arquivo D:\\praticas\\datasets\\TXT\\arquivoTextoWrite2.txt aberto em modo de escrita (w).\n",
      "--> Hoje é: 12/12/2020, 20:34:43\n",
      "\u001b[1m\u001b[94m\n",
      "O conteúdo do arquivo D:\\praticas\\datasets\\TXT\\arquivoTextoWrite2.txt é:\n",
      "\u001b[0m\n",
      "Arquivo D:\\praticas\\datasets\\TXT\\arquivoTextoWrite2.txt aberto em modo de escrita (w).\n",
      "--> Hoje é: 18/12/2020, 09:47:26\n"
     ]
    }
   ],
   "source": [
    "print(color.BOLD + color.PURPLE + 'Escrever (sobrescrever) um arquivo que já existe.\\n' + color.END)\n",
    "\n",
    "filename = datasetPath + '\\\\arquivoTextoWrite2.txt'\n",
    "\n",
    "readFileContent(filename)\n",
    "\n",
    "writeFile(filename)\n",
    "\n",
    "readFileContent (filename)"
   ]
  },
  {
   "cell_type": "code",
   "execution_count": 12,
   "metadata": {},
   "outputs": [
    {
     "name": "stdout",
     "output_type": "stream",
     "text": [
      "\u001b[1m\u001b[33mCriar um arquivo que já existe.\n",
      "\u001b[0m\n",
      "\u001b[1m\u001b[94m\n",
      "O conteúdo do arquivo D:\\praticas\\datasets\\TXT\\arquivoTextoCreate1.txt é:\n",
      "\u001b[0m\n",
      "\n",
      "\n",
      "Erro ao tentar criar o arquivo! \n",
      "O arquivo D:\\praticas\\datasets\\TXT\\arquivoTextoCreate1.txt já existe.\n",
      "\u001b[1m\u001b[33mCriar um arquivo que já existe.\n",
      "\u001b[0m\n",
      "\u001b[1m\u001b[94m\n",
      "O conteúdo do arquivo D:\\praticas\\datasets\\TXT\\arquivoTextoCreate2.txt é:\n",
      "\u001b[0m\n",
      "\n",
      "\n",
      "Erro ao tentar criar o arquivo! \n",
      "O arquivo D:\\praticas\\datasets\\TXT\\arquivoTextoCreate2.txt já existe.\n",
      "\u001b[1m\u001b[94m\n",
      "O conteúdo do arquivo D:\\praticas\\datasets\\TXT\\arquivoTextoCreate2.txt é:\n",
      "\u001b[0m\n",
      "\n"
     ]
    }
   ],
   "source": [
    "print(color.BOLD + color.ORANGE + 'Criar um arquivo que já existe.\\n' + color.END)\n",
    "filename = datasetPath + '\\\\arquivoTextoCreate1.txt'\n",
    "readFileContent(filename)\n",
    "createFile(filename)\n",
    "\n",
    "print(color.BOLD + color.ORANGE + 'Criar um arquivo que já existe.\\n' + color.END)\n",
    "filename = datasetPath + '\\\\arquivoTextoCreate2.txt'\n",
    "readFileContent(filename)\n",
    "createFile(filename)\n",
    "readFileContent(filename)"
   ]
  },
  {
   "cell_type": "code",
   "execution_count": 13,
   "metadata": {},
   "outputs": [
    {
     "name": "stdout",
     "output_type": "stream",
     "text": [
      "O diretorio de trabalho é: C:\\Users\\Kleber Lima\\PraticasBootcamp\n",
      "\u001b[1m\n",
      "A lista de arquivos e/ou diretorios é: \u001b[0m\n",
      "['arquivoTextoAppend1.txt', 'arquivoTextoAppend2.txt', 'arquivoTextoCreate1.txt', 'arquivoTextoCreate2.txt', 'arquivoTextoRead.txt', 'arquivoTextoWrite1.txt', 'arquivoTextoWrite2.txt']\n"
     ]
    }
   ],
   "source": [
    "working_directory = os.getcwd()\n",
    "\n",
    "print('O diretorio de trabalho é: ' + working_directory)\n",
    "\n",
    "filelist = os.listdir(datasetPath)\n",
    "print(color.BOLD + '\\nA lista de arquivos e/ou diretorios é: ' + color.END)\n",
    "print(filelist)"
   ]
  }
 ],
 "metadata": {
  "kernelspec": {
   "display_name": "Python 3",
   "language": "python",
   "name": "python3"
  },
  "language_info": {
   "codemirror_mode": {
    "name": "ipython",
    "version": 3
   },
   "file_extension": ".py",
   "mimetype": "text/x-python",
   "name": "python",
   "nbconvert_exporter": "python",
   "pygments_lexer": "ipython3",
   "version": "3.8.5"
  }
 },
 "nbformat": 4,
 "nbformat_minor": 4
}
